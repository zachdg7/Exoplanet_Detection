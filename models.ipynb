{
 "cells": [
  {
   "cell_type": "markdown",
   "metadata": {},
   "source": [
    "### Imports:"
   ]
  },
  {
   "cell_type": "code",
   "execution_count": 1,
   "metadata": {},
   "outputs": [
    {
     "name": "stderr",
     "output_type": "stream",
     "text": [
      "Using TensorFlow backend.\n"
     ]
    },
    {
     "name": "stdout",
     "output_type": "stream",
     "text": [
      "Couldn't import dot_parser, loading of dot files will not be possible.\n"
     ]
    }
   ],
   "source": [
    "import pandas as pd\n",
    "import matplotlib.pyplot as plt\n",
    "import numpy as np\n",
    "\n",
    "from sklearn.preprocessing import StandardScaler\n",
    "\n",
    "from keras.models import Sequential\n",
    "from keras.layers import Dense, Dropout, Activation, Flatten\n",
    "from keras.layers import Conv1D, MaxPooling1D\n",
    "from keras.utils import np_utils\n",
    "from keras import optimizers\n",
    "\n",
    "from sklearn.model_selection import train_test_split\n",
    "\n",
    "%matplotlib inline"
   ]
  },
  {
   "cell_type": "markdown",
   "metadata": {},
   "source": [
    "### Load the Data:"
   ]
  },
  {
   "cell_type": "code",
   "execution_count": 2,
   "metadata": {},
   "outputs": [],
   "source": [
    "has_planets = pd.read_csv('../clean_planet_data/rand_non_null_planets.csv')"
   ]
  },
  {
   "cell_type": "code",
   "execution_count": 3,
   "metadata": {},
   "outputs": [],
   "source": [
    "kep3 = pd.read_csv('../clean_planet_data/clean_cut_kepc3.csv')"
   ]
  },
  {
   "cell_type": "code",
   "execution_count": 4,
   "metadata": {},
   "outputs": [],
   "source": [
    "k2c1 = pd.read_csv('../clean_planet_data/clean_cut_k2c1.csv')"
   ]
  },
  {
   "cell_type": "markdown",
   "metadata": {},
   "source": [
    "### Preparing Training Set:\n",
    "Mixing confirmed planets into data so the model can learn what they are like"
   ]
  },
  {
   "cell_type": "code",
   "execution_count": 5,
   "metadata": {},
   "outputs": [
    {
     "data": {
      "text/plain": [
       "(5087, 3199)"
      ]
     },
     "execution_count": 5,
     "metadata": {},
     "output_type": "execute_result"
    }
   ],
   "source": [
    "kep3.shape"
   ]
  },
  {
   "cell_type": "code",
   "execution_count": 6,
   "metadata": {},
   "outputs": [
    {
     "data": {
      "text/plain": [
       "(4550, 3199)"
      ]
     },
     "execution_count": 6,
     "metadata": {},
     "output_type": "execute_result"
    }
   ],
   "source": [
    "k2c1.shape"
   ]
  },
  {
   "cell_type": "code",
   "execution_count": 7,
   "metadata": {},
   "outputs": [
    {
     "data": {
      "text/plain": [
       "(1166, 3915)"
      ]
     },
     "execution_count": 7,
     "metadata": {},
     "output_type": "execute_result"
    }
   ],
   "source": [
    "has_planets.shape"
   ]
  },
  {
   "cell_type": "code",
   "execution_count": 8,
   "metadata": {
    "scrolled": true
   },
   "outputs": [
    {
     "data": {
      "text/plain": [
       "(1166, 3199)"
      ]
     },
     "execution_count": 8,
     "metadata": {},
     "output_type": "execute_result"
    }
   ],
   "source": [
    "# cut out the extra data to compare across the same timeline\n",
    "join_planets = has_planets.iloc[:,:3199]\n",
    "join_planets.shape"
   ]
  },
  {
   "cell_type": "code",
   "execution_count": 9,
   "metadata": {},
   "outputs": [],
   "source": [
    "# make sure the dataframes have the same column names\n",
    "join_planets.columns = kep3.columns\n",
    "# k2c1.columns = join_planets.columns\n",
    "\n",
    "# label the confirmed planet systems with 1\n",
    "join_planets['LABEL'] = 1\n",
    "# k2c1['LABEL'] = 0"
   ]
  },
  {
   "cell_type": "code",
   "execution_count": 10,
   "metadata": {},
   "outputs": [
    {
     "data": {
      "text/html": [
       "<div>\n",
       "<style scoped>\n",
       "    .dataframe tbody tr th:only-of-type {\n",
       "        vertical-align: middle;\n",
       "    }\n",
       "\n",
       "    .dataframe tbody tr th {\n",
       "        vertical-align: top;\n",
       "    }\n",
       "\n",
       "    .dataframe thead th {\n",
       "        text-align: right;\n",
       "    }\n",
       "</style>\n",
       "<table border=\"1\" class=\"dataframe\">\n",
       "  <thead>\n",
       "    <tr style=\"text-align: right;\">\n",
       "      <th></th>\n",
       "      <th>name</th>\n",
       "      <th>LABEL</th>\n",
       "      <th>FLUX.1</th>\n",
       "      <th>FLUX.2</th>\n",
       "      <th>FLUX.3</th>\n",
       "      <th>FLUX.4</th>\n",
       "      <th>FLUX.5</th>\n",
       "      <th>FLUX.6</th>\n",
       "      <th>FLUX.7</th>\n",
       "      <th>FLUX.8</th>\n",
       "      <th>...</th>\n",
       "      <th>FLUX.3188</th>\n",
       "      <th>FLUX.3189</th>\n",
       "      <th>FLUX.3190</th>\n",
       "      <th>FLUX.3191</th>\n",
       "      <th>FLUX.3192</th>\n",
       "      <th>FLUX.3193</th>\n",
       "      <th>FLUX.3194</th>\n",
       "      <th>FLUX.3195</th>\n",
       "      <th>FLUX.3196</th>\n",
       "      <th>FLUX.3197</th>\n",
       "    </tr>\n",
       "  </thead>\n",
       "  <tbody>\n",
       "    <tr>\n",
       "      <th>0</th>\n",
       "      <td>KIC 10000941</td>\n",
       "      <td>1</td>\n",
       "      <td>52902.074219</td>\n",
       "      <td>52927.621094</td>\n",
       "      <td>52939.589844</td>\n",
       "      <td>52911.21875</td>\n",
       "      <td>52920.886719</td>\n",
       "      <td>52934.554688</td>\n",
       "      <td>52921.554688</td>\n",
       "      <td>52937.226562</td>\n",
       "      <td>...</td>\n",
       "      <td>50983.238281</td>\n",
       "      <td>50983.949219</td>\n",
       "      <td>50995.265625</td>\n",
       "      <td>50997.300781</td>\n",
       "      <td>50993.734375</td>\n",
       "      <td>51004.308594</td>\n",
       "      <td>50999.628906</td>\n",
       "      <td>51006.1875</td>\n",
       "      <td>51016.789062</td>\n",
       "      <td>51033.65625</td>\n",
       "    </tr>\n",
       "  </tbody>\n",
       "</table>\n",
       "<p>1 rows × 3199 columns</p>\n",
       "</div>"
      ],
      "text/plain": [
       "           name  LABEL        FLUX.1        FLUX.2        FLUX.3       FLUX.4  \\\n",
       "0  KIC 10000941      1  52902.074219  52927.621094  52939.589844  52911.21875   \n",
       "\n",
       "         FLUX.5        FLUX.6        FLUX.7        FLUX.8     ...       \\\n",
       "0  52920.886719  52934.554688  52921.554688  52937.226562     ...        \n",
       "\n",
       "      FLUX.3188     FLUX.3189     FLUX.3190     FLUX.3191     FLUX.3192  \\\n",
       "0  50983.238281  50983.949219  50995.265625  50997.300781  50993.734375   \n",
       "\n",
       "      FLUX.3193     FLUX.3194   FLUX.3195     FLUX.3196    FLUX.3197  \n",
       "0  51004.308594  50999.628906  51006.1875  51016.789062  51033.65625  \n",
       "\n",
       "[1 rows x 3199 columns]"
      ]
     },
     "execution_count": 10,
     "metadata": {},
     "output_type": "execute_result"
    }
   ],
   "source": [
    "join_planets.head(1)"
   ]
  },
  {
   "cell_type": "code",
   "execution_count": 11,
   "metadata": {},
   "outputs": [
    {
     "data": {
      "text/html": [
       "<div>\n",
       "<style scoped>\n",
       "    .dataframe tbody tr th:only-of-type {\n",
       "        vertical-align: middle;\n",
       "    }\n",
       "\n",
       "    .dataframe tbody tr th {\n",
       "        vertical-align: top;\n",
       "    }\n",
       "\n",
       "    .dataframe thead th {\n",
       "        text-align: right;\n",
       "    }\n",
       "</style>\n",
       "<table border=\"1\" class=\"dataframe\">\n",
       "  <thead>\n",
       "    <tr style=\"text-align: right;\">\n",
       "      <th></th>\n",
       "      <th>name</th>\n",
       "      <th>LABEL</th>\n",
       "      <th>FLUX.1</th>\n",
       "      <th>FLUX.2</th>\n",
       "      <th>FLUX.3</th>\n",
       "      <th>FLUX.4</th>\n",
       "      <th>FLUX.5</th>\n",
       "      <th>FLUX.6</th>\n",
       "      <th>FLUX.7</th>\n",
       "      <th>FLUX.8</th>\n",
       "      <th>...</th>\n",
       "      <th>FLUX.3188</th>\n",
       "      <th>FLUX.3189</th>\n",
       "      <th>FLUX.3190</th>\n",
       "      <th>FLUX.3191</th>\n",
       "      <th>FLUX.3192</th>\n",
       "      <th>FLUX.3193</th>\n",
       "      <th>FLUX.3194</th>\n",
       "      <th>FLUX.3195</th>\n",
       "      <th>FLUX.3196</th>\n",
       "      <th>FLUX.3197</th>\n",
       "    </tr>\n",
       "  </thead>\n",
       "  <tbody>\n",
       "    <tr>\n",
       "      <th>0</th>\n",
       "      <td>NaN</td>\n",
       "      <td>1</td>\n",
       "      <td>93.85</td>\n",
       "      <td>83.81</td>\n",
       "      <td>20.1</td>\n",
       "      <td>-26.98</td>\n",
       "      <td>-39.56</td>\n",
       "      <td>-124.71</td>\n",
       "      <td>-135.18</td>\n",
       "      <td>-96.27</td>\n",
       "      <td>...</td>\n",
       "      <td>-78.07</td>\n",
       "      <td>-102.15</td>\n",
       "      <td>-102.15</td>\n",
       "      <td>25.13</td>\n",
       "      <td>48.57</td>\n",
       "      <td>92.54</td>\n",
       "      <td>39.32</td>\n",
       "      <td>61.42</td>\n",
       "      <td>5.08</td>\n",
       "      <td>-39.54</td>\n",
       "    </tr>\n",
       "  </tbody>\n",
       "</table>\n",
       "<p>1 rows × 3199 columns</p>\n",
       "</div>"
      ],
      "text/plain": [
       "   name  LABEL  FLUX.1  FLUX.2  FLUX.3  FLUX.4  FLUX.5  FLUX.6  FLUX.7  \\\n",
       "0   NaN      1   93.85   83.81    20.1  -26.98  -39.56 -124.71 -135.18   \n",
       "\n",
       "   FLUX.8    ...      FLUX.3188  FLUX.3189  FLUX.3190  FLUX.3191  FLUX.3192  \\\n",
       "0  -96.27    ...         -78.07    -102.15    -102.15      25.13      48.57   \n",
       "\n",
       "   FLUX.3193  FLUX.3194  FLUX.3195  FLUX.3196  FLUX.3197  \n",
       "0      92.54      39.32      61.42       5.08     -39.54  \n",
       "\n",
       "[1 rows x 3199 columns]"
      ]
     },
     "execution_count": 11,
     "metadata": {},
     "output_type": "execute_result"
    }
   ],
   "source": [
    "kep3.head(1)"
   ]
  },
  {
   "cell_type": "code",
   "execution_count": 12,
   "metadata": {},
   "outputs": [
    {
     "data": {
      "text/html": [
       "<div>\n",
       "<style scoped>\n",
       "    .dataframe tbody tr th:only-of-type {\n",
       "        vertical-align: middle;\n",
       "    }\n",
       "\n",
       "    .dataframe tbody tr th {\n",
       "        vertical-align: top;\n",
       "    }\n",
       "\n",
       "    .dataframe thead th {\n",
       "        text-align: right;\n",
       "    }\n",
       "</style>\n",
       "<table border=\"1\" class=\"dataframe\">\n",
       "  <thead>\n",
       "    <tr style=\"text-align: right;\">\n",
       "      <th></th>\n",
       "      <th>name</th>\n",
       "      <th>LABEL</th>\n",
       "      <th>FLUX.1</th>\n",
       "      <th>FLUX.2</th>\n",
       "      <th>FLUX.3</th>\n",
       "      <th>FLUX.4</th>\n",
       "      <th>FLUX.5</th>\n",
       "      <th>FLUX.6</th>\n",
       "      <th>FLUX.7</th>\n",
       "      <th>FLUX.8</th>\n",
       "      <th>...</th>\n",
       "      <th>FLUX.3188</th>\n",
       "      <th>FLUX.3189</th>\n",
       "      <th>FLUX.3190</th>\n",
       "      <th>FLUX.3191</th>\n",
       "      <th>FLUX.3192</th>\n",
       "      <th>FLUX.3193</th>\n",
       "      <th>FLUX.3194</th>\n",
       "      <th>FLUX.3195</th>\n",
       "      <th>FLUX.3196</th>\n",
       "      <th>FLUX.3197</th>\n",
       "    </tr>\n",
       "  </thead>\n",
       "  <tbody>\n",
       "    <tr>\n",
       "      <th>0</th>\n",
       "      <td>KIC 10000941</td>\n",
       "      <td>1</td>\n",
       "      <td>52902.074219</td>\n",
       "      <td>52927.621094</td>\n",
       "      <td>52939.589844</td>\n",
       "      <td>52911.21875</td>\n",
       "      <td>52920.886719</td>\n",
       "      <td>52934.554688</td>\n",
       "      <td>52921.554688</td>\n",
       "      <td>52937.226562</td>\n",
       "      <td>...</td>\n",
       "      <td>50983.238281</td>\n",
       "      <td>50983.949219</td>\n",
       "      <td>50995.265625</td>\n",
       "      <td>50997.300781</td>\n",
       "      <td>50993.734375</td>\n",
       "      <td>51004.308594</td>\n",
       "      <td>50999.628906</td>\n",
       "      <td>51006.1875</td>\n",
       "      <td>51016.789062</td>\n",
       "      <td>51033.65625</td>\n",
       "    </tr>\n",
       "  </tbody>\n",
       "</table>\n",
       "<p>1 rows × 3199 columns</p>\n",
       "</div>"
      ],
      "text/plain": [
       "           name  LABEL        FLUX.1        FLUX.2        FLUX.3       FLUX.4  \\\n",
       "0  KIC 10000941      1  52902.074219  52927.621094  52939.589844  52911.21875   \n",
       "\n",
       "         FLUX.5        FLUX.6        FLUX.7        FLUX.8     ...       \\\n",
       "0  52920.886719  52934.554688  52921.554688  52937.226562     ...        \n",
       "\n",
       "      FLUX.3188     FLUX.3189     FLUX.3190     FLUX.3191     FLUX.3192  \\\n",
       "0  50983.238281  50983.949219  50995.265625  50997.300781  50993.734375   \n",
       "\n",
       "      FLUX.3193     FLUX.3194   FLUX.3195     FLUX.3196    FLUX.3197  \n",
       "0  51004.308594  50999.628906  51006.1875  51016.789062  51033.65625  \n",
       "\n",
       "[1 rows x 3199 columns]"
      ]
     },
     "execution_count": 12,
     "metadata": {},
     "output_type": "execute_result"
    }
   ],
   "source": [
    "master_df = pd.concat([join_planets, kep3], axis = 0)\n",
    "master_df.head(1)"
   ]
  },
  {
   "cell_type": "code",
   "execution_count": 13,
   "metadata": {},
   "outputs": [
    {
     "data": {
      "text/plain": [
       "(6253, 3199)"
      ]
     },
     "execution_count": 13,
     "metadata": {},
     "output_type": "execute_result"
    }
   ],
   "source": [
    "master_df.shape"
   ]
  },
  {
   "cell_type": "code",
   "execution_count": 14,
   "metadata": {},
   "outputs": [
    {
     "data": {
      "text/plain": [
       "0    5050\n",
       "1    1203\n",
       "Name: LABEL, dtype: int64"
      ]
     },
     "execution_count": 14,
     "metadata": {},
     "output_type": "execute_result"
    }
   ],
   "source": [
    "# baseline accuracy\n",
    "val_count = master_df['LABEL'].value_counts()\n",
    "val_count"
   ]
  },
  {
   "cell_type": "code",
   "execution_count": 15,
   "metadata": {},
   "outputs": [
    {
     "data": {
      "text/plain": [
       "0.7617821782178218"
      ]
     },
     "execution_count": 15,
     "metadata": {},
     "output_type": "execute_result"
    }
   ],
   "source": [
    "base_acc = val_count[1] / val_count[0]\n",
    "1 - base_acc"
   ]
  },
  {
   "cell_type": "code",
   "execution_count": 16,
   "metadata": {},
   "outputs": [],
   "source": [
    "# Make X and y\n",
    "X = master_df.iloc[:, 2:]\n",
    "y = master_df['LABEL']"
   ]
  },
  {
   "cell_type": "code",
   "execution_count": 17,
   "metadata": {},
   "outputs": [],
   "source": [
    "X_train, X_test, y_train, y_test = train_test_split(X, y, stratify = y)"
   ]
  },
  {
   "cell_type": "code",
   "execution_count": 18,
   "metadata": {},
   "outputs": [],
   "source": [
    "X_train = X_train.T\n",
    "X_test = X_test.T"
   ]
  },
  {
   "cell_type": "code",
   "execution_count": 19,
   "metadata": {},
   "outputs": [
    {
     "data": {
      "text/html": [
       "<div>\n",
       "<style scoped>\n",
       "    .dataframe tbody tr th:only-of-type {\n",
       "        vertical-align: middle;\n",
       "    }\n",
       "\n",
       "    .dataframe tbody tr th {\n",
       "        vertical-align: top;\n",
       "    }\n",
       "\n",
       "    .dataframe thead th {\n",
       "        text-align: right;\n",
       "    }\n",
       "</style>\n",
       "<table border=\"1\" class=\"dataframe\">\n",
       "  <thead>\n",
       "    <tr style=\"text-align: right;\">\n",
       "      <th></th>\n",
       "      <th>733</th>\n",
       "      <th>5060</th>\n",
       "      <th>1919</th>\n",
       "      <th>3874</th>\n",
       "      <th>814</th>\n",
       "      <th>651</th>\n",
       "      <th>1859</th>\n",
       "      <th>3286</th>\n",
       "      <th>3784</th>\n",
       "      <th>3421</th>\n",
       "      <th>...</th>\n",
       "      <th>3165</th>\n",
       "      <th>231</th>\n",
       "      <th>3026</th>\n",
       "      <th>720</th>\n",
       "      <th>141</th>\n",
       "      <th>1303</th>\n",
       "      <th>468</th>\n",
       "      <th>2619</th>\n",
       "      <th>2441</th>\n",
       "      <th>855</th>\n",
       "    </tr>\n",
       "  </thead>\n",
       "  <tbody>\n",
       "    <tr>\n",
       "      <th>FLUX.1</th>\n",
       "      <td>3222.173096</td>\n",
       "      <td>9.8</td>\n",
       "      <td>92.6</td>\n",
       "      <td>-99.33</td>\n",
       "      <td>-310.74</td>\n",
       "      <td>-64.75</td>\n",
       "      <td>71.39</td>\n",
       "      <td>23.69</td>\n",
       "      <td>43.28</td>\n",
       "      <td>-47.53</td>\n",
       "      <td>...</td>\n",
       "      <td>173.19</td>\n",
       "      <td>-22.88</td>\n",
       "      <td>-44.26</td>\n",
       "      <td>10136.717773</td>\n",
       "      <td>53.27</td>\n",
       "      <td>-14.53</td>\n",
       "      <td>-16.01</td>\n",
       "      <td>-121.08</td>\n",
       "      <td>555.14</td>\n",
       "      <td>-14.04</td>\n",
       "    </tr>\n",
       "  </tbody>\n",
       "</table>\n",
       "<p>1 rows × 4689 columns</p>\n",
       "</div>"
      ],
      "text/plain": [
       "               733   5060  1919   3874    814    651    1859   3286   3784  \\\n",
       "FLUX.1  3222.173096   9.8  92.6 -99.33 -310.74 -64.75  71.39  23.69  43.28   \n",
       "\n",
       "         3421  ...      3165   231    3026          720    141    1303   468   \\\n",
       "FLUX.1 -47.53  ...    173.19 -22.88 -44.26  10136.717773  53.27 -14.53 -16.01   \n",
       "\n",
       "          2619    2441   855   \n",
       "FLUX.1 -121.08  555.14 -14.04  \n",
       "\n",
       "[1 rows x 4689 columns]"
      ]
     },
     "execution_count": 19,
     "metadata": {},
     "output_type": "execute_result"
    }
   ],
   "source": [
    "X_train.head(1)"
   ]
  },
  {
   "cell_type": "code",
   "execution_count": 20,
   "metadata": {},
   "outputs": [
    {
     "data": {
      "text/html": [
       "<div>\n",
       "<style scoped>\n",
       "    .dataframe tbody tr th:only-of-type {\n",
       "        vertical-align: middle;\n",
       "    }\n",
       "\n",
       "    .dataframe tbody tr th {\n",
       "        vertical-align: top;\n",
       "    }\n",
       "\n",
       "    .dataframe thead th {\n",
       "        text-align: right;\n",
       "    }\n",
       "</style>\n",
       "<table border=\"1\" class=\"dataframe\">\n",
       "  <thead>\n",
       "    <tr style=\"text-align: right;\">\n",
       "      <th></th>\n",
       "      <th>3010</th>\n",
       "      <th>1062</th>\n",
       "      <th>2997</th>\n",
       "      <th>405</th>\n",
       "      <th>1819</th>\n",
       "      <th>106</th>\n",
       "      <th>302</th>\n",
       "      <th>875</th>\n",
       "      <th>1042</th>\n",
       "      <th>1273</th>\n",
       "      <th>...</th>\n",
       "      <th>267</th>\n",
       "      <th>4586</th>\n",
       "      <th>2016</th>\n",
       "      <th>2515</th>\n",
       "      <th>1913</th>\n",
       "      <th>434</th>\n",
       "      <th>2688</th>\n",
       "      <th>1055</th>\n",
       "      <th>3447</th>\n",
       "      <th>2461</th>\n",
       "    </tr>\n",
       "  </thead>\n",
       "  <tbody>\n",
       "    <tr>\n",
       "      <th>FLUX.1</th>\n",
       "      <td>88.81</td>\n",
       "      <td>29071.822266</td>\n",
       "      <td>7.79</td>\n",
       "      <td>127.03</td>\n",
       "      <td>35.89</td>\n",
       "      <td>-419.5</td>\n",
       "      <td>-58.12</td>\n",
       "      <td>17636.148438</td>\n",
       "      <td>-63.12</td>\n",
       "      <td>157.89</td>\n",
       "      <td>...</td>\n",
       "      <td>10062.138672</td>\n",
       "      <td>256.86</td>\n",
       "      <td>19.46</td>\n",
       "      <td>-30.54</td>\n",
       "      <td>-0.47</td>\n",
       "      <td>43051.882812</td>\n",
       "      <td>85.55</td>\n",
       "      <td>7489.284668</td>\n",
       "      <td>2.14</td>\n",
       "      <td>25.88</td>\n",
       "    </tr>\n",
       "  </tbody>\n",
       "</table>\n",
       "<p>1 rows × 1564 columns</p>\n",
       "</div>"
      ],
      "text/plain": [
       "         3010          1062  2997    405    1819   106    302           875   \\\n",
       "FLUX.1  88.81  29071.822266  7.79  127.03  35.89 -419.5 -58.12  17636.148438   \n",
       "\n",
       "         1042    1273  ...            267     4586   2016   2515  1913  \\\n",
       "FLUX.1 -63.12  157.89  ...    10062.138672  256.86  19.46 -30.54 -0.47   \n",
       "\n",
       "                434    2688         1055  3447   2461  \n",
       "FLUX.1  43051.882812  85.55  7489.284668  2.14  25.88  \n",
       "\n",
       "[1 rows x 1564 columns]"
      ]
     },
     "execution_count": 20,
     "metadata": {},
     "output_type": "execute_result"
    }
   ],
   "source": [
    "X_test.head(1)"
   ]
  },
  {
   "cell_type": "code",
   "execution_count": 21,
   "metadata": {},
   "outputs": [],
   "source": [
    "# Scaling\n",
    "ss = StandardScaler()\n",
    "\n",
    "scaled_df = ss.fit_transform(X_train)\n",
    "X_train = pd.DataFrame(scaled_df, columns=X_train.columns)\n",
    "\n",
    "#####FIXME!!!! you shouldn't be fit transforming, just transforming\n",
    "test_scaled_df = ss.fit_transform(X_test)\n",
    "X_test = pd.DataFrame(test_scaled_df, columns=X_test.columns)"
   ]
  },
  {
   "cell_type": "code",
   "execution_count": 22,
   "metadata": {},
   "outputs": [],
   "source": [
    "X_train = X_train.T\n",
    "X_test = X_test.T"
   ]
  },
  {
   "cell_type": "code",
   "execution_count": 23,
   "metadata": {
    "scrolled": true
   },
   "outputs": [
    {
     "data": {
      "text/html": [
       "<div>\n",
       "<style scoped>\n",
       "    .dataframe tbody tr th:only-of-type {\n",
       "        vertical-align: middle;\n",
       "    }\n",
       "\n",
       "    .dataframe tbody tr th {\n",
       "        vertical-align: top;\n",
       "    }\n",
       "\n",
       "    .dataframe thead th {\n",
       "        text-align: right;\n",
       "    }\n",
       "</style>\n",
       "<table border=\"1\" class=\"dataframe\">\n",
       "  <thead>\n",
       "    <tr style=\"text-align: right;\">\n",
       "      <th></th>\n",
       "      <th>0</th>\n",
       "      <th>1</th>\n",
       "      <th>2</th>\n",
       "      <th>3</th>\n",
       "      <th>4</th>\n",
       "      <th>5</th>\n",
       "      <th>6</th>\n",
       "      <th>7</th>\n",
       "      <th>8</th>\n",
       "      <th>9</th>\n",
       "      <th>...</th>\n",
       "      <th>3187</th>\n",
       "      <th>3188</th>\n",
       "      <th>3189</th>\n",
       "      <th>3190</th>\n",
       "      <th>3191</th>\n",
       "      <th>3192</th>\n",
       "      <th>3193</th>\n",
       "      <th>3194</th>\n",
       "      <th>3195</th>\n",
       "      <th>3196</th>\n",
       "    </tr>\n",
       "  </thead>\n",
       "  <tbody>\n",
       "    <tr>\n",
       "      <th>733</th>\n",
       "      <td>0.629739</td>\n",
       "      <td>-0.158673</td>\n",
       "      <td>2.565013</td>\n",
       "      <td>1.722023</td>\n",
       "      <td>1.052984</td>\n",
       "      <td>-0.062753</td>\n",
       "      <td>1.978416</td>\n",
       "      <td>0.765369</td>\n",
       "      <td>2.086230</td>\n",
       "      <td>0.880185</td>\n",
       "      <td>...</td>\n",
       "      <td>0.555641</td>\n",
       "      <td>-0.496502</td>\n",
       "      <td>-0.536068</td>\n",
       "      <td>-0.814571</td>\n",
       "      <td>0.220306</td>\n",
       "      <td>0.289608</td>\n",
       "      <td>0.255268</td>\n",
       "      <td>0.351620</td>\n",
       "      <td>-1.093074</td>\n",
       "      <td>-0.650261</td>\n",
       "    </tr>\n",
       "    <tr>\n",
       "      <th>5060</th>\n",
       "      <td>0.527118</td>\n",
       "      <td>1.203346</td>\n",
       "      <td>0.923368</td>\n",
       "      <td>0.712228</td>\n",
       "      <td>0.767182</td>\n",
       "      <td>0.743465</td>\n",
       "      <td>0.582651</td>\n",
       "      <td>0.685040</td>\n",
       "      <td>0.210118</td>\n",
       "      <td>0.064923</td>\n",
       "      <td>...</td>\n",
       "      <td>-1.002927</td>\n",
       "      <td>-1.137131</td>\n",
       "      <td>-0.200593</td>\n",
       "      <td>-0.126549</td>\n",
       "      <td>-0.294883</td>\n",
       "      <td>0.844118</td>\n",
       "      <td>-1.391656</td>\n",
       "      <td>-1.517762</td>\n",
       "      <td>-1.773444</td>\n",
       "      <td>-1.628828</td>\n",
       "    </tr>\n",
       "    <tr>\n",
       "      <th>1919</th>\n",
       "      <td>1.955487</td>\n",
       "      <td>0.371565</td>\n",
       "      <td>0.414987</td>\n",
       "      <td>0.298249</td>\n",
       "      <td>0.268792</td>\n",
       "      <td>0.140708</td>\n",
       "      <td>0.485248</td>\n",
       "      <td>0.337525</td>\n",
       "      <td>0.253736</td>\n",
       "      <td>0.192640</td>\n",
       "      <td>...</td>\n",
       "      <td>2.433566</td>\n",
       "      <td>2.286935</td>\n",
       "      <td>2.378798</td>\n",
       "      <td>2.344758</td>\n",
       "      <td>2.280607</td>\n",
       "      <td>2.334503</td>\n",
       "      <td>2.410437</td>\n",
       "      <td>2.929101</td>\n",
       "      <td>2.692135</td>\n",
       "      <td>2.752358</td>\n",
       "    </tr>\n",
       "    <tr>\n",
       "      <th>3874</th>\n",
       "      <td>-1.429572</td>\n",
       "      <td>-1.852530</td>\n",
       "      <td>-1.797694</td>\n",
       "      <td>-1.672870</td>\n",
       "      <td>-1.057553</td>\n",
       "      <td>-1.189881</td>\n",
       "      <td>-1.250922</td>\n",
       "      <td>-0.995935</td>\n",
       "      <td>-0.733877</td>\n",
       "      <td>-1.100845</td>\n",
       "      <td>...</td>\n",
       "      <td>0.231091</td>\n",
       "      <td>0.114925</td>\n",
       "      <td>0.219546</td>\n",
       "      <td>-0.236746</td>\n",
       "      <td>-0.100378</td>\n",
       "      <td>0.105257</td>\n",
       "      <td>0.842655</td>\n",
       "      <td>1.007163</td>\n",
       "      <td>0.609458</td>\n",
       "      <td>0.086064</td>\n",
       "    </tr>\n",
       "    <tr>\n",
       "      <th>814</th>\n",
       "      <td>-1.094364</td>\n",
       "      <td>-1.377672</td>\n",
       "      <td>-1.444957</td>\n",
       "      <td>-1.368818</td>\n",
       "      <td>-1.178719</td>\n",
       "      <td>-1.049991</td>\n",
       "      <td>-0.918324</td>\n",
       "      <td>-0.849481</td>\n",
       "      <td>-0.779433</td>\n",
       "      <td>-0.518896</td>\n",
       "      <td>...</td>\n",
       "      <td>-0.115325</td>\n",
       "      <td>-0.081435</td>\n",
       "      <td>-0.178503</td>\n",
       "      <td>-0.221778</td>\n",
       "      <td>-0.399057</td>\n",
       "      <td>-0.250427</td>\n",
       "      <td>-0.802877</td>\n",
       "      <td>-0.558524</td>\n",
       "      <td>-0.322706</td>\n",
       "      <td>-0.264274</td>\n",
       "    </tr>\n",
       "  </tbody>\n",
       "</table>\n",
       "<p>5 rows × 3197 columns</p>\n",
       "</div>"
      ],
      "text/plain": [
       "          0         1         2         3         4         5         6     \\\n",
       "733   0.629739 -0.158673  2.565013  1.722023  1.052984 -0.062753  1.978416   \n",
       "5060  0.527118  1.203346  0.923368  0.712228  0.767182  0.743465  0.582651   \n",
       "1919  1.955487  0.371565  0.414987  0.298249  0.268792  0.140708  0.485248   \n",
       "3874 -1.429572 -1.852530 -1.797694 -1.672870 -1.057553 -1.189881 -1.250922   \n",
       "814  -1.094364 -1.377672 -1.444957 -1.368818 -1.178719 -1.049991 -0.918324   \n",
       "\n",
       "          7         8         9       ...         3187      3188      3189  \\\n",
       "733   0.765369  2.086230  0.880185    ...     0.555641 -0.496502 -0.536068   \n",
       "5060  0.685040  0.210118  0.064923    ...    -1.002927 -1.137131 -0.200593   \n",
       "1919  0.337525  0.253736  0.192640    ...     2.433566  2.286935  2.378798   \n",
       "3874 -0.995935 -0.733877 -1.100845    ...     0.231091  0.114925  0.219546   \n",
       "814  -0.849481 -0.779433 -0.518896    ...    -0.115325 -0.081435 -0.178503   \n",
       "\n",
       "          3190      3191      3192      3193      3194      3195      3196  \n",
       "733  -0.814571  0.220306  0.289608  0.255268  0.351620 -1.093074 -0.650261  \n",
       "5060 -0.126549 -0.294883  0.844118 -1.391656 -1.517762 -1.773444 -1.628828  \n",
       "1919  2.344758  2.280607  2.334503  2.410437  2.929101  2.692135  2.752358  \n",
       "3874 -0.236746 -0.100378  0.105257  0.842655  1.007163  0.609458  0.086064  \n",
       "814  -0.221778 -0.399057 -0.250427 -0.802877 -0.558524 -0.322706 -0.264274  \n",
       "\n",
       "[5 rows x 3197 columns]"
      ]
     },
     "execution_count": 23,
     "metadata": {},
     "output_type": "execute_result"
    }
   ],
   "source": [
    "X_train.head()"
   ]
  },
  {
   "cell_type": "markdown",
   "metadata": {},
   "source": [
    "### Modeling:"
   ]
  },
  {
   "cell_type": "code",
   "execution_count": 24,
   "metadata": {},
   "outputs": [],
   "source": [
    "# Things to tune over\n",
    "#     number of layers\n",
    "#     order of layers\n",
    "#     filters\n",
    "#     filter size\n",
    "#     nodes\n",
    "#     regularization\n",
    "# # Normalize outputs from previous layer.\n",
    "# model.add(BatchNormalization())\n",
    "\n",
    "# # Leaky ReLU activation function.\n",
    "# model.add(LeakyReLU())\n",
    "\n",
    "# try changing the learning rate\n",
    "#     also the decay rate\n",
    "\n",
    "# Things to try with the data itself\n",
    "#     normalizing light data\n",
    "#     combining confirmed planets with a different dataset\n",
    "#     spline smoothing\n",
    "\n",
    "# try changing the size of the neurons\n",
    "#     meaning input dimensions?"
   ]
  },
  {
   "cell_type": "code",
   "execution_count": 25,
   "metadata": {},
   "outputs": [],
   "source": [
    "# make into an array and then change the dimensions\n",
    "X_array = np.array(X_train)\n",
    "X_array = np.expand_dims(X_array, axis = 2)\n",
    "\n",
    "# do this for the test set too\n",
    "X_test_array = np.array(X_test)\n",
    "X_test_array = np.expand_dims(X_test_array, axis = 2)"
   ]
  },
  {
   "cell_type": "code",
   "execution_count": 59,
   "metadata": {},
   "outputs": [],
   "source": [
    "# Define model architecture\n",
    "model = Sequential()\n",
    "\n",
    "# Convolutional layer.\n",
    "model.add(Conv1D(filters = 1,      # number of filters, best tuning so far is 15 (hasn't generalized well yet though)\n",
    "                 kernel_size = (50),  # filter size\n",
    "                 activation = 'relu',\n",
    "                 input_shape = (3197, 1))) # dimensions of training data\n",
    "\n",
    "# # Convolutional layer\n",
    "# model.add(Conv1D(filters = 1,\n",
    "#                  kernel_size = 25,\n",
    "#                  activation = 'relu'))\n",
    "\n",
    "# # Convolutional layer\n",
    "# model.add(Conv1D(filters = 1,\n",
    "#                  kernel_size = 100,\n",
    "#                  activation = 'relu'))\n",
    "\n",
    "# dropout\n",
    "# model.add(Dropout(0.5))\n",
    "\n",
    "# Pooling layer.\n",
    "model.add(MaxPooling1D(pool_size = (10))) \n",
    "\n",
    "\n",
    "# regularize\n",
    "# model.add(Dropout(0.5))\n",
    "\n",
    "# In order to go from a convolutional/pooling layer, we have to organize our neurons.\n",
    "model.add(Flatten())\n",
    "\n",
    "# Fully connected layer.\n",
    "model.add(Dense(50, activation = 'relu'))\n",
    "model.add(Dropout(0.7)) # regularization\n",
    "\n",
    "# Output layer\n",
    "model.add(Dense(1, activation = 'sigmoid'))\n",
    "\n",
    "# Changing adam optimization parameters\n",
    "optimizers.adam(lr = 0.001, decay = 0) # decay is thought to help the network learn good features first and then tune them\n",
    "\n",
    "# Compile model\n",
    "model.compile(loss = 'binary_crossentropy',\n",
    "              optimizer = 'adam',\n",
    "              metrics = ['accuracy'])"
   ]
  },
  {
   "cell_type": "code",
   "execution_count": 60,
   "metadata": {
    "scrolled": false
   },
   "outputs": [
    {
     "name": "stdout",
     "output_type": "stream",
     "text": [
      "Train on 4689 samples, validate on 1564 samples\n",
      "Epoch 1/10\n",
      "4689/4689 [==============================] - 10s 2ms/step - loss: 0.4762 - acc: 0.7857 - val_loss: 0.3398 - val_acc: 0.8056\n",
      "Epoch 2/10\n",
      "4689/4689 [==============================] - 9s 2ms/step - loss: 0.3511 - acc: 0.8147 - val_loss: 0.2842 - val_acc: 0.8389\n",
      "Epoch 3/10\n",
      "4689/4689 [==============================] - 9s 2ms/step - loss: 0.3029 - acc: 0.8360 - val_loss: 0.2662 - val_acc: 0.8440\n",
      "Epoch 4/10\n",
      "4689/4689 [==============================] - 9s 2ms/step - loss: 0.2658 - acc: 0.8580 - val_loss: 0.2474 - val_acc: 0.9009\n",
      "Epoch 5/10\n",
      "4689/4689 [==============================] - 9s 2ms/step - loss: 0.2475 - acc: 0.8763 - val_loss: 0.2409 - val_acc: 0.9086\n",
      "Epoch 6/10\n",
      "4689/4689 [==============================] - 9s 2ms/step - loss: 0.2301 - acc: 0.8925 - val_loss: 0.2336 - val_acc: 0.9207\n",
      "Epoch 7/10\n",
      "4689/4689 [==============================] - 9s 2ms/step - loss: 0.2198 - acc: 0.9085 - val_loss: 0.2307 - val_acc: 0.9271\n",
      "Epoch 8/10\n",
      "4689/4689 [==============================] - 9s 2ms/step - loss: 0.2160 - acc: 0.9119 - val_loss: 0.2279 - val_acc: 0.9246\n",
      "Epoch 9/10\n",
      "4689/4689 [==============================] - 9s 2ms/step - loss: 0.2034 - acc: 0.9153 - val_loss: 0.2252 - val_acc: 0.9341\n",
      "Epoch 10/10\n",
      "4689/4689 [==============================] - 9s 2ms/step - loss: 0.1952 - acc: 0.9254 - val_loss: 0.2205 - val_acc: 0.9297\n"
     ]
    }
   ],
   "source": [
    "result = model.fit(X_array,\n",
    "                    y_train,\n",
    "                    batch_size = 64,\n",
    "                    epochs = 10,\n",
    "                    verbose = 1,\n",
    "                   validation_data = (X_test_array, y_test))"
   ]
  },
  {
   "cell_type": "code",
   "execution_count": 61,
   "metadata": {
    "scrolled": true
   },
   "outputs": [
    {
     "data": {
      "image/png": "[encoded data removed]",
      "text/plain": [
       "<Figure size 432x288 with 1 Axes>"
      ]
     },
     "metadata": {
      "needs_background": "light"
     },
     "output_type": "display_data"
    }
   ],
   "source": [
    "# Plot loss over time.\n",
    "plt.figure()\n",
    "plt.plot(result.history['acc'])\n",
    "plt.plot(result.history['val_acc'])\n",
    "plt.title('Model Acc')\n",
    "plt.ylabel('Acc')\n",
    "plt.xlabel('Epoch')\n",
    "plt.legend(['Train', 'Test'], loc='best')\n",
    "plt.show();"
   ]
  },
  {
   "cell_type": "markdown",
   "metadata": {},
   "source": [
    "### Testing on Unseen Data:\n",
    "Now that the model is fit, lets see if we can use it to detect some planets in data not seen before."
   ]
  },
  {
   "cell_type": "code",
   "execution_count": 31,
   "metadata": {},
   "outputs": [
    {
     "data": {
      "text/html": [
       "<div>\n",
       "<style scoped>\n",
       "    .dataframe tbody tr th:only-of-type {\n",
       "        vertical-align: middle;\n",
       "    }\n",
       "\n",
       "    .dataframe tbody tr th {\n",
       "        vertical-align: top;\n",
       "    }\n",
       "\n",
       "    .dataframe thead th {\n",
       "        text-align: right;\n",
       "    }\n",
       "</style>\n",
       "<table border=\"1\" class=\"dataframe\">\n",
       "  <thead>\n",
       "    <tr style=\"text-align: right;\">\n",
       "      <th></th>\n",
       "      <th>c_flux_0</th>\n",
       "      <th>c_flux_1</th>\n",
       "      <th>c_flux_2</th>\n",
       "      <th>c_flux_3</th>\n",
       "      <th>c_flux_4</th>\n",
       "      <th>c_flux_5</th>\n",
       "      <th>c_flux_6</th>\n",
       "      <th>c_flux_7</th>\n",
       "      <th>c_flux_8</th>\n",
       "      <th>c_flux_9</th>\n",
       "      <th>...</th>\n",
       "      <th>c_flux_3187</th>\n",
       "      <th>c_flux_3188</th>\n",
       "      <th>c_flux_3189</th>\n",
       "      <th>c_flux_3190</th>\n",
       "      <th>c_flux_3191</th>\n",
       "      <th>c_flux_3192</th>\n",
       "      <th>c_flux_3193</th>\n",
       "      <th>c_flux_3194</th>\n",
       "      <th>c_flux_3195</th>\n",
       "      <th>c_flux_3196</th>\n",
       "    </tr>\n",
       "  </thead>\n",
       "  <tbody>\n",
       "    <tr>\n",
       "      <th>0</th>\n",
       "      <td>0.797703</td>\n",
       "      <td>0.337489</td>\n",
       "      <td>1.070445</td>\n",
       "      <td>1.399347</td>\n",
       "      <td>0.934250</td>\n",
       "      <td>0.791782</td>\n",
       "      <td>1.093755</td>\n",
       "      <td>1.064029</td>\n",
       "      <td>1.329841</td>\n",
       "      <td>1.146246</td>\n",
       "      <td>...</td>\n",
       "      <td>1.396245</td>\n",
       "      <td>0.990716</td>\n",
       "      <td>1.161137</td>\n",
       "      <td>0.966180</td>\n",
       "      <td>0.910268</td>\n",
       "      <td>1.164527</td>\n",
       "      <td>0.765165</td>\n",
       "      <td>1.177681</td>\n",
       "      <td>0.784532</td>\n",
       "      <td>1.089843</td>\n",
       "    </tr>\n",
       "    <tr>\n",
       "      <th>1</th>\n",
       "      <td>0.998968</td>\n",
       "      <td>0.998894</td>\n",
       "      <td>0.998955</td>\n",
       "      <td>0.998621</td>\n",
       "      <td>0.998439</td>\n",
       "      <td>0.998994</td>\n",
       "      <td>0.998742</td>\n",
       "      <td>0.998664</td>\n",
       "      <td>0.998694</td>\n",
       "      <td>0.998781</td>\n",
       "      <td>...</td>\n",
       "      <td>1.000220</td>\n",
       "      <td>1.000692</td>\n",
       "      <td>1.000997</td>\n",
       "      <td>1.000448</td>\n",
       "      <td>1.000945</td>\n",
       "      <td>1.000794</td>\n",
       "      <td>1.000559</td>\n",
       "      <td>1.000788</td>\n",
       "      <td>1.000380</td>\n",
       "      <td>1.000687</td>\n",
       "    </tr>\n",
       "    <tr>\n",
       "      <th>2</th>\n",
       "      <td>0.996723</td>\n",
       "      <td>0.998320</td>\n",
       "      <td>0.997118</td>\n",
       "      <td>0.971116</td>\n",
       "      <td>0.990362</td>\n",
       "      <td>0.991308</td>\n",
       "      <td>0.991578</td>\n",
       "      <td>0.990599</td>\n",
       "      <td>0.990659</td>\n",
       "      <td>0.990619</td>\n",
       "      <td>...</td>\n",
       "      <td>1.000624</td>\n",
       "      <td>1.000552</td>\n",
       "      <td>1.000657</td>\n",
       "      <td>1.000506</td>\n",
       "      <td>1.000490</td>\n",
       "      <td>1.000031</td>\n",
       "      <td>1.000094</td>\n",
       "      <td>0.999030</td>\n",
       "      <td>0.999984</td>\n",
       "      <td>1.000106</td>\n",
       "    </tr>\n",
       "    <tr>\n",
       "      <th>3</th>\n",
       "      <td>0.998933</td>\n",
       "      <td>1.000310</td>\n",
       "      <td>0.999227</td>\n",
       "      <td>0.961526</td>\n",
       "      <td>0.991401</td>\n",
       "      <td>0.990589</td>\n",
       "      <td>0.991505</td>\n",
       "      <td>0.991731</td>\n",
       "      <td>0.990664</td>\n",
       "      <td>0.989793</td>\n",
       "      <td>...</td>\n",
       "      <td>1.005189</td>\n",
       "      <td>1.008736</td>\n",
       "      <td>1.006125</td>\n",
       "      <td>1.005632</td>\n",
       "      <td>1.007761</td>\n",
       "      <td>1.005299</td>\n",
       "      <td>1.005760</td>\n",
       "      <td>1.006642</td>\n",
       "      <td>1.006663</td>\n",
       "      <td>1.006258</td>\n",
       "    </tr>\n",
       "    <tr>\n",
       "      <th>4</th>\n",
       "      <td>0.972796</td>\n",
       "      <td>0.972643</td>\n",
       "      <td>0.971650</td>\n",
       "      <td>0.956476</td>\n",
       "      <td>0.967577</td>\n",
       "      <td>0.968580</td>\n",
       "      <td>0.968739</td>\n",
       "      <td>0.971210</td>\n",
       "      <td>0.967761</td>\n",
       "      <td>0.968618</td>\n",
       "      <td>...</td>\n",
       "      <td>1.005380</td>\n",
       "      <td>1.015107</td>\n",
       "      <td>1.013607</td>\n",
       "      <td>1.013659</td>\n",
       "      <td>1.012339</td>\n",
       "      <td>1.012487</td>\n",
       "      <td>1.012683</td>\n",
       "      <td>1.013824</td>\n",
       "      <td>1.017875</td>\n",
       "      <td>1.013461</td>\n",
       "    </tr>\n",
       "  </tbody>\n",
       "</table>\n",
       "<p>5 rows × 3197 columns</p>\n",
       "</div>"
      ],
      "text/plain": [
       "   c_flux_0  c_flux_1  c_flux_2  c_flux_3  c_flux_4  c_flux_5  c_flux_6  \\\n",
       "0  0.797703  0.337489  1.070445  1.399347  0.934250  0.791782  1.093755   \n",
       "1  0.998968  0.998894  0.998955  0.998621  0.998439  0.998994  0.998742   \n",
       "2  0.996723  0.998320  0.997118  0.971116  0.990362  0.991308  0.991578   \n",
       "3  0.998933  1.000310  0.999227  0.961526  0.991401  0.990589  0.991505   \n",
       "4  0.972796  0.972643  0.971650  0.956476  0.967577  0.968580  0.968739   \n",
       "\n",
       "   c_flux_7  c_flux_8  c_flux_9     ...       c_flux_3187  c_flux_3188  \\\n",
       "0  1.064029  1.329841  1.146246     ...          1.396245     0.990716   \n",
       "1  0.998664  0.998694  0.998781     ...          1.000220     1.000692   \n",
       "2  0.990599  0.990659  0.990619     ...          1.000624     1.000552   \n",
       "3  0.991731  0.990664  0.989793     ...          1.005189     1.008736   \n",
       "4  0.971210  0.967761  0.968618     ...          1.005380     1.015107   \n",
       "\n",
       "   c_flux_3189  c_flux_3190  c_flux_3191  c_flux_3192  c_flux_3193  \\\n",
       "0     1.161137     0.966180     0.910268     1.164527     0.765165   \n",
       "1     1.000997     1.000448     1.000945     1.000794     1.000559   \n",
       "2     1.000657     1.000506     1.000490     1.000031     1.000094   \n",
       "3     1.006125     1.005632     1.007761     1.005299     1.005760   \n",
       "4     1.013607     1.013659     1.012339     1.012487     1.012683   \n",
       "\n",
       "   c_flux_3194  c_flux_3195  c_flux_3196  \n",
       "0     1.177681     0.784532     1.089843  \n",
       "1     1.000788     1.000380     1.000687  \n",
       "2     0.999030     0.999984     1.000106  \n",
       "3     1.006642     1.006663     1.006258  \n",
       "4     1.013824     1.017875     1.013461  \n",
       "\n",
       "[5 rows x 3197 columns]"
      ]
     },
     "execution_count": 31,
     "metadata": {},
     "output_type": "execute_result"
    }
   ],
   "source": [
    "unseen_data = k2c1.iloc[:,2:]\n",
    "unseen_data.head()"
   ]
  },
  {
   "cell_type": "code",
   "execution_count": 32,
   "metadata": {},
   "outputs": [],
   "source": [
    "# scale\n",
    "##########FIXME!!!!!! don't fit_transform, only fit to training data\n",
    "unseen_data = unseen_data.T\n",
    "\n",
    "scaled_unseen = ss.fit_transform(unseen_data)\n",
    "unseen_data = pd.DataFrame(scaled_unseen, columns=unseen_data.columns)\n",
    "\n",
    "unseen_data = unseen_data.T"
   ]
  },
  {
   "cell_type": "code",
   "execution_count": 33,
   "metadata": {},
   "outputs": [],
   "source": [
    "# unseen_data.head()"
   ]
  },
  {
   "cell_type": "code",
   "execution_count": 34,
   "metadata": {},
   "outputs": [],
   "source": [
    "# Change the shape\n",
    "array_unseen = np.array(unseen_data)\n",
    "array_unseen = np.expand_dims(array_unseen, axis = 2)"
   ]
  },
  {
   "cell_type": "markdown",
   "metadata": {},
   "source": [
    "### Predict!"
   ]
  },
  {
   "cell_type": "code",
   "execution_count": 67,
   "metadata": {},
   "outputs": [],
   "source": [
    "# predict_proba or classification\n",
    "#     both, so we know what the model thinks and how confident it is\n",
    "y_unseen = model.predict_classes(array_unseen)"
   ]
  },
  {
   "cell_type": "code",
   "execution_count": 68,
   "metadata": {},
   "outputs": [],
   "source": [
    "yhat_unseen = pd.DataFrame(y_unseen, columns=['prediction'])\n",
    "# yhat_unseen.head(5)"
   ]
  },
  {
   "cell_type": "code",
   "execution_count": 69,
   "metadata": {},
   "outputs": [
    {
     "name": "stdout",
     "output_type": "stream",
     "text": [
      "0.3923076923076923\n"
     ]
    },
    {
     "data": {
      "text/plain": [
       "0    5050\n",
       "1    1203\n",
       "Name: LABEL, dtype: int64"
      ]
     },
     "execution_count": 69,
     "metadata": {},
     "output_type": "execute_result"
    }
   ],
   "source": [
    "val_counts = yhat_unseen['prediction'].value_counts()\n",
    "print(val_counts[1]/val_counts.sum())\n",
    "val_count"
   ]
  },
  {
   "cell_type": "code",
   "execution_count": null,
   "metadata": {},
   "outputs": [],
   "source": [
    "yhat_unseen[yhat_unseen['prediction'] == 1]"
   ]
  },
  {
   "cell_type": "code",
   "execution_count": null,
   "metadata": {},
   "outputs": [],
   "source": [
    "# take a look at the unseen data\n",
    "x_axis = list(range(unseen_data.shape[1]-2))\n",
    "plt.scatter(x_axis, unseen_data.iloc[4028, 2:])\n",
    "# plt.ylim(-2, 2)"
   ]
  },
  {
   "cell_type": "markdown",
   "metadata": {},
   "source": [
    "### Example of a Transit:"
   ]
  },
  {
   "cell_type": "code",
   "execution_count": 83,
   "metadata": {
    "scrolled": true
   },
   "outputs": [
    {
     "data": {
      "text/plain": [
       "Text(0.5, 1.0, 'Transiting Planet Light Curve')"
      ]
     },
     "execution_count": 83,
     "metadata": {},
     "output_type": "execute_result"
    },
    {
     "data": {
      "image/png": "[encoded data removed]",
      "text/plain": [
       "<Figure size 432x288 with 1 Axes>"
      ]
     },
     "metadata": {
      "needs_background": "light"
     },
     "output_type": "display_data"
    }
   ],
   "source": [
    "x_axis = list(range(join_planets.shape[1]-2))\n",
    "plt.scatter(x_axis, join_planets.iloc[11, 2:])\n",
    "# plt.ylim(10040, 10090)\n",
    "plt.xlabel('Time')\n",
    "plt.ylabel('Flux Level')\n",
    "plt.title('Transiting Planet Light Curve')"
   ]
  },
  {
   "cell_type": "markdown",
   "metadata": {},
   "source": [
    "### Notes <hr>"
   ]
  },
  {
   "cell_type": "code",
   "execution_count": null,
   "metadata": {},
   "outputs": [],
   "source": [
    "# # Evaluate model on test data\n",
    "# score = model.evaluate(X_test_array, y_test, verbose = 1)\n",
    "# labels = model.metrics_names\n",
    "\n",
    "# score\n",
    "# # labels\n",
    "# # model.summary()"
   ]
  },
  {
   "cell_type": "code",
   "execution_count": null,
   "metadata": {},
   "outputs": [],
   "source": [
    "# # What is the best way to do this?\n",
    "# undersample?\n",
    "# oversample?\n",
    "# What is the best ratio?\n",
    "# will this affect my result/ my false positive rate?\n",
    "\n",
    "# change columns of kep3 so you can join it with the planet data\n",
    "#     make sure there are no gaps in the confirmed planets data\n",
    "#     or the other data\n",
    "#     cut down dfs to be the right size\n",
    "#     do I want to remove the confimed planets already in the kep3 set in case they are repeats?\n",
    "\n",
    "# is it possible that some of the planets don't pass in front of their stars for the 66 days I'm looking at?\n",
    "#     what proportion of exoplanets have orbits of less than 66 days?\n",
    "\n",
    "# how am I going to deal with the nulls?\n",
    "#     skip to the next nearest non-null value?\n",
    "#     how many nulls in a row are there?\n",
    "#     if this happens to almost all confirmed planets, its possible that the network may learn to find these \"skips\"\n",
    "#         should I then just drop any rows with too many consecutive nans? \n",
    "#         Pretty much every one has a string of at least 40 consecutive nans\n",
    "#     mean imputation may have a logical case here\n",
    "#         it would make sense that the level of light is between previous value and the next one + random noise\n",
    "#         what about for longer strings of missing values \n",
    "#         mean imputation could be good for avoiding creating false signals because of its smoothing effect\n",
    "#         the disadvantages of mean imputation may not be important because I am basically using neural networks for pattern detection\n",
    "#     maybe if it is a long string of missing values you want to skip to the next real data, \n",
    "#         mark if that had happened so I could tell if it contributes to false positives\n",
    "#     drop rows with more than 150 nulls? there are only 8\n",
    "#         1134    666\n",
    "#         752     408\n",
    "#         851     408\n",
    "#         1105    408\n",
    "#         441     408\n",
    "#         832     285\n",
    "#         871     230\n",
    "#         762     230\n",
    "\n",
    "# definitely get data on whether it is a binary star system or not\n",
    "#     how to feed these single features to the neural networks to help with pattern detection?\n",
    "\n",
    "# normalize the light curves\n",
    "\n",
    "# print out confusion matrix and other classification metrics\n",
    "\n",
    "# turn it into a gridsearch\n",
    "#     have it save the results to be analyzed later\n",
    "#     can I have it tune over generalizability to the unseen set?"
   ]
  }
 ],
 "metadata": {
  "kernelspec": {
   "display_name": "Python 3",
   "language": "python",
   "name": "python3"
  },
  "language_info": {
   "codemirror_mode": {
    "name": "ipython",
    "version": 3
   },
   "file_extension": ".py",
   "mimetype": "text/x-python",
   "name": "python",
   "nbconvert_exporter": "python",
   "pygments_lexer": "ipython3",
   "version": "3.6.6"
  }
 },
 "nbformat": 4,
 "nbformat_minor": 2
}
