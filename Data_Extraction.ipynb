{
 "cells": [
  {
   "cell_type": "markdown",
   "metadata": {},
   "source": [
    "### Imports:"
   ]
  },
  {
   "cell_type": "code",
   "execution_count": 1,
   "metadata": {},
   "outputs": [],
   "source": [
    "import pandas as pd\n",
    "import os\n",
    "import time\n",
    "from astropy.io import fits"
   ]
  },
  {
   "cell_type": "markdown",
   "metadata": {},
   "source": [
    "### Extractioning the Light Curve:\n",
    "The light curve data in the .fit files is contained in a list of tuples along with other measurements. <br>\n",
    "Each tuple is an observation point for a specific time, the observations are taken 30min apart. <br>\n",
    "We want the 3rd value in each tuple, which corresponds to the corrected flux levels recorded by the instruments in the spacecraft in electrons per second. <br>\n",
    "#### This loop extracts this data from each .fit file, compiles it into a dataframe, and saves the dataframe as .csv file."
   ]
  },
  {
   "cell_type": "code",
   "execution_count": 2,
   "metadata": {},
   "outputs": [],
   "source": [
    "### If extracting from confirmed_planets you must set to item[7] when iterating through items in the .fit data\n",
    "#     item[2] for k2c1\n",
    "directory = '../raw_space_data/Kepler_Q4/'\n",
    "save_name = 'extracted_kep_c4'"
   ]
  },
  {
   "cell_type": "code",
   "execution_count": 3,
   "metadata": {},
   "outputs": [
    {
     "name": "stdout",
     "output_type": "stream",
     "text": [
      "Rows saved:  0   0.23  min runtime.\n",
      "Rows saved:  100   9.39  min runtime.\n",
      "Rows saved:  200   18.35  min runtime.\n",
      "Rows saved:  300   27.11  min runtime.\n",
      "Rows saved:  400   36.67  min runtime.\n",
      "Rows saved:  500   46.87  min runtime.\n",
      "Rows saved:  600   57.05  min runtime.\n",
      "Rows saved:  700   66.66  min runtime.\n",
      "Rows saved:  800   76.8  min runtime.\n",
      "Rows saved:  900   86.04  min runtime.\n",
      "Rows saved:  1000   94.77  min runtime.\n",
      "Rows saved:  1100   103.51  min runtime.\n",
      "Rows saved:  1200   113.2  min runtime.\n",
      "Rows saved:  1300   123.29  min runtime.\n",
      "Rows saved:  1400   133.51  min runtime.\n",
      "Rows saved:  1500   143.7  min runtime.\n",
      "Rows saved:  1600   153.95  min runtime.\n",
      "Rows saved:  1700   164.19  min runtime.\n",
      "Rows saved:  1800   173.79  min runtime.\n",
      "Rows saved:  1900   182.91  min runtime.\n",
      "Rows saved:  2000   192.03  min runtime.\n",
      "Rows saved:  2100   201.23  min runtime.\n",
      "Rows saved:  2200   210.46  min runtime.\n",
      "Rows saved:  2300   219.72  min runtime.\n",
      "Rows saved:  2400   229.01  min runtime.\n",
      "Rows saved:  2500   238.37  min runtime.\n",
      "Rows saved:  2600   247.77  min runtime.\n",
      "Rows saved:  2700   257.22  min runtime.\n",
      "Rows saved:  2800   266.73  min runtime.\n",
      "Rows saved:  2900   278.29  min runtime.\n",
      "Rows saved:  3000   288.54  min runtime.\n",
      "Rows saved:  3100   298.22  min runtime.\n",
      "Rows saved:  3200   307.97  min runtime.\n",
      "Rows saved:  3300   317.75  min runtime.\n",
      "Rows saved:  3400   327.6  min runtime.\n",
      "Rows saved:  3500   337.43  min runtime.\n",
      "Rows saved:  3600   347.39  min runtime.\n",
      "Rows saved:  3700   357.38  min runtime.\n",
      "Rows saved:  3800   367.36  min runtime.\n",
      "Rows saved:  3900   377.37  min runtime.\n",
      "Rows saved:  4000   387.89  min runtime.\n",
      "Rows saved:  4100   398.01  min runtime.\n",
      "Rows saved:  4200   408.19  min runtime.\n",
      "Rows saved:  4300   418.39  min runtime.\n",
      "Rows saved:  4400   428.64  min runtime.\n",
      "Rows saved:  4500   438.96  min runtime.\n",
      "Rows saved:  4600   449.29  min runtime.\n",
      "Rows saved:  4700   459.64  min runtime.\n",
      "Rows saved:  4800   470.09  min runtime.\n",
      "Rows saved:  4900   480.56  min runtime.\n",
      "Rows saved:  5000   491.07  min runtime.\n",
      "Rows saved:  5100   501.63  min runtime.\n",
      "Rows saved:  5200   512.27  min runtime.\n",
      "Rows saved:  5300   523.02  min runtime.\n",
      "Rows saved:  5400   533.79  min runtime.\n",
      "Rows saved:  5500   544.55  min runtime.\n",
      "Rows saved:  5600   555.46  min runtime.\n",
      "Rows saved:  5700   566.44  min runtime.\n",
      "Rows saved:  5800   577.46  min runtime.\n",
      "Rows saved:  5900   588.85  min runtime.\n",
      "Rows saved:  6000   601.51  min runtime.\n",
      "Rows saved:  6100   614.33  min runtime.\n",
      "Rows saved:  6200   627.41  min runtime.\n",
      "Rows saved:  6300   640.37  min runtime.\n",
      "Rows saved:  6400   652.12  min runtime.\n",
      "Rows saved:  6500   663.46  min runtime.\n",
      "Rows saved:  6600   674.83  min runtime.\n",
      "Rows saved:  6700   686.28  min runtime.\n",
      "Rows saved:  6800   697.76  min runtime.\n",
      "Rows saved:  6900   709.37  min runtime.\n",
      "Rows saved:  7000   721.11  min runtime.\n",
      "Rows saved:  7100   732.93  min runtime.\n",
      "Rows saved:  7200   744.83  min runtime.\n",
      "Rows saved:  7300   756.8  min runtime.\n",
      "Rows saved:  7400   768.82  min runtime.\n",
      "Rows saved:  7500   780.85  min runtime.\n",
      "Rows saved:  7600   792.91  min runtime.\n",
      "Rows saved:  7700   805.08  min runtime.\n"
     ]
    },
    {
     "ename": "KeyboardInterrupt",
     "evalue": "",
     "output_type": "error",
     "traceback": [
      "\u001b[0;31m---------------------------------------------------------------------------\u001b[0m",
      "\u001b[0;31mKeyboardInterrupt\u001b[0m                         Traceback (most recent call last)",
      "\u001b[0;32m<ipython-input-3-2514ba90ac00>\u001b[0m in \u001b[0;36m<module>\u001b[0;34m\u001b[0m\n\u001b[1;32m     20\u001b[0m         \u001b[0;32mfor\u001b[0m \u001b[0mitem\u001b[0m \u001b[0;32min\u001b[0m \u001b[0mfit_data\u001b[0m\u001b[0;34m[\u001b[0m\u001b[0;36m1\u001b[0m\u001b[0;34m]\u001b[0m\u001b[0;34m.\u001b[0m\u001b[0mdata\u001b[0m\u001b[0;34m:\u001b[0m     \u001b[0;31m# iterate through the items in the .fit data\u001b[0m\u001b[0;34m\u001b[0m\u001b[0m\n\u001b[1;32m     21\u001b[0m             \u001b[0mcol_name\u001b[0m \u001b[0;34m=\u001b[0m \u001b[0;34m'c_flux_'\u001b[0m \u001b[0;34m+\u001b[0m \u001b[0mstr\u001b[0m\u001b[0;34m(\u001b[0m\u001b[0mj\u001b[0m\u001b[0;34m)\u001b[0m \u001b[0;31m# create the column label\u001b[0m\u001b[0;34m\u001b[0m\u001b[0m\n\u001b[0;32m---> 22\u001b[0;31m             \u001b[0mdf\u001b[0m\u001b[0;34m.\u001b[0m\u001b[0mloc\u001b[0m\u001b[0;34m[\u001b[0m\u001b[0mi\u001b[0m\u001b[0;34m,\u001b[0m \u001b[0mcol_name\u001b[0m\u001b[0;34m]\u001b[0m \u001b[0;34m=\u001b[0m \u001b[0mitem\u001b[0m\u001b[0;34m[\u001b[0m\u001b[0;36m7\u001b[0m\u001b[0;34m]\u001b[0m \u001b[0;31m# item[7] for confirmed planets, item[2] for k2c1, extract the corrected flux levels for each item and put it all in a row\u001b[0m\u001b[0;34m\u001b[0m\u001b[0m\n\u001b[0m\u001b[1;32m     23\u001b[0m \u001b[0;34m\u001b[0m\u001b[0m\n\u001b[1;32m     24\u001b[0m             \u001b[0mj\u001b[0m \u001b[0;34m+=\u001b[0m \u001b[0;36m1\u001b[0m\u001b[0;34m\u001b[0m\u001b[0m\n",
      "\u001b[0;32m~/anaconda3/lib/python3.6/site-packages/pandas/core/indexing.py\u001b[0m in \u001b[0;36m__setitem__\u001b[0;34m(self, key, value)\u001b[0m\n\u001b[1;32m    186\u001b[0m         \u001b[0;32melse\u001b[0m\u001b[0;34m:\u001b[0m\u001b[0;34m\u001b[0m\u001b[0m\n\u001b[1;32m    187\u001b[0m             \u001b[0mkey\u001b[0m \u001b[0;34m=\u001b[0m \u001b[0mcom\u001b[0m\u001b[0;34m.\u001b[0m\u001b[0m_apply_if_callable\u001b[0m\u001b[0;34m(\u001b[0m\u001b[0mkey\u001b[0m\u001b[0;34m,\u001b[0m \u001b[0mself\u001b[0m\u001b[0;34m.\u001b[0m\u001b[0mobj\u001b[0m\u001b[0;34m)\u001b[0m\u001b[0;34m\u001b[0m\u001b[0m\n\u001b[0;32m--> 188\u001b[0;31m         \u001b[0mindexer\u001b[0m \u001b[0;34m=\u001b[0m \u001b[0mself\u001b[0m\u001b[0;34m.\u001b[0m\u001b[0m_get_setitem_indexer\u001b[0m\u001b[0;34m(\u001b[0m\u001b[0mkey\u001b[0m\u001b[0;34m)\u001b[0m\u001b[0;34m\u001b[0m\u001b[0m\n\u001b[0m\u001b[1;32m    189\u001b[0m         \u001b[0mself\u001b[0m\u001b[0;34m.\u001b[0m\u001b[0m_setitem_with_indexer\u001b[0m\u001b[0;34m(\u001b[0m\u001b[0mindexer\u001b[0m\u001b[0;34m,\u001b[0m \u001b[0mvalue\u001b[0m\u001b[0;34m)\u001b[0m\u001b[0;34m\u001b[0m\u001b[0m\n\u001b[1;32m    190\u001b[0m \u001b[0;34m\u001b[0m\u001b[0m\n",
      "\u001b[0;32m~/anaconda3/lib/python3.6/site-packages/pandas/core/indexing.py\u001b[0m in \u001b[0;36m_get_setitem_indexer\u001b[0;34m(self, key)\u001b[0m\n\u001b[1;32m    164\u001b[0m         \u001b[0;32mif\u001b[0m \u001b[0misinstance\u001b[0m\u001b[0;34m(\u001b[0m\u001b[0mkey\u001b[0m\u001b[0;34m,\u001b[0m \u001b[0mtuple\u001b[0m\u001b[0;34m)\u001b[0m\u001b[0;34m:\u001b[0m\u001b[0;34m\u001b[0m\u001b[0m\n\u001b[1;32m    165\u001b[0m             \u001b[0;32mtry\u001b[0m\u001b[0;34m:\u001b[0m\u001b[0;34m\u001b[0m\u001b[0m\n\u001b[0;32m--> 166\u001b[0;31m                 \u001b[0;32mreturn\u001b[0m \u001b[0mself\u001b[0m\u001b[0;34m.\u001b[0m\u001b[0m_convert_tuple\u001b[0m\u001b[0;34m(\u001b[0m\u001b[0mkey\u001b[0m\u001b[0;34m,\u001b[0m \u001b[0mis_setter\u001b[0m\u001b[0;34m=\u001b[0m\u001b[0;32mTrue\u001b[0m\u001b[0;34m)\u001b[0m\u001b[0;34m\u001b[0m\u001b[0m\n\u001b[0m\u001b[1;32m    167\u001b[0m             \u001b[0;32mexcept\u001b[0m \u001b[0mIndexingError\u001b[0m\u001b[0;34m:\u001b[0m\u001b[0;34m\u001b[0m\u001b[0m\n\u001b[1;32m    168\u001b[0m                 \u001b[0;32mpass\u001b[0m\u001b[0;34m\u001b[0m\u001b[0m\n",
      "\u001b[0;32m~/anaconda3/lib/python3.6/site-packages/pandas/core/indexing.py\u001b[0m in \u001b[0;36m_convert_tuple\u001b[0;34m(self, key, is_setter)\u001b[0m\n\u001b[1;32m    245\u001b[0m                 \u001b[0;32mif\u001b[0m \u001b[0mi\u001b[0m \u001b[0;34m>=\u001b[0m \u001b[0mself\u001b[0m\u001b[0;34m.\u001b[0m\u001b[0mobj\u001b[0m\u001b[0;34m.\u001b[0m\u001b[0mndim\u001b[0m\u001b[0;34m:\u001b[0m\u001b[0;34m\u001b[0m\u001b[0m\n\u001b[1;32m    246\u001b[0m                     \u001b[0;32mraise\u001b[0m \u001b[0mIndexingError\u001b[0m\u001b[0;34m(\u001b[0m\u001b[0;34m'Too many indexers'\u001b[0m\u001b[0;34m)\u001b[0m\u001b[0;34m\u001b[0m\u001b[0m\n\u001b[0;32m--> 247\u001b[0;31m                 \u001b[0midx\u001b[0m \u001b[0;34m=\u001b[0m \u001b[0mself\u001b[0m\u001b[0;34m.\u001b[0m\u001b[0m_convert_to_indexer\u001b[0m\u001b[0;34m(\u001b[0m\u001b[0mk\u001b[0m\u001b[0;34m,\u001b[0m \u001b[0maxis\u001b[0m\u001b[0;34m=\u001b[0m\u001b[0mi\u001b[0m\u001b[0;34m,\u001b[0m \u001b[0mis_setter\u001b[0m\u001b[0;34m=\u001b[0m\u001b[0mis_setter\u001b[0m\u001b[0;34m)\u001b[0m\u001b[0;34m\u001b[0m\u001b[0m\n\u001b[0m\u001b[1;32m    248\u001b[0m                 \u001b[0mkeyidx\u001b[0m\u001b[0;34m.\u001b[0m\u001b[0mappend\u001b[0m\u001b[0;34m(\u001b[0m\u001b[0midx\u001b[0m\u001b[0;34m)\u001b[0m\u001b[0;34m\u001b[0m\u001b[0m\n\u001b[1;32m    249\u001b[0m         \u001b[0;32mreturn\u001b[0m \u001b[0mtuple\u001b[0m\u001b[0;34m(\u001b[0m\u001b[0mkeyidx\u001b[0m\u001b[0;34m)\u001b[0m\u001b[0;34m\u001b[0m\u001b[0m\n",
      "\u001b[0;32m~/anaconda3/lib/python3.6/site-packages/pandas/core/indexing.py\u001b[0m in \u001b[0;36m_convert_to_indexer\u001b[0;34m(self, obj, axis, is_setter)\u001b[0m\n\u001b[1;32m   1261\u001b[0m         \u001b[0;31m# if we are a label return me\u001b[0m\u001b[0;34m\u001b[0m\u001b[0;34m\u001b[0m\u001b[0m\n\u001b[1;32m   1262\u001b[0m         \u001b[0;32mtry\u001b[0m\u001b[0;34m:\u001b[0m\u001b[0;34m\u001b[0m\u001b[0m\n\u001b[0;32m-> 1263\u001b[0;31m             \u001b[0;32mreturn\u001b[0m \u001b[0mlabels\u001b[0m\u001b[0;34m.\u001b[0m\u001b[0mget_loc\u001b[0m\u001b[0;34m(\u001b[0m\u001b[0mobj\u001b[0m\u001b[0;34m)\u001b[0m\u001b[0;34m\u001b[0m\u001b[0m\n\u001b[0m\u001b[1;32m   1264\u001b[0m         \u001b[0;32mexcept\u001b[0m \u001b[0mLookupError\u001b[0m\u001b[0;34m:\u001b[0m\u001b[0;34m\u001b[0m\u001b[0m\n\u001b[1;32m   1265\u001b[0m             \u001b[0;32mif\u001b[0m \u001b[0misinstance\u001b[0m\u001b[0;34m(\u001b[0m\u001b[0mobj\u001b[0m\u001b[0;34m,\u001b[0m \u001b[0mtuple\u001b[0m\u001b[0;34m)\u001b[0m \u001b[0;32mand\u001b[0m \u001b[0misinstance\u001b[0m\u001b[0;34m(\u001b[0m\u001b[0mlabels\u001b[0m\u001b[0;34m,\u001b[0m \u001b[0mMultiIndex\u001b[0m\u001b[0;34m)\u001b[0m\u001b[0;34m:\u001b[0m\u001b[0;34m\u001b[0m\u001b[0m\n",
      "\u001b[0;32m~/anaconda3/lib/python3.6/site-packages/pandas/core/indexes/multi.py\u001b[0m in \u001b[0;36mget_loc\u001b[0;34m(self, key, method)\u001b[0m\n\u001b[1;32m   2235\u001b[0m \u001b[0;34m\u001b[0m\u001b[0m\n\u001b[1;32m   2236\u001b[0m         \u001b[0;32mif\u001b[0m \u001b[0;32mnot\u001b[0m \u001b[0misinstance\u001b[0m\u001b[0;34m(\u001b[0m\u001b[0mkey\u001b[0m\u001b[0;34m,\u001b[0m \u001b[0mtuple\u001b[0m\u001b[0;34m)\u001b[0m\u001b[0;34m:\u001b[0m\u001b[0;34m\u001b[0m\u001b[0m\n\u001b[0;32m-> 2237\u001b[0;31m             \u001b[0mloc\u001b[0m \u001b[0;34m=\u001b[0m \u001b[0mself\u001b[0m\u001b[0;34m.\u001b[0m\u001b[0m_get_level_indexer\u001b[0m\u001b[0;34m(\u001b[0m\u001b[0mkey\u001b[0m\u001b[0;34m,\u001b[0m \u001b[0mlevel\u001b[0m\u001b[0;34m=\u001b[0m\u001b[0;36m0\u001b[0m\u001b[0;34m)\u001b[0m\u001b[0;34m\u001b[0m\u001b[0m\n\u001b[0m\u001b[1;32m   2238\u001b[0m \u001b[0;34m\u001b[0m\u001b[0m\n\u001b[1;32m   2239\u001b[0m             \u001b[0;31m# _get_level_indexer returns an empty slice if the key has\u001b[0m\u001b[0;34m\u001b[0m\u001b[0;34m\u001b[0m\u001b[0m\n",
      "\u001b[0;32m~/anaconda3/lib/python3.6/site-packages/pandas/core/indexes/multi.py\u001b[0m in \u001b[0;36m_get_level_indexer\u001b[0;34m(self, key, level, indexer)\u001b[0m\n\u001b[1;32m   2498\u001b[0m                 \u001b[0;32mreturn\u001b[0m \u001b[0mloc\u001b[0m\u001b[0;34m\u001b[0m\u001b[0m\n\u001b[1;32m   2499\u001b[0m             \u001b[0;32melif\u001b[0m \u001b[0mlevel\u001b[0m \u001b[0;34m>\u001b[0m \u001b[0;36m0\u001b[0m \u001b[0;32mor\u001b[0m \u001b[0mself\u001b[0m\u001b[0;34m.\u001b[0m\u001b[0mlexsort_depth\u001b[0m \u001b[0;34m==\u001b[0m \u001b[0;36m0\u001b[0m\u001b[0;34m:\u001b[0m\u001b[0;34m\u001b[0m\u001b[0m\n\u001b[0;32m-> 2500\u001b[0;31m                 \u001b[0;32mreturn\u001b[0m \u001b[0mnp\u001b[0m\u001b[0;34m.\u001b[0m\u001b[0marray\u001b[0m\u001b[0;34m(\u001b[0m\u001b[0mlabels\u001b[0m \u001b[0;34m==\u001b[0m \u001b[0mloc\u001b[0m\u001b[0;34m,\u001b[0m \u001b[0mdtype\u001b[0m\u001b[0;34m=\u001b[0m\u001b[0mbool\u001b[0m\u001b[0;34m)\u001b[0m\u001b[0;34m\u001b[0m\u001b[0m\n\u001b[0m\u001b[1;32m   2501\u001b[0m \u001b[0;34m\u001b[0m\u001b[0m\n\u001b[1;32m   2502\u001b[0m             \u001b[0mi\u001b[0m \u001b[0;34m=\u001b[0m \u001b[0mlabels\u001b[0m\u001b[0;34m.\u001b[0m\u001b[0msearchsorted\u001b[0m\u001b[0;34m(\u001b[0m\u001b[0mloc\u001b[0m\u001b[0;34m,\u001b[0m \u001b[0mside\u001b[0m\u001b[0;34m=\u001b[0m\u001b[0;34m'left'\u001b[0m\u001b[0;34m)\u001b[0m\u001b[0;34m\u001b[0m\u001b[0m\n",
      "\u001b[0;31mKeyboardInterrupt\u001b[0m: "
     ]
    }
   ],
   "source": [
    "start_time = time.time()\n",
    "\n",
    "# The following lines will prepare things to be run through the loop\n",
    "col_names = ['star_name', 'exposure']\n",
    "df = pd.DataFrame(columns = [col_names])\n",
    "i = 0\n",
    "\n",
    "for filename in os.listdir(directory): # Loop through every .fit file in the directory\n",
    "#     if i > 5:\n",
    "#         break\n",
    "    if filename.endswith(\".fits\"):\n",
    "   \n",
    "        fit_data = fits.open(directory + filename)\n",
    "        if fit_data[1].header['EXPOSURE'] < 65: # if the exposure is less than 65 days, skip this file\n",
    "            continue\n",
    "        df.loc[i, 'star_name'] = fit_data[1].header['OBJECT']    # Extract the star's name\n",
    "        df.loc[i, 'exposure'] = fit_data[1].header['EXPOSURE']   # Extract the amount of time Kepler was recording the target\n",
    "        \n",
    "        j = 0 \n",
    "        for item in fit_data[1].data:     # iterate through the items in the .fit data \n",
    "            col_name = 'c_flux_' + str(j) # create the column label\n",
    "            df.loc[i, col_name] = item[7] # item[7] for confirmed planets, item[2] for k2c1, extract the corrected flux levels for each item and put it all in a row\n",
    "            \n",
    "            j += 1\n",
    "#             if j > 4000: # We won't be needing more columns than this for this project\n",
    "#                 break\n",
    "        \n",
    "        if i % 100 == 0: # save the progress and print out some feedback every 100 files\n",
    "            df.to_csv(('../' + save_name + '.csv'), index=False)\n",
    "            print('Rows saved: ', i, ' ', round((time.time() - start_time)/60, 2), ' min runtime.')\n",
    "        \n",
    "        i += 1\n",
    "\n",
    "# Done!\n",
    "df.to_csv(('../' + save_name + '.csv'), index=False)\n",
    "print('DONE!!!!!', 'Runtime: ', round((time.time() - start_time)/60, 3), ' minutes')"
   ]
  },
  {
   "cell_type": "markdown",
   "metadata": {},
   "source": [
    "### Check the Dataframe to be Sure Everything Worked:\n",
    "There should be some null values at the end of most of the rows because not all the light curves are the same length."
   ]
  },
  {
   "cell_type": "code",
   "execution_count": null,
   "metadata": {
    "scrolled": true
   },
   "outputs": [],
   "source": [
    "df.tail()"
   ]
  },
  {
   "cell_type": "markdown",
   "metadata": {},
   "source": [
    "### Save a Backup File.\n",
    "Just in case..."
   ]
  },
  {
   "cell_type": "code",
   "execution_count": 4,
   "metadata": {},
   "outputs": [],
   "source": [
    "df.to_csv(('../' + save_name + '_backup.csv'), index=False)"
   ]
  },
  {
   "cell_type": "markdown",
   "metadata": {},
   "source": [
    "Check to see that the file can be read:"
   ]
  },
  {
   "cell_type": "code",
   "execution_count": null,
   "metadata": {
    "scrolled": true
   },
   "outputs": [],
   "source": [
    "# clean = pd.read_csv('../clean_confirmed_planets_part2.csv')\n",
    "# clean.head()"
   ]
  },
  {
   "cell_type": "markdown",
   "metadata": {},
   "source": [
    "### Great! Everything looks good!"
   ]
  }
 ],
 "metadata": {
  "kernelspec": {
   "display_name": "Python 3",
   "language": "python",
   "name": "python3"
  },
  "language_info": {
   "codemirror_mode": {
    "name": "ipython",
    "version": 3
   },
   "file_extension": ".py",
   "mimetype": "text/x-python",
   "name": "python",
   "nbconvert_exporter": "python",
   "pygments_lexer": "ipython3",
   "version": "3.6.6"
  }
 },
 "nbformat": 4,
 "nbformat_minor": 2
}
