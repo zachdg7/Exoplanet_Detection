{
 "cells": [
  {
   "cell_type": "markdown",
   "metadata": {},
   "source": [
    "# Cleaning and Labeling Notebook:\n",
    "<hr>\n",
    "\n",
    "***Make new files where the data is:*** <br>\n",
    "> Clean, without null values. <br>\n",
    "> Labeled as detectable exoplanet star or not. <br>"
   ]
  },
  {
   "cell_type": "markdown",
   "metadata": {},
   "source": [
    "### Imports:"
   ]
  },
  {
   "cell_type": "code",
   "execution_count": null,
   "metadata": {},
   "outputs": [],
   "source": [
    "import pandas as pd\n",
    "import matplotlib.pyplot as plt\n",
    "import time\n",
    "import numpy as np\n",
    "import random\n",
    "\n",
    "%matplotlib inline"
   ]
  },
  {
   "cell_type": "markdown",
   "metadata": {},
   "source": [
    "### Read in the Files:"
   ]
  },
  {
   "cell_type": "code",
   "execution_count": null,
   "metadata": {},
   "outputs": [],
   "source": [
    "# These are the confirmed planet stars from the first download session\n",
    "c_planets = pd.read_csv('../clean_planet_data/extracted_planets_1_again.csv')\n",
    "\n",
    "# These are the confirmed planet stars from the second download session\n",
    "c_planets_2 = pd.read_csv('../clean_planet_data/extracted_confirmed_planets_2_again.csv')\n",
    "\n",
    "c4_kep = pd.read_csv('../clean_planet_data/extracted_kep_c4_7700_backup.csv')"
   ]
  },
  {
   "cell_type": "code",
   "execution_count": null,
   "metadata": {},
   "outputs": [],
   "source": [
    "# Bring in a table that lists all confirmed planets with their star names and other info\n",
    "all_confirmed = pd.read_csv('../clean_planet_data/all_planets_list.csv')"
   ]
  },
  {
   "cell_type": "code",
   "execution_count": null,
   "metadata": {},
   "outputs": [],
   "source": [
    "# drop the last line of c4_kep because it only downloaded halfway before being stopped\n",
    "c4_kep.drop(index=7713, inplace = True)"
   ]
  },
  {
   "cell_type": "markdown",
   "metadata": {},
   "source": [
    "# Start Munging:"
   ]
  },
  {
   "cell_type": "markdown",
   "metadata": {},
   "source": [
    "### Randomly Select Lightcurves from the Duplicates in Confirmed Planets Set:\n",
    "In the confirmed planets set, there are several light curves for each star. <br>\n",
    "Randomly selecting the light curve from these will prevent counfounding variables from influencing the model. "
   ]
  },
  {
   "cell_type": "code",
   "execution_count": null,
   "metadata": {},
   "outputs": [],
   "source": [
    "# combine both sets containing confirmed planets\n",
    "combined_planets = pd.concat([c_planets, c_planets_2])"
   ]
  },
  {
   "cell_type": "code",
   "execution_count": null,
   "metadata": {},
   "outputs": [],
   "source": [
    "np.random.seed(112) # set random seed\n",
    "\n",
    "randomized_planets = pd.DataFrame(columns = c_planets.columns)\n",
    "\n",
    "i = 0\n",
    "\n",
    "# Randomly selecting each star's light curves from various time frames\n",
    "for star in combined_planets['star_name'].unique():\n",
    "    \n",
    "    # Print out some feedback to show progress\n",
    "    if i % 250 == 0:\n",
    "        print(i)    \n",
    "    i += 1\n",
    "\n",
    "    # Randomly select light curve and add it to randomized_planets\n",
    "    same_star = combined_planets[combined_planets['star_name'] == star] # select all rows whose stars have the same name\n",
    "    rand_select = random.choice(same_star.index) # randomly select one of the index numbers\n",
    "    randomized_planets = pd.concat([randomized_planets, same_star[same_star.index == rand_select]]) # add it to the new df\n",
    "\n",
    "# Reset the index\n",
    "randomized_planets.reset_index(drop = True, inplace = True)    \n",
    "print('Finished!')"
   ]
  },
  {
   "cell_type": "markdown",
   "metadata": {},
   "source": [
    "# Dealing with Nulls:"
   ]
  },
  {
   "cell_type": "markdown",
   "metadata": {},
   "source": [
    "### Calculate Isolated Missing Values:\n",
    "Fill 'one-off' missing values with mean imputation of the nearest two values."
   ]
  },
  {
   "cell_type": "code",
   "execution_count": null,
   "metadata": {},
   "outputs": [],
   "source": [
    "for df in [c4_kep, randomized_planets]: # for each dataset\n",
    "    \n",
    "    is_null = df.isnull() # make a df of which values are null or not\n",
    "\n",
    "    for i in range(df.shape[0]): # for each row\n",
    "\n",
    "        # Print out some feedback to show progress\n",
    "        if i % 500 == 0:\n",
    "            print(i)\n",
    "\n",
    "        for j in range(df.shape[1]-1): # for each column\n",
    "            if j > 2: # skip the first three columns\n",
    "\n",
    "                if is_null.iloc[i, j] == True: # if the cell is null\n",
    "                    if not ((is_null.iloc[i, j-1] == True) | (is_null.iloc[i, j+1] == True)): # and if the adjacent cells are non-null\n",
    "                        df.iloc[i, j] = np.mean([df.iloc[i, j-1], df.iloc[i, j+1]]) # assign the cell to be the mean of the adjacent cells"
   ]
  },
  {
   "cell_type": "markdown",
   "metadata": {},
   "source": [
    "### Closing Gaps in Data:"
   ]
  },
  {
   "cell_type": "code",
   "execution_count": null,
   "metadata": {},
   "outputs": [],
   "source": [
    "for df in [c4_kep, randomized_planets]: # randomized_planets # for both datasets\n",
    "    df_count = 0 \n",
    "    \n",
    "    # Shifting values to fill nulls\n",
    "    is_null = df.isnull()\n",
    "    df_squished = pd.DataFrame()\n",
    "\n",
    "    for i in range(df.shape[0]): # for each row\n",
    "        \n",
    "        # print out some feedback to show progress\n",
    "        if i % 500 == 0:\n",
    "            print(i)\n",
    "\n",
    "        k = 0 # reset the df_squished column index to 0 for each new row\n",
    "        \n",
    "        for j in range(df.shape[1]): # for each column\n",
    "            \n",
    "            if is_null.iloc[i, j] == False: # if this cell is not null\n",
    "                df_squished.loc[i, k] = df.iloc[i, j] # add the cell to df_squished\n",
    "                k += 1\n",
    "    \n",
    "    # save df_squished to different variables for each dataset\n",
    "    if df_count == 0: # if this is the c4_kep set\n",
    "        c4_kep_squished = df_squished\n",
    "    else: # for the randomized_planets set\n",
    "        randomized_planets_squished = df_squished\n",
    "    df_count += 1"
   ]
  },
  {
   "cell_type": "markdown",
   "metadata": {},
   "source": [
    "# Assign Labels:"
   ]
  },
  {
   "cell_type": "markdown",
   "metadata": {},
   "source": [
    "Set labels to 0 (no detectable confirmed exoplanets) to begin with. <br>\n",
    "Label will be changed to 1 if the star name can be matched with the star names of confirmed exoplanet stars."
   ]
  },
  {
   "cell_type": "code",
   "execution_count": null,
   "metadata": {},
   "outputs": [],
   "source": [
    "# save to a new df before making changes\n",
    "label_planets = randomized_planets_squished\n",
    "\n",
    "# set label to 0\n",
    "label_planets[1] = 0"
   ]
  },
  {
   "cell_type": "code",
   "execution_count": null,
   "metadata": {},
   "outputs": [],
   "source": [
    "# save to a new df before making changes\n",
    "to_label_c4 = c4_kep_squished\n",
    "\n",
    "# set label to 0\n",
    "to_label_c4[1] = 0"
   ]
  },
  {
   "cell_type": "markdown",
   "metadata": {},
   "source": [
    "### Set Labels for Detectable Exoplanet Stars:\n",
    "Label 1 for exoplanet positive stars. <br>\n",
    "Do this for all data sets. <br>"
   ]
  },
  {
   "cell_type": "markdown",
   "metadata": {},
   "source": [
    "***Search for each star name in list of all confirmed exoplanets:*** <br>"
   ]
  },
  {
   "cell_type": "code",
   "execution_count": null,
   "metadata": {},
   "outputs": [],
   "source": [
    "# Set detectable period based on length of light curves (66 days)\n",
    "search_period = 66\n",
    "\n",
    "for df in [to_label_c4, label_planets]:\n",
    "\n",
    "    not_found = 0\n",
    "\n",
    "    for j in range(len(df)): # for every light curve\n",
    "        if j % 500 == 0:\n",
    "            print(j)\n",
    "\n",
    "        count = 0 # keep track of if we find it in confirmed planets list\n",
    "\n",
    "        for i in range(len(all_confirmed)): # look through each star name in the list of all confirmed planets\n",
    "            try:\n",
    "                if all_confirmed.loc[i, 'Alternative star names'].find(df.iloc[j, 0]) != -1:\n",
    "                    count += 1\n",
    "\n",
    "                    # make sure it has a detectable orbit\n",
    "                    orbit = all_confirmed.loc[i, 'Orbital period [days]']\n",
    "\n",
    "                    item = str(orbit)\n",
    "                    clean_orbit = ''\n",
    "                    for letter in item:\n",
    "\n",
    "                        if letter in ['.', '+', '-', '±']:\n",
    "                            break\n",
    "                        elif letter in ['0', '1', '2', '3', '4', '5', '6', '7', '8', '9']:\n",
    "                            clean_orbit = clean_orbit + letter\n",
    "\n",
    "                    if clean_orbit != '': # the following code will throw an error if the orbit was null\n",
    "                        clean_orbit = float(clean_orbit)\n",
    "\n",
    "                        if clean_orbit < search_period: # if this is a detectable planet set label to 1\n",
    "                            df.loc[j, 1] = 1\n",
    "\n",
    "            except AttributeError: # if the alternate star names value are null\n",
    "                try:\n",
    "                    if all_confirmed.loc[i, 'Star name'].find(df.iloc[j, 0]) != -1:\n",
    "                        count += 1\n",
    "\n",
    "                        # make sure it has a detectable orbit\n",
    "                        orbit = all_confirmed.loc[i, 'Orbital period [days]']\n",
    "\n",
    "                        item = str(orbit)\n",
    "                        clean_orbit = ''\n",
    "                        for letter in item:\n",
    "\n",
    "                            if letter in ['.', '+', '-', '±']:\n",
    "                                break\n",
    "                            elif letter in ['0', '1', '2', '3', '4', '5', '6', '7', '8', '9']:\n",
    "                                clean_orbit = clean_orbit + letter\n",
    "\n",
    "                        if clean_orbit != '': # the following code will throw an error if the orbit was null\n",
    "                            clean_orbit = float(clean_orbit)\n",
    "\n",
    "                            if clean_orbit < search_period: # if this is a detectable planet set label to 1\n",
    "                                df.loc[j, 1] = 1\n",
    "\n",
    "                except AttributeError: # if this is null too, keep going.\n",
    "                    continue"
   ]
  },
  {
   "cell_type": "markdown",
   "metadata": {},
   "source": [
    "### Check Labels:"
   ]
  },
  {
   "cell_type": "code",
   "execution_count": null,
   "metadata": {
    "scrolled": true
   },
   "outputs": [],
   "source": [
    "to_label_c4[1].value_counts()"
   ]
  },
  {
   "cell_type": "code",
   "execution_count": null,
   "metadata": {
    "scrolled": true
   },
   "outputs": [],
   "source": [
    "label_planets[1].value_counts()"
   ]
  },
  {
   "cell_type": "markdown",
   "metadata": {},
   "source": [
    "### Remove Undetectable Planet Stars from Exoplanet Light Curve Set:"
   ]
  },
  {
   "cell_type": "code",
   "execution_count": null,
   "metadata": {},
   "outputs": [],
   "source": [
    "# Save only the positive labels to a new df\n",
    "labeled_planets = label_planets[label_planets[1] == 1].loc[:,:3381] # only keep the clean values ending at column 3381\n",
    "\n",
    "# Reset the index\n",
    "labeled_planets.reset_index(drop=True, inplace = True)"
   ]
  },
  {
   "cell_type": "markdown",
   "metadata": {},
   "source": [
    "# Set Column Names"
   ]
  },
  {
   "cell_type": "markdown",
   "metadata": {},
   "source": [
    "### Prepare List of Column Names:"
   ]
  },
  {
   "cell_type": "code",
   "execution_count": null,
   "metadata": {},
   "outputs": [],
   "source": [
    "# labeled_planets.columns\n",
    "col_to_add = c4_kep.columns\n",
    "\n",
    "# Convert to a list\n",
    "col_to_add = list(col_to_add)\n",
    "\n",
    "# Remove 'exposure' because it is not useful information\n",
    "col_to_add.remove('exposure')\n",
    "\n",
    "# add the column name 'label' to position 1 in the list\n",
    "col_to_add.insert(1, 'label')"
   ]
  },
  {
   "cell_type": "markdown",
   "metadata": {},
   "source": [
    "### Rename Columns:"
   ]
  },
  {
   "cell_type": "code",
   "execution_count": null,
   "metadata": {},
   "outputs": [],
   "source": [
    "# Remove the extra column names\n",
    "lst = col_to_add[:3382]\n",
    "\n",
    "# Set column names to labeled_planets\n",
    "labeled_planets.columns = lst\n",
    "\n",
    "# Set column names to to_label_c4\n",
    "to_label_c4.columns = col_to_add[:to_label_c4.shape[1]]"
   ]
  },
  {
   "cell_type": "markdown",
   "metadata": {},
   "source": [
    "# Save to a New File:"
   ]
  },
  {
   "cell_type": "code",
   "execution_count": null,
   "metadata": {},
   "outputs": [],
   "source": [
    "labeled_planets.to_csv('../clean_planet_data/clean_labeled_planets.csv', index=False)"
   ]
  },
  {
   "cell_type": "code",
   "execution_count": null,
   "metadata": {},
   "outputs": [],
   "source": [
    "to_label_c4.to_csv('../clean_planet_data/clean_labeled_c4_kep.csv', index=False)"
   ]
  },
  {
   "cell_type": "markdown",
   "metadata": {},
   "source": [
    "# Done!"
   ]
  },
  {
   "cell_type": "markdown",
   "metadata": {},
   "source": [
    "<hr>"
   ]
  }
 ],
 "metadata": {
  "kernelspec": {
   "display_name": "Python 3",
   "language": "python",
   "name": "python3"
  },
  "language_info": {
   "codemirror_mode": {
    "name": "ipython",
    "version": 3
   },
   "file_extension": ".py",
   "mimetype": "text/x-python",
   "name": "python",
   "nbconvert_exporter": "python",
   "pygments_lexer": "ipython3",
   "version": "3.6.6"
  }
 },
 "nbformat": 4,
 "nbformat_minor": 2
}
