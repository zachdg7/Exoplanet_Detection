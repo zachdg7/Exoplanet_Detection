{
 "cells": [
  {
   "cell_type": "markdown",
   "metadata": {},
   "source": [
    "### Goals in this Notebook:\n",
    "Make new files where the data is: \n",
    "> Clean, without null values. <br>\n",
    "> Labeled as detectable planet around star (1) or not (0). <br>\n",
    "> Set to the same time frame. <br>"
   ]
  },
  {
   "cell_type": "markdown",
   "metadata": {},
   "source": [
    "### Imports:"
   ]
  },
  {
   "cell_type": "code",
   "execution_count": 1,
   "metadata": {},
   "outputs": [],
   "source": [
    "import pandas as pd\n",
    "import matplotlib.pyplot as plt\n",
    "import time\n",
    "import numpy as np\n",
    "import random\n",
    "\n",
    "%matplotlib inline"
   ]
  },
  {
   "cell_type": "markdown",
   "metadata": {},
   "source": [
    "### Read in the Files:"
   ]
  },
  {
   "cell_type": "code",
   "execution_count": 2,
   "metadata": {},
   "outputs": [],
   "source": [
    "# These are the confirmed planet stars from the first download session\n",
    "c_planets = pd.read_csv('../clean_planet_data/extracted_planets_1_again.csv')\n",
    "\n",
    "# These are the confirmed planet stars from the second download session\n",
    "c_planets_2 = pd.read_csv('../clean_planet_data/extracted_confirmed_planets_2_again.csv')\n",
    "\n",
    "c4_kep = pd.read_csv('../clean_planet_data/extracted_kep_c4_7700_backup.csv')"
   ]
  },
  {
   "cell_type": "code",
   "execution_count": 3,
   "metadata": {},
   "outputs": [],
   "source": [
    "# drop the last line of c4_kep because it only downloaded halfway before being stopped\n",
    "c4_kep.drop(index=7713, inplace = True)"
   ]
  },
  {
   "cell_type": "markdown",
   "metadata": {},
   "source": [
    "# Start Munging:"
   ]
  },
  {
   "cell_type": "markdown",
   "metadata": {},
   "source": [
    "### Randomly Select Lightcurves from the Duplicates in Confirmed Planets Set:\n",
    "In the confirmed planets set, there are several light curves for each star. <br>\n",
    "Randomly selecting the light curve from these will prevent counfounding variables from influencing the model. "
   ]
  },
  {
   "cell_type": "code",
   "execution_count": 17,
   "metadata": {},
   "outputs": [],
   "source": [
    "# combine both sets containing confirmed planets\n",
    "combined_planets = pd.concat([c_planets, c_planets_2])"
   ]
  },
  {
   "cell_type": "code",
   "execution_count": 33,
   "metadata": {},
   "outputs": [
    {
     "name": "stdout",
     "output_type": "stream",
     "text": [
      "250\n",
      "500\n",
      "750\n",
      "1000\n",
      "1250\n"
     ]
    }
   ],
   "source": [
    "randomized_planets = pd.DataFrame(columns = c_planets.columns)\n",
    "\n",
    "i = 0\n",
    "\n",
    "# Randomly selecting each star's light curves from various time frames\n",
    "for star in combined_planets['star_name'].unique():\n",
    "    \n",
    "    # Print out some feedback to show progress\n",
    "    if i % 250 == 0:\n",
    "        print(i)    \n",
    "    i += 1\n",
    "\n",
    "    # Randomly select light curve and add it to randomized_planets\n",
    "    same_star = combined_planets[combined_planets['star_name'] == star] # select all rows whose stars have the same name\n",
    "    rand_select = random.choice(same_star.index) # randomly select one of the index numbers\n",
    "    randomized_planets = pd.concat([randomized_planets, same_star[same_star.index == rand_select]]) # add it to the new df\n",
    "\n",
    "# Reset the index\n",
    "randomized_planets.reset_index(drop = True, inplace = True)    \n",
    "print('Finished!')"
   ]
  },
  {
   "cell_type": "markdown",
   "metadata": {},
   "source": [
    "# Dealing with Nulls:"
   ]
  },
  {
   "cell_type": "markdown",
   "metadata": {},
   "source": [
    "### Calculate Isolated Missing Values:\n",
    "Fill 'one-off' missing values with mean imputation of the nearest two values."
   ]
  },
  {
   "cell_type": "code",
   "execution_count": 42,
   "metadata": {},
   "outputs": [
    {
     "name": "stdout",
     "output_type": "stream",
     "text": [
      "0\n",
      "250\n",
      "500\n",
      "750\n",
      "1000\n",
      "1250\n",
      "1500\n",
      "1750\n",
      "2000\n",
      "2250\n",
      "2500\n",
      "2750\n",
      "3000\n",
      "3250\n",
      "3500\n",
      "3750\n",
      "4000\n",
      "4250\n",
      "4500\n",
      "4750\n",
      "5000\n",
      "5250\n",
      "5500\n",
      "5750\n",
      "6000\n",
      "6250\n",
      "6500\n",
      "6750\n",
      "7000\n",
      "7250\n",
      "7500\n",
      "0\n",
      "250\n",
      "500\n",
      "750\n",
      "1000\n",
      "1250\n"
     ]
    }
   ],
   "source": [
    "for df in [c4_kep, randomized_planets]: # for each dataset\n",
    "    \n",
    "    is_null = df.isnull() # make a df of which values are null or not\n",
    "\n",
    "    for i in range(df.shape[0]): # for each row\n",
    "\n",
    "        # Print out some feedback to show progress\n",
    "        if i % 500 == 0:\n",
    "            print(i)\n",
    "\n",
    "        for j in range(df.shape[1]-1): # for each column\n",
    "            if j > 2: # skip the first three columns\n",
    "\n",
    "                if is_null.iloc[i, j] == True: # if the cell is null\n",
    "                    if not ((is_null.iloc[i, j-1] == True) | (is_null.iloc[i, j+1] == True)): # and if the adjacent cells are non-null\n",
    "                        df.iloc[i, j] = np.mean([df.iloc[i, j-1], df.iloc[i, j+1]]) # assign the cell to be the mean of the adjacent cells"
   ]
  },
  {
   "cell_type": "markdown",
   "metadata": {},
   "source": [
    "### Closing Gaps in Data:"
   ]
  },
  {
   "cell_type": "code",
   "execution_count": 45,
   "metadata": {},
   "outputs": [
    {
     "data": {
      "text/html": [
       "<div>\n",
       "<style scoped>\n",
       "    .dataframe tbody tr th:only-of-type {\n",
       "        vertical-align: middle;\n",
       "    }\n",
       "\n",
       "    .dataframe tbody tr th {\n",
       "        vertical-align: top;\n",
       "    }\n",
       "\n",
       "    .dataframe thead th {\n",
       "        text-align: right;\n",
       "    }\n",
       "</style>\n",
       "<table border=\"1\" class=\"dataframe\">\n",
       "  <thead>\n",
       "    <tr style=\"text-align: right;\">\n",
       "      <th></th>\n",
       "      <th>star_name</th>\n",
       "      <th>exposure</th>\n",
       "      <th>c_flux_0</th>\n",
       "      <th>c_flux_1</th>\n",
       "      <th>c_flux_2</th>\n",
       "      <th>c_flux_3</th>\n",
       "      <th>c_flux_4</th>\n",
       "      <th>c_flux_5</th>\n",
       "      <th>c_flux_6</th>\n",
       "      <th>c_flux_7</th>\n",
       "      <th>...</th>\n",
       "      <th>c_flux_4387</th>\n",
       "      <th>c_flux_4388</th>\n",
       "      <th>c_flux_4389</th>\n",
       "      <th>c_flux_4390</th>\n",
       "      <th>c_flux_4391</th>\n",
       "      <th>c_flux_4392</th>\n",
       "      <th>c_flux_4393</th>\n",
       "      <th>c_flux_4394</th>\n",
       "      <th>c_flux_4395</th>\n",
       "      <th>c_flux_4396</th>\n",
       "    </tr>\n",
       "  </thead>\n",
       "  <tbody>\n",
       "    <tr>\n",
       "      <th>0</th>\n",
       "      <td>KIC 1025494</td>\n",
       "      <td>82.716241</td>\n",
       "      <td>NaN</td>\n",
       "      <td>2.633382e+05</td>\n",
       "      <td>2.633437e+05</td>\n",
       "      <td>2.633493e+05</td>\n",
       "      <td>2.632883e+05</td>\n",
       "      <td>2.634034e+05</td>\n",
       "      <td>2.633153e+05</td>\n",
       "      <td>2.633076e+05</td>\n",
       "      <td>...</td>\n",
       "      <td>2.633262e+05</td>\n",
       "      <td>2.633096e+05</td>\n",
       "      <td>2.633450e+05</td>\n",
       "      <td>2.633055e+05</td>\n",
       "      <td>2.633076e+05</td>\n",
       "      <td>2.633412e+05</td>\n",
       "      <td>2.633336e+05</td>\n",
       "      <td>2.633332e+05</td>\n",
       "      <td>2.633176e+05</td>\n",
       "      <td>2.633526e+05</td>\n",
       "    </tr>\n",
       "    <tr>\n",
       "      <th>1</th>\n",
       "      <td>KIC 1025578</td>\n",
       "      <td>82.716237</td>\n",
       "      <td>NaN</td>\n",
       "      <td>1.292338e+04</td>\n",
       "      <td>1.292032e+04</td>\n",
       "      <td>1.291726e+04</td>\n",
       "      <td>1.291329e+04</td>\n",
       "      <td>1.292188e+04</td>\n",
       "      <td>1.292211e+04</td>\n",
       "      <td>1.291157e+04</td>\n",
       "      <td>...</td>\n",
       "      <td>1.291279e+04</td>\n",
       "      <td>1.291749e+04</td>\n",
       "      <td>1.292433e+04</td>\n",
       "      <td>1.292121e+04</td>\n",
       "      <td>1.291119e+04</td>\n",
       "      <td>1.291699e+04</td>\n",
       "      <td>1.291756e+04</td>\n",
       "      <td>1.293214e+04</td>\n",
       "      <td>1.293186e+04</td>\n",
       "      <td>1.290860e+04</td>\n",
       "    </tr>\n",
       "    <tr>\n",
       "      <th>2</th>\n",
       "      <td>KIC 1025986</td>\n",
       "      <td>82.716227</td>\n",
       "      <td>NaN</td>\n",
       "      <td>1.276864e+06</td>\n",
       "      <td>1.277048e+06</td>\n",
       "      <td>1.277233e+06</td>\n",
       "      <td>1.277410e+06</td>\n",
       "      <td>1.277653e+06</td>\n",
       "      <td>1.277849e+06</td>\n",
       "      <td>1.278068e+06</td>\n",
       "      <td>...</td>\n",
       "      <td>1.272619e+06</td>\n",
       "      <td>1.273011e+06</td>\n",
       "      <td>1.273417e+06</td>\n",
       "      <td>1.273826e+06</td>\n",
       "      <td>1.274113e+06</td>\n",
       "      <td>1.274493e+06</td>\n",
       "      <td>1.274748e+06</td>\n",
       "      <td>1.275238e+06</td>\n",
       "      <td>1.275759e+06</td>\n",
       "      <td>1.276052e+06</td>\n",
       "    </tr>\n",
       "    <tr>\n",
       "      <th>3</th>\n",
       "      <td>KIC 1026032</td>\n",
       "      <td>82.716228</td>\n",
       "      <td>NaN</td>\n",
       "      <td>1.743618e+04</td>\n",
       "      <td>1.743269e+04</td>\n",
       "      <td>1.742921e+04</td>\n",
       "      <td>1.743379e+04</td>\n",
       "      <td>1.743004e+04</td>\n",
       "      <td>1.743159e+04</td>\n",
       "      <td>1.742726e+04</td>\n",
       "      <td>...</td>\n",
       "      <td>1.739245e+04</td>\n",
       "      <td>1.739575e+04</td>\n",
       "      <td>1.739241e+04</td>\n",
       "      <td>1.740589e+04</td>\n",
       "      <td>1.739701e+04</td>\n",
       "      <td>1.738893e+04</td>\n",
       "      <td>1.740034e+04</td>\n",
       "      <td>1.739358e+04</td>\n",
       "      <td>1.738954e+04</td>\n",
       "      <td>1.738559e+04</td>\n",
       "    </tr>\n",
       "    <tr>\n",
       "      <th>4</th>\n",
       "      <td>KIC 1026133</td>\n",
       "      <td>82.716226</td>\n",
       "      <td>NaN</td>\n",
       "      <td>8.089427e+04</td>\n",
       "      <td>8.089823e+04</td>\n",
       "      <td>8.090219e+04</td>\n",
       "      <td>8.091389e+04</td>\n",
       "      <td>8.088692e+04</td>\n",
       "      <td>8.089593e+04</td>\n",
       "      <td>8.087595e+04</td>\n",
       "      <td>...</td>\n",
       "      <td>8.090645e+04</td>\n",
       "      <td>8.092413e+04</td>\n",
       "      <td>8.089960e+04</td>\n",
       "      <td>8.091161e+04</td>\n",
       "      <td>8.090157e+04</td>\n",
       "      <td>8.090039e+04</td>\n",
       "      <td>8.092984e+04</td>\n",
       "      <td>8.091438e+04</td>\n",
       "      <td>8.091408e+04</td>\n",
       "      <td>8.090827e+04</td>\n",
       "    </tr>\n",
       "  </tbody>\n",
       "</table>\n",
       "<p>5 rows × 4399 columns</p>\n",
       "</div>"
      ],
      "text/plain": [
       "     star_name   exposure  c_flux_0      c_flux_1      c_flux_2      c_flux_3  \\\n",
       "0  KIC 1025494  82.716241       NaN  2.633382e+05  2.633437e+05  2.633493e+05   \n",
       "1  KIC 1025578  82.716237       NaN  1.292338e+04  1.292032e+04  1.291726e+04   \n",
       "2  KIC 1025986  82.716227       NaN  1.276864e+06  1.277048e+06  1.277233e+06   \n",
       "3  KIC 1026032  82.716228       NaN  1.743618e+04  1.743269e+04  1.742921e+04   \n",
       "4  KIC 1026133  82.716226       NaN  8.089427e+04  8.089823e+04  8.090219e+04   \n",
       "\n",
       "       c_flux_4      c_flux_5      c_flux_6      c_flux_7      ...       \\\n",
       "0  2.632883e+05  2.634034e+05  2.633153e+05  2.633076e+05      ...        \n",
       "1  1.291329e+04  1.292188e+04  1.292211e+04  1.291157e+04      ...        \n",
       "2  1.277410e+06  1.277653e+06  1.277849e+06  1.278068e+06      ...        \n",
       "3  1.743379e+04  1.743004e+04  1.743159e+04  1.742726e+04      ...        \n",
       "4  8.091389e+04  8.088692e+04  8.089593e+04  8.087595e+04      ...        \n",
       "\n",
       "    c_flux_4387   c_flux_4388   c_flux_4389   c_flux_4390   c_flux_4391  \\\n",
       "0  2.633262e+05  2.633096e+05  2.633450e+05  2.633055e+05  2.633076e+05   \n",
       "1  1.291279e+04  1.291749e+04  1.292433e+04  1.292121e+04  1.291119e+04   \n",
       "2  1.272619e+06  1.273011e+06  1.273417e+06  1.273826e+06  1.274113e+06   \n",
       "3  1.739245e+04  1.739575e+04  1.739241e+04  1.740589e+04  1.739701e+04   \n",
       "4  8.090645e+04  8.092413e+04  8.089960e+04  8.091161e+04  8.090157e+04   \n",
       "\n",
       "    c_flux_4392   c_flux_4393   c_flux_4394   c_flux_4395   c_flux_4396  \n",
       "0  2.633412e+05  2.633336e+05  2.633332e+05  2.633176e+05  2.633526e+05  \n",
       "1  1.291699e+04  1.291756e+04  1.293214e+04  1.293186e+04  1.290860e+04  \n",
       "2  1.274493e+06  1.274748e+06  1.275238e+06  1.275759e+06  1.276052e+06  \n",
       "3  1.738893e+04  1.740034e+04  1.739358e+04  1.738954e+04  1.738559e+04  \n",
       "4  8.090039e+04  8.092984e+04  8.091438e+04  8.091408e+04  8.090827e+04  \n",
       "\n",
       "[5 rows x 4399 columns]"
      ]
     },
     "execution_count": 45,
     "metadata": {},
     "output_type": "execute_result"
    }
   ],
   "source": [
    "c4_kep.head()"
   ]
  },
  {
   "cell_type": "code",
   "execution_count": 46,
   "metadata": {},
   "outputs": [
    {
     "name": "stdout",
     "output_type": "stream",
     "text": [
      "0\n",
      "500\n",
      "1000\n"
     ]
    }
   ],
   "source": [
    "for df in [randomized_planets]: #c4_kep # for both datasets\n",
    "#     df_count = 1 \n",
    "    \n",
    "    # Shifting values to fill nulls\n",
    "    is_null = df.isnull()\n",
    "    df_squished = pd.DataFrame()\n",
    "\n",
    "    for i in range(df.shape[0]): # for each row\n",
    "        \n",
    "        # print out some feedback to show progress\n",
    "        if i % 500 == 0:\n",
    "            print(i)\n",
    "\n",
    "        k = 0 # reset the df_squished column index to 0 for each new row\n",
    "        \n",
    "        for j in range(df.shape[1]): # for each column\n",
    "            \n",
    "            if is_null.iloc[i, j] == False: # if this cell is not null\n",
    "                df_squished.loc[i, k] = df.iloc[i, j] # add the cell to df_squished\n",
    "                k += 1\n",
    "    \n",
    "#     # save df_squished to different variables for each dataset\n",
    "#     if df_count = 1: # if this is the c4_kep set\n",
    "#         c4_kep_squished = df_squished\n",
    "#     else: # for the randomized_planets set\n",
    "randomized_planets_squished = df_squished\n",
    "#     df_count += 1"
   ]
  },
  {
   "cell_type": "code",
   "execution_count": null,
   "metadata": {},
   "outputs": [],
   "source": [
    "# Do this for c4_kep and confirmed planets\n",
    "\n",
    "# fix this: the column names will no longer be relevent\n"
   ]
  },
  {
   "cell_type": "markdown",
   "metadata": {},
   "source": [
    "# Assign Labels"
   ]
  },
  {
   "cell_type": "markdown",
   "metadata": {},
   "source": [
    "### Assign Labels to Stars with Planets:"
   ]
  },
  {
   "cell_type": "code",
   "execution_count": null,
   "metadata": {},
   "outputs": [],
   "source": [
    "# Bring in a table that lists all confirmed planets with their star names and other info\n",
    "all_confirmed = pd.read_csv('../clean_planet_data/all_planets_list.csv')"
   ]
  },
  {
   "cell_type": "code",
   "execution_count": null,
   "metadata": {},
   "outputs": [],
   "source": [
    "# Assign labels to c4_kep\n",
    "not_found = 0\n",
    "stars_to_drop = []\n",
    "\n",
    "for j in range(len(c4_kep)): # for every light curve\n",
    "    if j % 250 == 0:\n",
    "        print(j)\n",
    "\n",
    "    count = 0\n",
    "    for i in range(len(all_confirmed)): # look through each star name in the list of all confirmed planets\n",
    "        try:\n",
    "            if all_confirmed.loc[i, 'Alternative star names'].find(c4_kep.iloc[j, 0]) != -1:\n",
    "                count += 1\n",
    "                print(c4_kep.iloc[j, 0], ' found @ index: ', j, 'orbital period: ', all_confirmed.loc[i, 'Orbital period [days]'])\n",
    "                c4_kep.loc[j, '1'] = 1\n",
    "    \n",
    "        except AttributeError: # if the alternate star names value are null\n",
    "            try:\n",
    "                if all_confirmed.loc[i, 'Star name'].find(c4_kep.iloc[j, 0]) != -1:\n",
    "                    count += 1\n",
    "                    print(c4_kep.iloc[j, 0], ' found @ index: ', j, 'on 2nd level of loop', 'orbital period: ', all_confirmed.loc[i, 'Orbital period [days]'])\n",
    "                    c4_kep.loc[j, '1'] = 1\n",
    "                    \n",
    "            except AttributeError: # if this is null too, keep going. There are few of these cases in the set\n",
    "                continue\n",
    "                \n",
    "    if count == 0:\n",
    "        not_found += 1"
   ]
  },
  {
   "cell_type": "code",
   "execution_count": null,
   "metadata": {},
   "outputs": [],
   "source": [
    "# change label on confirmed stars with no planets under the timeframe we're looking at\n",
    "#     add a 'detectable' column?\n",
    "\n",
    "# drop stars from confirmed planets that cannot be found? how many are there?, can I get this data somewhere else?"
   ]
  },
  {
   "cell_type": "markdown",
   "metadata": {},
   "source": [
    "### Make Detectable Planets Label for Confirmed Planets Set:\n",
    "Label should only be positive if the planet has a detectable orbitable period."
   ]
  },
  {
   "cell_type": "code",
   "execution_count": null,
   "metadata": {},
   "outputs": [],
   "source": [
    "# clean all_confirmed planets obrital period column to be usable (numeric and no weird symbols)\n",
    "\n",
    "# for each confirmed planet star\n",
    "#     search for it in all_confirmed\n",
    "#     if there is no planet with that star name with an orbit less than the detectable period\n",
    "#         drop it\n",
    "\n",
    "#     if it can't be found in all_confirmed\n",
    "#         drop it and tally how many of these there are"
   ]
  },
  {
   "cell_type": "markdown",
   "metadata": {},
   "source": [
    "### Set the Light Curves to the Same Time Frame:\n",
    "That way there are no nulls and we can compare all the light curves from all datasets."
   ]
  },
  {
   "cell_type": "code",
   "execution_count": null,
   "metadata": {},
   "outputs": [],
   "source": [
    "# max row length should be the number of nonmissing values in the shortest clean light curve\n",
    "# make sure the feature names are consistent and usable"
   ]
  },
  {
   "cell_type": "markdown",
   "metadata": {},
   "source": [
    "### Save to a New File:"
   ]
  },
  {
   "cell_type": "code",
   "execution_count": null,
   "metadata": {},
   "outputs": [],
   "source": [
    "# df_squished.to_csv('../clean_planet_data/clean_labeled_kep_c4.csv', index=False)"
   ]
  },
  {
   "cell_type": "code",
   "execution_count": null,
   "metadata": {},
   "outputs": [],
   "source": [
    "# least_null_planets.to_csv('../clean_planet_data/clean_labeled_planets.csv', index=False)"
   ]
  },
  {
   "cell_type": "markdown",
   "metadata": {},
   "source": [
    "### Done!"
   ]
  }
 ],
 "metadata": {
  "kernelspec": {
   "display_name": "Python 3",
   "language": "python",
   "name": "python3"
  },
  "language_info": {
   "codemirror_mode": {
    "name": "ipython",
    "version": 3
   },
   "file_extension": ".py",
   "mimetype": "text/x-python",
   "name": "python",
   "nbconvert_exporter": "python",
   "pygments_lexer": "ipython3",
   "version": "3.6.6"
  }
 },
 "nbformat": 4,
 "nbformat_minor": 2
}
