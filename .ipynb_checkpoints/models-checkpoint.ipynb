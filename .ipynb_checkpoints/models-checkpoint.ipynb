{
 "cells": [
  {
   "cell_type": "markdown",
   "metadata": {},
   "source": [
    "# Neural Network Modeling Notebook\n",
    "\n",
    "<hr>\n",
    "\n",
    "### Imports:"
   ]
  },
  {
   "cell_type": "code",
   "execution_count": null,
   "metadata": {},
   "outputs": [],
   "source": [
    "import pandas as pd\n",
    "import matplotlib.pyplot as plt\n",
    "import numpy as np\n",
    "import time\n",
    "\n",
    "# Keras Imports\n",
    "from keras.models import Sequential\n",
    "from keras.layers import Dense, Dropout, Activation, Flatten\n",
    "from keras.layers import Conv1D, MaxPooling1D\n",
    "from keras.utils import np_utils\n",
    "from keras import optimizers\n",
    "from keras.callbacks import ModelCheckpoint\n",
    "\n",
    "# Scikit-Learn Imports\n",
    "from sklearn.model_selection import train_test_split\n",
    "from sklearn.metrics import confusion_matrix, roc_curve, auc\n",
    "from sklearn.utils import class_weight\n",
    "from sklearn.preprocessing import StandardScaler\n",
    "\n",
    "%matplotlib inline\n",
    "\n",
    "# For setting random seed\n",
    "from tensorflow import set_random_seed"
   ]
  },
  {
   "cell_type": "code",
   "execution_count": 1,
   "metadata": {},
   "outputs": [
    {
     "name": "stderr",
     "output_type": "stream",
     "text": [
      "Using TensorFlow backend.\n"
     ]
    },
    {
     "name": "stdout",
     "output_type": "stream",
     "text": [
      "Couldn't import dot_parser, loading of dot files will not be possible.\n"
     ]
    }
   ],
   "source": [
    "# Set random seed to ensure reproducible results\n",
    "rand_seed = 112\n",
    "np.random.seed(rand_seed)\n",
    "set_random_seed(rand_seed)"
   ]
  },
  {
   "cell_type": "markdown",
   "metadata": {},
   "source": [
    "### Load the Data:"
   ]
  },
  {
   "cell_type": "code",
   "execution_count": 2,
   "metadata": {},
   "outputs": [],
   "source": [
    "has_planets = pd.read_csv('../clean_planet_data/clean_labeled_planets_seed.csv')\n",
    "# has_planets = pd.read_csv('https://hkvbeg.bn.files.1drv.com/y4mlNbHDTm5VQseIrjQaNKoo0pBiUMbfjlS6uaPbSjDv9_cC0qSRXiZp2ipI0r3DZrlFckN47lIoaCEfVwlzRqcFEVsyqpLL6donvNRJYNkOrOPhL4HtZu-Fwx-qDizNWcJIrObkW9YhAmdNOE0KXIJRfhPYbsvK1-asHeUx_V_RG_-2h_haqUfXL72eWmPkJQI/clean_labeled_planets_seed.csv?download&psid=1')"
   ]
  },
  {
   "cell_type": "code",
   "execution_count": 3,
   "metadata": {},
   "outputs": [],
   "source": [
    "c4_kep_raw = pd.read_csv('../clean_planet_data/clean_labeled_c4_kep_seed.csv')\n",
    "# c4_kep_raw = pd.read_csv('https://hkveeg.bn.files.1drv.com/y4mJE7IcMFZmmx8Ta9GXPVy63FizLYjFw3guxJF04Zbz5zt_H809sEQPiQqvPYwlpAyrm7XJrmUCN2mbEQLYsTBLiw1-3kF6tqRczhJygcMHaE04FdeCKy7D-o4wwO5SLdwlwRHRLV_aUkGxBPYyF6VYRo_0kJNqrs8BYziTAfhaoSYLlrF54yTECVwCciPs8XX/clean_labeled_c4_kep_seed.csv?download&psid=1')"
   ]
  },
  {
   "cell_type": "markdown",
   "metadata": {},
   "source": [
    "<hr>\n",
    "\n",
    "# Preparing Data:\n",
    "### Mix confirmed planet stars into data.\n",
    "This will allow the model to learn what they \"look\" Like."
   ]
  },
  {
   "cell_type": "code",
   "execution_count": 4,
   "metadata": {},
   "outputs": [],
   "source": [
    "# cut out the extra data to compare across the same timeline (~3200 points)\n",
    "join_planets = has_planets.iloc[:,:3199]\n",
    "c4_kep = c4_kep_raw.iloc[:,:3199] \n",
    "\n",
    "# Randomly select stars to train on, then set aside the rest as'unseen' data\n",
    "sample_size = c4_kep_raw.shape[0] - 5000\n",
    "training_sample = c4_kep.sample(sample_size, random_state=rand_seed)\n",
    "\n",
    "# Use mask to remove rows taken in the training sample\n",
    "c4_holdout = c4_kep[~c4_kep['star_name'].isin(training_sample['star_name'])]\n",
    "\n",
    "# Put training data together into master_df\n",
    "master_df = pd.concat([join_planets, training_sample], axis = 0)"
   ]
  },
  {
   "cell_type": "markdown",
   "metadata": {},
   "source": [
    "### Calculate Baseline Accuracy:"
   ]
  },
  {
   "cell_type": "code",
   "execution_count": 26,
   "metadata": {},
   "outputs": [
    {
     "name": "stdout",
     "output_type": "stream",
     "text": [
      "Total:  3869\n",
      "Has confirmed planets:  1176\n",
      "No confirmed planets:  2693 \n",
      "\n",
      "Baseline Accuracy:  30.395 %\n"
     ]
    }
   ],
   "source": [
    "val_count = master_df['label'].value_counts()\n",
    "base_acc = val_count[1] / val_count.sum()\n",
    "\n",
    "print('Total: ', val_count.sum())\n",
    "print('Has confirmed planets: ', val_count[1])\n",
    "print('No confirmed planets: ', val_count[0],'\\n')\n",
    "print('Baseline Accuracy: ', round(base_acc*100, 3), '%')"
   ]
  },
  {
   "cell_type": "markdown",
   "metadata": {},
   "source": [
    "### Normalize Light Curves\n",
    "This will allow stars of different brightnesses can be compared."
   ]
  },
  {
   "cell_type": "code",
   "execution_count": 39,
   "metadata": {},
   "outputs": [],
   "source": [
    "# Make X, y and unseen_data\n",
    "X = master_df.iloc[:, 2:]\n",
    "y = master_df['label']\n",
    "unseen_data = c4_holdout.iloc[:,2:3199]\n",
    "\n",
    "# Transpose to pass to Scaler\n",
    "X = X.T\n",
    "unseen_data = unseen_data.T\n",
    "\n",
    "# Scale to normalize each lightcurve\n",
    "ss = StandardScaler()\n",
    "scaled_X = ss.fit_transform(X)\n",
    "scaled_unseen = ss.fit_transform(unseen_data)\n",
    "\n",
    "# Transpose back to normal\n",
    "X = np.transpose(scaled_X)\n",
    "unseen_data = np.transpose(scaled_unseen)\n",
    "\n",
    "# Add a new axis to the array\n",
    "X = np.expand_dims(X, axis = 2)\n",
    "unseen_data = np.expand_dims(unseen_data, axis = 2)"
   ]
  },
  {
   "cell_type": "markdown",
   "metadata": {},
   "source": [
    "### Train-Test Split"
   ]
  },
  {
   "cell_type": "code",
   "execution_count": 40,
   "metadata": {},
   "outputs": [],
   "source": [
    "X_train, X_test, y_train, y_test = train_test_split(X, y, stratify = y)"
   ]
  },
  {
   "cell_type": "markdown",
   "metadata": {},
   "source": [
    "<hr>\n",
    "\n",
    "# Neural Network Modeling:\n",
    "### Architecture:"
   ]
  },
  {
   "cell_type": "code",
   "execution_count": 12,
   "metadata": {},
   "outputs": [],
   "source": [
    "# Compute class_weights to pass into the model\n",
    "class_weights = class_weight.compute_class_weight('balanced',\n",
    "                                                 np.unique(y_train),\n",
    "                                                 y_train)"
   ]
  },
  {
   "cell_type": "code",
   "execution_count": 53,
   "metadata": {},
   "outputs": [],
   "source": [
    "# Parameters for network\n",
    "\n",
    "# Convolutional and Pooling Layers\n",
    "pool_layers = [3]\n",
    "\n",
    "pool_size1 = [3]\n",
    "pool_size2 = [5]\n",
    "pool_size3 = [5]\n",
    "\n",
    "p_drop1 = [.2]\n",
    "p_drop2 = [.25]\n",
    "p_drop3 = [.5]\n",
    "\n",
    "conv_layers_1 = [4]\n",
    "conv_layers_2 = [2]\n",
    "conv_layers_3 = [1]\n",
    "\n",
    "filters1 = [15]\n",
    "filters2 = [20]\n",
    "filters3 = [10]\n",
    "filters4 = [20]\n",
    "filters_c2_1 = [20]\n",
    "filters_c2_2 = [7]\n",
    "filters_c3_1 = [10]\n",
    "\n",
    "kern_size1 = [20]\n",
    "kern_size2 = [30]\n",
    "kern_size3 = [60]\n",
    "kern_size4 = [20]\n",
    "kern_size_c2_1 = [10]\n",
    "kern_size_c2_2 = [10]\n",
    "kern_size_c3_1 = [30]\n",
    "\n",
    "# Fully Connected Layers Parameters\n",
    "hid_layers = [2]\n",
    "\n",
    "neurons1 = [2500]\n",
    "neurons2 = [1500]\n",
    "\n",
    "n_drop1 = [.7]\n",
    "n_drop2 = [.7]\n",
    "\n",
    "# Optimizer settings\n",
    "learn_rate = [.001]\n",
    "decay = [0]"
   ]
  },
  {
   "cell_type": "code",
   "execution_count": 55,
   "metadata": {},
   "outputs": [],
   "source": [
    "# ################### make this part automatic with .add methods so you can input the number of levels dynamically\n",
    "#     for layer in conv_layers or something then .add\n",
    "#     then put after the for loops \n",
    "#     have a default for setting out of bounds parameters\n",
    "\n",
    "conv_layers = [conv_layers_1, conv_layers_2, conv_layers_3]\n",
    "conv1_kerns = [kern_size1, kern_size2, kern_size3, kern_size4]\n",
    "conv1_filters = [filters1, filters2, filters3, filters4]\n",
    "conv2_kerns = [kern_size_c2_1, kern_size_c2_2]\n",
    "conv2_filters = [filters_c2_1, filters_c2_2]\n",
    "conv3_filters = [filters_c3_1]\n",
    "conv3_kerns = [kern_size_c3_1]\n",
    "filters = [conv1_filters, conv2_filters, conv3_filters]\n",
    "kerns = [conv1_kerns, conv2_kerns, conv3_kerns]\n",
    "\n",
    "pool_sizes = [pool_size1, pool_size2, pool_size3]\n",
    "p_drops = [p_drop1, p_drop2, p_drop3]\n",
    "\n",
    "neurons = [neurons1, neurons2]\n",
    "n_drops = [n_drop1, n_drop2]"
   ]
  },
  {
   "cell_type": "code",
   "execution_count": 56,
   "metadata": {},
   "outputs": [],
   "source": [
    "# remove [0] when turning into a pipeline\n",
    "\n",
    "\n",
    "# Dynamic Convolutional Network\n",
    "model = Sequential()\n",
    "\n",
    "# Input layer\n",
    "model.add(Conv1D(filters = filters[0][0][0], kernel_size = (kerns[0][0][0]),\n",
    "                 activation = 'relu', input_shape = (X_train.shape[1], 1))) # dimensions of training data\n",
    "\n",
    "for p_layer in range(pool_layers[0]): # number of pool layers\n",
    "    \n",
    "    # Add convolutional layers\n",
    "    for c_layer in range(conv_layers[p_layer][0]): # Number of pre-pool convo layers\n",
    "        \n",
    "        model.add(Conv1D(filters = filters[p_layer][c_layer][0],\n",
    "                         kernel_size = kerns[p_layer][c_layer][0],\n",
    "                         activation = 'relu'))\n",
    "    \n",
    "    model.add(MaxPooling1D(pool_size = (pool_sizes[p_layer][0])))\n",
    "    model.add(Dropout(p_drops[p_layer][0]))\n",
    "\n",
    "# Organize neurons by flattening so the data can be passed to the fully connected hidden layers\n",
    "model.add(Flatten())\n",
    "\n",
    "# Fully Connected Hidden Layers:\n",
    "for h_layer in range(hid_layers[0]):\n",
    "    \n",
    "    # Add hidden layers and dropout\n",
    "    model.add(Dense(neurons[h_layer][0], activation = 'relu'))\n",
    "    model.add(Dropout(n_drops[h_layer][0])) # add dropout\n",
    "\n",
    "# Output layer\n",
    "model.add(Dense(1, activation = 'sigmoid'))\n",
    "\n",
    "# Customize adam optimization parameters\n",
    "optimizers.adam(lr = learn_rate, decay = decay)\n",
    "\n",
    "# Compile the Model\n",
    "model.compile(loss = 'binary_crossentropy', optimizer = 'adam', metrics = ['accuracy'])\n",
    "\n",
    "# Saves the model after each epoch if the validation loss decreased\n",
    "checkpointer = ModelCheckpoint(filepath='exo_checkpoint_model.hdf5', verbose=0, save_best_only=True,) "
   ]
  },
  {
   "cell_type": "markdown",
   "metadata": {},
   "source": [
    "### Fit the Network:"
   ]
  },
  {
   "cell_type": "code",
   "execution_count": 57,
   "metadata": {
    "scrolled": true
   },
   "outputs": [
    {
     "name": "stdout",
     "output_type": "stream",
     "text": [
      "Train on 2901 samples, validate on 968 samples\n",
      "Epoch 1/30\n",
      "2901/2901 [==============================] - 186s 64ms/step - loss: 0.6146 - acc: 0.6963 - val_loss: 0.6136 - val_acc: 0.6963\n",
      "Epoch 2/30\n",
      "2901/2901 [==============================] - 166s 57ms/step - loss: 0.6140 - acc: 0.6960 - val_loss: 0.6102 - val_acc: 0.6963\n",
      "Epoch 3/30\n",
      "2901/2901 [==============================] - 167s 57ms/step - loss: 0.6030 - acc: 0.6963 - val_loss: 0.6116 - val_acc: 0.6963\n",
      "Epoch 4/30\n",
      "2901/2901 [==============================] - 167s 57ms/step - loss: 0.6030 - acc: 0.6963 - val_loss: 0.6073 - val_acc: 0.6963\n",
      "Epoch 5/30\n",
      "2901/2901 [==============================] - 163s 56ms/step - loss: 0.6064 - acc: 0.6960 - val_loss: 0.5902 - val_acc: 0.6963\n",
      "Epoch 6/30\n",
      "2901/2901 [==============================] - 169s 58ms/step - loss: 0.6004 - acc: 0.6956 - val_loss: 0.6076 - val_acc: 0.6963\n",
      "Epoch 7/30\n",
      "2901/2901 [==============================] - 168s 58ms/step - loss: 0.5911 - acc: 0.6939 - val_loss: 0.5797 - val_acc: 0.6963\n",
      "Epoch 8/30\n",
      "2901/2901 [==============================] - 172s 59ms/step - loss: 0.5898 - acc: 0.6939 - val_loss: 0.5839 - val_acc: 0.6963\n",
      "Epoch 9/30\n",
      "2901/2901 [==============================] - 169s 58ms/step - loss: 0.5668 - acc: 0.7129 - val_loss: 0.5767 - val_acc: 0.7149\n",
      "Epoch 10/30\n",
      "2901/2901 [==============================] - 179s 62ms/step - loss: 0.5640 - acc: 0.7270 - val_loss: 0.5493 - val_acc: 0.7293\n",
      "Epoch 11/30\n",
      "2901/2901 [==============================] - 175s 60ms/step - loss: 0.5580 - acc: 0.7232 - val_loss: 0.5635 - val_acc: 0.7149\n",
      "Epoch 12/30\n",
      "2901/2901 [==============================] - 168s 58ms/step - loss: 0.5635 - acc: 0.7153 - val_loss: 0.5623 - val_acc: 0.7355\n",
      "Epoch 13/30\n",
      "2901/2901 [==============================] - 168s 58ms/step - loss: 0.5527 - acc: 0.7291 - val_loss: 0.5544 - val_acc: 0.7283\n",
      "Epoch 14/30\n",
      "2901/2901 [==============================] - 172s 59ms/step - loss: 0.5332 - acc: 0.7408 - val_loss: 0.5498 - val_acc: 0.7459\n",
      "Epoch 15/30\n",
      "2901/2901 [==============================] - 171s 59ms/step - loss: 0.5514 - acc: 0.7294 - val_loss: 0.5354 - val_acc: 0.7459\n",
      "Epoch 16/30\n",
      "2901/2901 [==============================] - 176s 61ms/step - loss: 0.5321 - acc: 0.7504 - val_loss: 0.5331 - val_acc: 0.7552\n",
      "Epoch 17/30\n",
      "2901/2901 [==============================] - 172s 59ms/step - loss: 0.5209 - acc: 0.7535 - val_loss: 0.5230 - val_acc: 0.7490\n",
      "Epoch 18/30\n",
      "2901/2901 [==============================] - 168s 58ms/step - loss: 0.5228 - acc: 0.7528 - val_loss: 0.5067 - val_acc: 0.7707\n",
      "Epoch 19/30\n",
      "2901/2901 [==============================] - 182s 63ms/step - loss: 0.5008 - acc: 0.7749 - val_loss: 0.5130 - val_acc: 0.7686\n",
      "Epoch 20/30\n",
      "2901/2901 [==============================] - 169s 58ms/step - loss: 0.5077 - acc: 0.7770 - val_loss: 0.4840 - val_acc: 0.7893\n",
      "Epoch 21/30\n",
      "2901/2901 [==============================] - 157s 54ms/step - loss: 0.4907 - acc: 0.7794 - val_loss: 0.5036 - val_acc: 0.7727\n",
      "Epoch 22/30\n",
      "2901/2901 [==============================] - 155s 53ms/step - loss: 0.4928 - acc: 0.7835 - val_loss: 0.4972 - val_acc: 0.7707\n",
      "Epoch 23/30\n",
      "2901/2901 [==============================] - 155s 53ms/step - loss: 0.4695 - acc: 0.7859 - val_loss: 0.4920 - val_acc: 0.7779\n",
      "Epoch 24/30\n",
      "2901/2901 [==============================] - 155s 53ms/step - loss: 0.4718 - acc: 0.7925 - val_loss: 0.4780 - val_acc: 0.7831\n",
      "Epoch 25/30\n",
      "2901/2901 [==============================] - 155s 53ms/step - loss: 0.4693 - acc: 0.7973 - val_loss: 0.4779 - val_acc: 0.7893\n",
      "Epoch 26/30\n",
      "2901/2901 [==============================] - 155s 53ms/step - loss: 0.4617 - acc: 0.7973 - val_loss: 0.5022 - val_acc: 0.7696\n",
      "Epoch 27/30\n",
      "2901/2901 [==============================] - 155s 53ms/step - loss: 0.4635 - acc: 0.7904 - val_loss: 0.4747 - val_acc: 0.7903\n",
      "Epoch 28/30\n",
      "2901/2901 [==============================] - 157s 54ms/step - loss: 0.4441 - acc: 0.8021 - val_loss: 0.4917 - val_acc: 0.7862\n",
      "Epoch 29/30\n",
      "2901/2901 [==============================] - 159s 55ms/step - loss: 0.4336 - acc: 0.8104 - val_loss: 0.4730 - val_acc: 0.7955\n",
      "Epoch 30/30\n",
      "2901/2901 [==============================] - 160s 55ms/step - loss: 0.4323 - acc: 0.8014 - val_loss: 0.4697 - val_acc: 0.7924\n",
      "Runtime:  83.485  minutes\n"
     ]
    }
   ],
   "source": [
    "# Keep track of the runtime:\n",
    "start_time = time.time()\n",
    "\n",
    "# Set the random state\n",
    "np.random.seed(rand_seed)\n",
    "set_random_seed(rand_seed)\n",
    "\n",
    "# Fit the model:\n",
    "result = model.fit(X_train, y_train,\n",
    "                   batch_size = 25,\n",
    "                   epochs = 30,\n",
    "                   verbose = 1,\n",
    "                   validation_data = (X_test, y_test),\n",
    "                   class_weight = class_weights,\n",
    "                   callbacks = [checkpointer])\n",
    "\n",
    "# Print the runtime:\n",
    "print('Runtime: ', round((time.time() - start_time)/60, 3), ' minutes')"
   ]
  },
  {
   "cell_type": "markdown",
   "metadata": {},
   "source": [
    "### Network Training Plots:\n",
    "Training accuracy and loss functions vs. epochs"
   ]
  },
  {
   "cell_type": "code",
   "execution_count": 62,
   "metadata": {},
   "outputs": [
    {
     "data": {
      "image/png": "[encoded data removed]",
      "text/plain": [
       "<Figure size 864x288 with 2 Axes>"
      ]
     },
     "metadata": {
      "needs_background": "light"
     },
     "output_type": "display_data"
    }
   ],
   "source": [
    "# Settings for subplots\n",
    "metric_label = ['Accuracy', 'Loss Function']\n",
    "c = ['#1f77b4', 'green']\n",
    "metric = ['acc', 'loss']\n",
    "\n",
    "# Instantiate figure and subplots\n",
    "fig, ax = plt.subplots(nrows = 1, ncols=2, figsize=(12,4))\n",
    "for i in [0, 1]:\n",
    "\n",
    "    # Subplot settings\n",
    "    ax[i].plot(result.history[metric[i]], color = c[i])\n",
    "    ax[i].plot(result.history['val_'+metric[i]], color = 'orange')\n",
    "    ax[i].set_title(metric_label[i] + ' vs. Epoch')\n",
    "    ax[i].set_ylabel(metric_label[i])\n",
    "    ax[i].set_xlabel('Epoch (# of iterations)')\n",
    "    ax[i].legend(['Train', 'Test'], loc='best')\n",
    "    ax[i].grid()"
   ]
  },
  {
   "cell_type": "markdown",
   "metadata": {},
   "source": [
    "<hr>\n",
    "\n",
    "# Testing on Unseen Data:\n",
    "Now that the model has been fit, lets see if we can use it to detect some planets in data not seen before.\n",
    "\n",
    "### Define Functions for Evaluating the Results:"
   ]
  },
  {
   "cell_type": "code",
   "execution_count": 63,
   "metadata": {},
   "outputs": [],
   "source": [
    "def analyze_results(predictions, y_test):\n",
    "\n",
    "    # Calculate and display results\n",
    "    scores = pd.DataFrame(index = ['Accuracy', 'Sensitivity', 'Specificity', 'Precision'], columns=['Results'])\n",
    "    tn, fp, fn, tp = confusion_matrix(y_test, predictions).ravel()\n",
    "    total = (tp + tn + fp + fn)\n",
    "    scores.loc['Accuracy'] = round((tp+tn) / (total), 3)\n",
    "    scores.loc['Sensitivity'] = round(tp / (tp+fn), 3)\n",
    "    scores.loc['Specificity'] = round(tn / (tn+fp), 3)\n",
    "    scores.loc['Precision'] = round(tp / (tp+fp), 3)\n",
    "    display(scores)\n",
    "    \n",
    "    # Turn confusion matrix values into a dataframe\n",
    "    confusion = pd.DataFrame(index= ['Pred. Positive','Pred. Negative', 'Total'])\n",
    "    confusion['Act. Positive'] = tp, fn, (tp + fn)\n",
    "    confusion['Act. Negative'] = fp, tn, (fp + tn)\n",
    "    confusion['Total'] = (tp + fp), (fn + tn), total\n",
    "    display(confusion)\n",
    "    \n",
    "    # Predictions vs Actual metrics\n",
    "    print((tp + fp), 'predicted to have planets', '\\n', \n",
    "          tp, 'true positive planet stars predicted', '\\n',\n",
    "          round(tp/(tp+fn)*100, 3), '% of all true planets') \n",
    "    print(round((tp / (tp + fp)) / ((tp + fn) / total), 3), 'times better than chance') \n",
    "        \n",
    "    return scores, confusion"
   ]
  },
  {
   "cell_type": "markdown",
   "metadata": {},
   "source": [
    "### ROC AUC Curve Plotting Function:"
   ]
  },
  {
   "cell_type": "code",
   "execution_count": 64,
   "metadata": {},
   "outputs": [],
   "source": [
    "def plot_roc(y_test, y_hat_proba):\n",
    "\n",
    "    # Generate False positive rate and True positive rate\n",
    "    fpr, tpr, _ = roc_curve(y_test, y_hat_proba)\n",
    "    roc_auc = auc(fpr, tpr)\n",
    "\n",
    "    # Plot settings\n",
    "    plt.figure(figsize=(6, 4))\n",
    "    plt.grid(True)\n",
    "    line_width = 4\n",
    "    plt.plot(fpr, tpr, lw = line_width)\n",
    "    plt.plot([0, 1], [0,1], lw = line_width, linestyle = '--')\n",
    "\n",
    "    # Title and labels\n",
    "    plt.title('ROC Curve', fontsize=25, position = (0.2,1))\n",
    "    plt.ylabel('True Positive Rate')\n",
    "    plt.xlabel('False Positive Rate')\n",
    "    string = 'Area Under Curve: ' + str(round(roc_auc, 3))\n",
    "    plt.text(x=1, y=0.05, s=string, horizontalalignment='right')"
   ]
  },
  {
   "cell_type": "markdown",
   "metadata": {},
   "source": [
    "### Make Predictions and Evaluate:"
   ]
  },
  {
   "cell_type": "code",
   "execution_count": 65,
   "metadata": {},
   "outputs": [],
   "source": [
    "# Load the best model from the checkpoint\n",
    "model.load_weights(\"exo_checkpoint_model.hdf5\")\n",
    "\n",
    "# Make Predictions and Prediction Probabilities\n",
    "y_unseen = model.predict_classes(unseen_data)\n",
    "pred_proba = model.predict_proba(unseen_data)"
   ]
  },
  {
   "cell_type": "code",
   "execution_count": 66,
   "metadata": {},
   "outputs": [
    {
     "data": {
      "text/html": [
       "<div>\n",
       "<style scoped>\n",
       "    .dataframe tbody tr th:only-of-type {\n",
       "        vertical-align: middle;\n",
       "    }\n",
       "\n",
       "    .dataframe tbody tr th {\n",
       "        vertical-align: top;\n",
       "    }\n",
       "\n",
       "    .dataframe thead th {\n",
       "        text-align: right;\n",
       "    }\n",
       "</style>\n",
       "<table border=\"1\" class=\"dataframe\">\n",
       "  <thead>\n",
       "    <tr style=\"text-align: right;\">\n",
       "      <th></th>\n",
       "      <th>Results</th>\n",
       "    </tr>\n",
       "  </thead>\n",
       "  <tbody>\n",
       "    <tr>\n",
       "      <th>Accuracy</th>\n",
       "      <td>0.896</td>\n",
       "    </tr>\n",
       "    <tr>\n",
       "      <th>Sensitivity</th>\n",
       "      <td>0.222</td>\n",
       "    </tr>\n",
       "    <tr>\n",
       "      <th>Specificity</th>\n",
       "      <td>0.902</td>\n",
       "    </tr>\n",
       "    <tr>\n",
       "      <th>Precision</th>\n",
       "      <td>0.02</td>\n",
       "    </tr>\n",
       "  </tbody>\n",
       "</table>\n",
       "</div>"
      ],
      "text/plain": [
       "            Results\n",
       "Accuracy      0.896\n",
       "Sensitivity   0.222\n",
       "Specificity   0.902\n",
       "Precision      0.02"
      ]
     },
     "metadata": {},
     "output_type": "display_data"
    },
    {
     "data": {
      "text/html": [
       "<div>\n",
       "<style scoped>\n",
       "    .dataframe tbody tr th:only-of-type {\n",
       "        vertical-align: middle;\n",
       "    }\n",
       "\n",
       "    .dataframe tbody tr th {\n",
       "        vertical-align: top;\n",
       "    }\n",
       "\n",
       "    .dataframe thead th {\n",
       "        text-align: right;\n",
       "    }\n",
       "</style>\n",
       "<table border=\"1\" class=\"dataframe\">\n",
       "  <thead>\n",
       "    <tr style=\"text-align: right;\">\n",
       "      <th></th>\n",
       "      <th>Act. Positive</th>\n",
       "      <th>Act. Negative</th>\n",
       "      <th>Total</th>\n",
       "    </tr>\n",
       "  </thead>\n",
       "  <tbody>\n",
       "    <tr>\n",
       "      <th>Pred. Positive</th>\n",
       "      <td>10</td>\n",
       "      <td>484</td>\n",
       "      <td>494</td>\n",
       "    </tr>\n",
       "    <tr>\n",
       "      <th>Pred. Negative</th>\n",
       "      <td>35</td>\n",
       "      <td>4471</td>\n",
       "      <td>4506</td>\n",
       "    </tr>\n",
       "    <tr>\n",
       "      <th>Total</th>\n",
       "      <td>45</td>\n",
       "      <td>4955</td>\n",
       "      <td>5000</td>\n",
       "    </tr>\n",
       "  </tbody>\n",
       "</table>\n",
       "</div>"
      ],
      "text/plain": [
       "                Act. Positive  Act. Negative  Total\n",
       "Pred. Positive             10            484    494\n",
       "Pred. Negative             35           4471   4506\n",
       "Total                      45           4955   5000"
      ]
     },
     "metadata": {},
     "output_type": "display_data"
    },
    {
     "name": "stdout",
     "output_type": "stream",
     "text": [
      "494 predicted to have planets \n",
      " 10 true positive planet stars predicted \n",
      " 22.222 % of all true planets\n",
      "2.249 times better than chance\n"
     ]
    },
    {
     "data": {
      "image/png": "[encoded data removed]",
      "text/plain": [
       "<Figure size 432x288 with 1 Axes>"
      ]
     },
     "metadata": {
      "needs_background": "light"
     },
     "output_type": "display_data"
    }
   ],
   "source": [
    "# Run the analyze_results function\n",
    "results_df, confusion_df = analyze_results(predictions = y_unseen, y_test = c4_holdout['label'])\n",
    "\n",
    "# Plot auc-roc curve\n",
    "plot_roc(c4_holdout['label'], pred_proba)"
   ]
  },
  {
   "cell_type": "markdown",
   "metadata": {},
   "source": [
    "# Done!"
   ]
  },
  {
   "cell_type": "markdown",
   "metadata": {},
   "source": [
    "<hr>"
   ]
  }
 ],
 "metadata": {
  "kernelspec": {
   "display_name": "Python 3",
   "language": "python",
   "name": "python3"
  },
  "language_info": {
   "codemirror_mode": {
    "name": "ipython",
    "version": 3
   },
   "file_extension": ".py",
   "mimetype": "text/x-python",
   "name": "python",
   "nbconvert_exporter": "python",
   "pygments_lexer": "ipython3",
   "version": "3.6.6"
  }
 },
 "nbformat": 4,
 "nbformat_minor": 2
}
