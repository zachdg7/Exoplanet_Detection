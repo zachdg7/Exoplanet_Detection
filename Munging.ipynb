{
 "cells": [
  {
   "cell_type": "markdown",
   "metadata": {},
   "source": [
    "# Goals in this Notebook:\n",
    "Make new files where the data is formatted similarly and limited to the same amount of time."
   ]
  },
  {
   "cell_type": "markdown",
   "metadata": {},
   "source": [
    "### Imports:"
   ]
  },
  {
   "cell_type": "code",
   "execution_count": 1,
   "metadata": {},
   "outputs": [],
   "source": [
    "import pandas as pd\n",
    "import matplotlib.pyplot as plt\n",
    "import time\n",
    "import numpy as np\n",
    "import random\n",
    "\n",
    "%matplotlib inline"
   ]
  },
  {
   "cell_type": "markdown",
   "metadata": {},
   "source": [
    "### Read in the Files:"
   ]
  },
  {
   "cell_type": "code",
   "execution_count": null,
   "metadata": {},
   "outputs": [],
   "source": [
    "k2c1 = pd.read_csv('../clean_planet_data/clean_k2c1_done')"
   ]
  },
  {
   "cell_type": "code",
   "execution_count": null,
   "metadata": {},
   "outputs": [],
   "source": [
    "c_planets = pd.read_csv('../clean_planet_data/extracted_planets_1_again.csv')"
   ]
  },
  {
   "cell_type": "code",
   "execution_count": null,
   "metadata": {},
   "outputs": [],
   "source": [
    "c_planets_2 = pd.read_csv('../clean_planet_data/extracted_confirmed_planets_2_again.csv')"
   ]
  },
  {
   "cell_type": "code",
   "execution_count": null,
   "metadata": {},
   "outputs": [],
   "source": [
    "kepc3 = pd.read_csv('../clean_planet_data/kepler_exo_train.csv')"
   ]
  },
  {
   "cell_type": "code",
   "execution_count": 2,
   "metadata": {},
   "outputs": [],
   "source": [
    "c4_kep = pd.read_csv('../clean_planet_data/extracted_kep_c4_7700_backup.csv')"
   ]
  },
  {
   "cell_type": "markdown",
   "metadata": {},
   "source": [
    "### Start Munging:"
   ]
  },
  {
   "cell_type": "code",
   "execution_count": null,
   "metadata": {},
   "outputs": [],
   "source": [
    "cols = kepc3.columns\n",
    "cols = cols.insert(0,'star_name')\n",
    "cols"
   ]
  },
  {
   "cell_type": "code",
   "execution_count": null,
   "metadata": {
    "scrolled": true
   },
   "outputs": [],
   "source": [
    "kepc3['star_name'] = 'N/A'\n",
    "kepc3 = kepc3[cols]"
   ]
  },
  {
   "cell_type": "code",
   "execution_count": null,
   "metadata": {},
   "outputs": [],
   "source": [
    "kepc3['LABEL'] = kepc3['LABEL'] - 1\n",
    "kepc3.head()"
   ]
  },
  {
   "cell_type": "markdown",
   "metadata": {},
   "source": [
    "### Slice out the First 66 days of Observations:\n",
    "That way there are no nulls and we can compare all the light curves from all datasets"
   ]
  },
  {
   "cell_type": "code",
   "execution_count": null,
   "metadata": {},
   "outputs": [],
   "source": [
    "# max row length should be the number of columns in the kepc3 df\n",
    "kepc3.shape"
   ]
  },
  {
   "cell_type": "code",
   "execution_count": null,
   "metadata": {},
   "outputs": [],
   "source": [
    "# slice that number out of the other dfs\n",
    "# clean_cut_planets = c_planets.iloc[:,:3199]\n",
    "# clean_cut_k2c1 = k2c1.iloc[:,:3199]"
   ]
  },
  {
   "cell_type": "markdown",
   "metadata": {},
   "source": [
    "### Check for Nulls:"
   ]
  },
  {
   "cell_type": "code",
   "execution_count": null,
   "metadata": {
    "scrolled": true
   },
   "outputs": [],
   "source": [
    "c_planets_2.isnull().sum().sum()"
   ]
  },
  {
   "cell_type": "code",
   "execution_count": null,
   "metadata": {
    "scrolled": true
   },
   "outputs": [],
   "source": [
    "clean_cut_k2c1.isnull().sum().sum()"
   ]
  },
  {
   "cell_type": "code",
   "execution_count": null,
   "metadata": {},
   "outputs": [],
   "source": [
    "kepc3.isnull().sum().sum()"
   ]
  },
  {
   "cell_type": "code",
   "execution_count": 4,
   "metadata": {},
   "outputs": [
    {
     "data": {
      "text/plain": [
       "2229590"
      ]
     },
     "execution_count": 4,
     "metadata": {},
     "output_type": "execute_result"
    }
   ],
   "source": [
    "c4_kep.isnull().sum().sum()"
   ]
  },
  {
   "cell_type": "code",
   "execution_count": 5,
   "metadata": {},
   "outputs": [
    {
     "data": {
      "text/html": [
       "<div>\n",
       "<style scoped>\n",
       "    .dataframe tbody tr th:only-of-type {\n",
       "        vertical-align: middle;\n",
       "    }\n",
       "\n",
       "    .dataframe tbody tr th {\n",
       "        vertical-align: top;\n",
       "    }\n",
       "\n",
       "    .dataframe thead th {\n",
       "        text-align: right;\n",
       "    }\n",
       "</style>\n",
       "<table border=\"1\" class=\"dataframe\">\n",
       "  <thead>\n",
       "    <tr style=\"text-align: right;\">\n",
       "      <th></th>\n",
       "      <th>star_name</th>\n",
       "      <th>exposure</th>\n",
       "      <th>c_flux_0</th>\n",
       "      <th>c_flux_1</th>\n",
       "      <th>c_flux_2</th>\n",
       "      <th>c_flux_3</th>\n",
       "      <th>c_flux_4</th>\n",
       "      <th>c_flux_5</th>\n",
       "      <th>c_flux_6</th>\n",
       "      <th>c_flux_7</th>\n",
       "      <th>...</th>\n",
       "      <th>c_flux_4387</th>\n",
       "      <th>c_flux_4388</th>\n",
       "      <th>c_flux_4389</th>\n",
       "      <th>c_flux_4390</th>\n",
       "      <th>c_flux_4391</th>\n",
       "      <th>c_flux_4392</th>\n",
       "      <th>c_flux_4393</th>\n",
       "      <th>c_flux_4394</th>\n",
       "      <th>c_flux_4395</th>\n",
       "      <th>c_flux_4396</th>\n",
       "    </tr>\n",
       "  </thead>\n",
       "  <tbody>\n",
       "    <tr>\n",
       "      <th>0</th>\n",
       "      <td>KIC 1025494</td>\n",
       "      <td>82.716241</td>\n",
       "      <td>NaN</td>\n",
       "      <td>2.633382e+05</td>\n",
       "      <td>NaN</td>\n",
       "      <td>2.633493e+05</td>\n",
       "      <td>2.632883e+05</td>\n",
       "      <td>2.634034e+05</td>\n",
       "      <td>2.633153e+05</td>\n",
       "      <td>2.633076e+05</td>\n",
       "      <td>...</td>\n",
       "      <td>2.633262e+05</td>\n",
       "      <td>2.633096e+05</td>\n",
       "      <td>2.633450e+05</td>\n",
       "      <td>2.633055e+05</td>\n",
       "      <td>2.633076e+05</td>\n",
       "      <td>2.633412e+05</td>\n",
       "      <td>2.633336e+05</td>\n",
       "      <td>2.633332e+05</td>\n",
       "      <td>2.633176e+05</td>\n",
       "      <td>2.633526e+05</td>\n",
       "    </tr>\n",
       "    <tr>\n",
       "      <th>1</th>\n",
       "      <td>KIC 1025578</td>\n",
       "      <td>82.716237</td>\n",
       "      <td>NaN</td>\n",
       "      <td>1.292338e+04</td>\n",
       "      <td>NaN</td>\n",
       "      <td>1.291726e+04</td>\n",
       "      <td>1.291329e+04</td>\n",
       "      <td>1.292188e+04</td>\n",
       "      <td>1.292211e+04</td>\n",
       "      <td>1.291157e+04</td>\n",
       "      <td>...</td>\n",
       "      <td>1.291279e+04</td>\n",
       "      <td>1.291749e+04</td>\n",
       "      <td>1.292433e+04</td>\n",
       "      <td>1.292121e+04</td>\n",
       "      <td>1.291119e+04</td>\n",
       "      <td>1.291699e+04</td>\n",
       "      <td>1.291756e+04</td>\n",
       "      <td>1.293214e+04</td>\n",
       "      <td>1.293186e+04</td>\n",
       "      <td>1.290860e+04</td>\n",
       "    </tr>\n",
       "    <tr>\n",
       "      <th>2</th>\n",
       "      <td>KIC 1025986</td>\n",
       "      <td>82.716227</td>\n",
       "      <td>NaN</td>\n",
       "      <td>1.276864e+06</td>\n",
       "      <td>NaN</td>\n",
       "      <td>1.277233e+06</td>\n",
       "      <td>1.277410e+06</td>\n",
       "      <td>1.277653e+06</td>\n",
       "      <td>1.277849e+06</td>\n",
       "      <td>1.278068e+06</td>\n",
       "      <td>...</td>\n",
       "      <td>1.272619e+06</td>\n",
       "      <td>1.273011e+06</td>\n",
       "      <td>1.273417e+06</td>\n",
       "      <td>1.273826e+06</td>\n",
       "      <td>1.274113e+06</td>\n",
       "      <td>1.274493e+06</td>\n",
       "      <td>1.274748e+06</td>\n",
       "      <td>1.275238e+06</td>\n",
       "      <td>1.275759e+06</td>\n",
       "      <td>1.276052e+06</td>\n",
       "    </tr>\n",
       "    <tr>\n",
       "      <th>3</th>\n",
       "      <td>KIC 1026032</td>\n",
       "      <td>82.716228</td>\n",
       "      <td>NaN</td>\n",
       "      <td>1.743618e+04</td>\n",
       "      <td>NaN</td>\n",
       "      <td>1.742921e+04</td>\n",
       "      <td>1.743379e+04</td>\n",
       "      <td>1.743004e+04</td>\n",
       "      <td>1.743159e+04</td>\n",
       "      <td>1.742726e+04</td>\n",
       "      <td>...</td>\n",
       "      <td>1.739245e+04</td>\n",
       "      <td>1.739575e+04</td>\n",
       "      <td>1.739241e+04</td>\n",
       "      <td>1.740589e+04</td>\n",
       "      <td>1.739701e+04</td>\n",
       "      <td>1.738893e+04</td>\n",
       "      <td>1.740034e+04</td>\n",
       "      <td>1.739358e+04</td>\n",
       "      <td>1.738954e+04</td>\n",
       "      <td>1.738559e+04</td>\n",
       "    </tr>\n",
       "    <tr>\n",
       "      <th>4</th>\n",
       "      <td>KIC 1026133</td>\n",
       "      <td>82.716226</td>\n",
       "      <td>NaN</td>\n",
       "      <td>8.089427e+04</td>\n",
       "      <td>NaN</td>\n",
       "      <td>8.090219e+04</td>\n",
       "      <td>8.091389e+04</td>\n",
       "      <td>8.088692e+04</td>\n",
       "      <td>8.089593e+04</td>\n",
       "      <td>8.087595e+04</td>\n",
       "      <td>...</td>\n",
       "      <td>8.090645e+04</td>\n",
       "      <td>8.092413e+04</td>\n",
       "      <td>8.089960e+04</td>\n",
       "      <td>8.091161e+04</td>\n",
       "      <td>8.090157e+04</td>\n",
       "      <td>8.090039e+04</td>\n",
       "      <td>8.092984e+04</td>\n",
       "      <td>8.091438e+04</td>\n",
       "      <td>8.091408e+04</td>\n",
       "      <td>8.090827e+04</td>\n",
       "    </tr>\n",
       "  </tbody>\n",
       "</table>\n",
       "<p>5 rows × 4399 columns</p>\n",
       "</div>"
      ],
      "text/plain": [
       "     star_name   exposure  c_flux_0      c_flux_1  c_flux_2      c_flux_3  \\\n",
       "0  KIC 1025494  82.716241       NaN  2.633382e+05       NaN  2.633493e+05   \n",
       "1  KIC 1025578  82.716237       NaN  1.292338e+04       NaN  1.291726e+04   \n",
       "2  KIC 1025986  82.716227       NaN  1.276864e+06       NaN  1.277233e+06   \n",
       "3  KIC 1026032  82.716228       NaN  1.743618e+04       NaN  1.742921e+04   \n",
       "4  KIC 1026133  82.716226       NaN  8.089427e+04       NaN  8.090219e+04   \n",
       "\n",
       "       c_flux_4      c_flux_5      c_flux_6      c_flux_7      ...       \\\n",
       "0  2.632883e+05  2.634034e+05  2.633153e+05  2.633076e+05      ...        \n",
       "1  1.291329e+04  1.292188e+04  1.292211e+04  1.291157e+04      ...        \n",
       "2  1.277410e+06  1.277653e+06  1.277849e+06  1.278068e+06      ...        \n",
       "3  1.743379e+04  1.743004e+04  1.743159e+04  1.742726e+04      ...        \n",
       "4  8.091389e+04  8.088692e+04  8.089593e+04  8.087595e+04      ...        \n",
       "\n",
       "    c_flux_4387   c_flux_4388   c_flux_4389   c_flux_4390   c_flux_4391  \\\n",
       "0  2.633262e+05  2.633096e+05  2.633450e+05  2.633055e+05  2.633076e+05   \n",
       "1  1.291279e+04  1.291749e+04  1.292433e+04  1.292121e+04  1.291119e+04   \n",
       "2  1.272619e+06  1.273011e+06  1.273417e+06  1.273826e+06  1.274113e+06   \n",
       "3  1.739245e+04  1.739575e+04  1.739241e+04  1.740589e+04  1.739701e+04   \n",
       "4  8.090645e+04  8.092413e+04  8.089960e+04  8.091161e+04  8.090157e+04   \n",
       "\n",
       "    c_flux_4392   c_flux_4393   c_flux_4394   c_flux_4395   c_flux_4396  \n",
       "0  2.633412e+05  2.633336e+05  2.633332e+05  2.633176e+05  2.633526e+05  \n",
       "1  1.291699e+04  1.291756e+04  1.293214e+04  1.293186e+04  1.290860e+04  \n",
       "2  1.274493e+06  1.274748e+06  1.275238e+06  1.275759e+06  1.276052e+06  \n",
       "3  1.738893e+04  1.740034e+04  1.739358e+04  1.738954e+04  1.738559e+04  \n",
       "4  8.090039e+04  8.092984e+04  8.091438e+04  8.091408e+04  8.090827e+04  \n",
       "\n",
       "[5 rows x 4399 columns]"
      ]
     },
     "execution_count": 5,
     "metadata": {},
     "output_type": "execute_result"
    }
   ],
   "source": [
    "c4_kep.head()"
   ]
  },
  {
   "cell_type": "markdown",
   "metadata": {},
   "source": [
    "### Check for Duplicate Entries of Each Star:\n",
    "If the value is greater than 1, there are duplicates.\n",
    "\n",
    "The kepc3 dataframe shouldn't have duplicates, so no need to check."
   ]
  },
  {
   "cell_type": "code",
   "execution_count": null,
   "metadata": {},
   "outputs": [],
   "source": [
    "clean_cut_planets['star_name'].value_counts().max()"
   ]
  },
  {
   "cell_type": "code",
   "execution_count": null,
   "metadata": {},
   "outputs": [],
   "source": [
    "clean_cut_k2c1['star_name'].value_counts().max()"
   ]
  },
  {
   "cell_type": "markdown",
   "metadata": {},
   "source": [
    "Get rid of the duplicates in the clean_cut_planets dataframe."
   ]
  },
  {
   "cell_type": "code",
   "execution_count": null,
   "metadata": {},
   "outputs": [],
   "source": [
    "least_null_planets = pd.DataFrame(columns = c_planets.columns)\n",
    "\n",
    "# selecting the row with the fewest NANs and add them to the least_null df\n",
    "for df in [c_planets, c_planets_2]:\n",
    "    for star in df['star_name'].unique():\n",
    "        checking = df[df['star_name'] == star]\n",
    "        best = checking[checking.count(axis = 1) == checking.count(axis = 1).max()]\n",
    "        least_null_planets = pd.concat([least_null_planets, best])\n",
    "    \n",
    "least_null_planets.tail()"
   ]
  },
  {
   "cell_type": "code",
   "execution_count": null,
   "metadata": {},
   "outputs": [],
   "source": [
    "least_null_planets.reset_index(drop=True, inplace = True)\n",
    "least_null_planets.head()"
   ]
  },
  {
   "cell_type": "code",
   "execution_count": null,
   "metadata": {},
   "outputs": [],
   "source": [
    "least_null_planets.shape"
   ]
  },
  {
   "cell_type": "markdown",
   "metadata": {},
   "source": [
    "### Making a file that randomly selects different lightcurves from the data:"
   ]
  },
  {
   "cell_type": "code",
   "execution_count": null,
   "metadata": {},
   "outputs": [],
   "source": [
    "randomized_planets = pd.DataFrame(columns = c_planets.columns)\n",
    "\n",
    "i = 0\n",
    "\n",
    "# selecting the row with the fewest NANs and add them to the least_null df\n",
    "for df in [c_planets, c_planets_2]:\n",
    "    for star in df['star_name'].unique():\n",
    "        i += 1\n",
    "        if i % 100 == 0:\n",
    "            print(i)\n",
    "\n",
    "        checking = df[df['star_name'] == star]\n",
    "        rand_select = random.randint(checking.index.min(), checking.index.max() + 1)\n",
    "#         print(checking.index.max())\n",
    "        rand = checking[checking.index == rand_select]\n",
    "        randomized_planets = pd.concat([randomized_planets, rand])\n",
    "    "
   ]
  },
  {
   "cell_type": "code",
   "execution_count": null,
   "metadata": {},
   "outputs": [],
   "source": [
    "randomized_planets.head()"
   ]
  },
  {
   "cell_type": "code",
   "execution_count": null,
   "metadata": {},
   "outputs": [],
   "source": [
    "randomized_planets.reset_index(drop = True, inplace = True)"
   ]
  },
  {
   "cell_type": "markdown",
   "metadata": {},
   "source": [
    "### Make sure it worked:"
   ]
  },
  {
   "cell_type": "markdown",
   "metadata": {},
   "source": [
    "Is there only one row per star?"
   ]
  },
  {
   "cell_type": "code",
   "execution_count": null,
   "metadata": {
    "scrolled": false
   },
   "outputs": [],
   "source": [
    "least_null_planets['star_name'].value_counts().max()"
   ]
  },
  {
   "cell_type": "markdown",
   "metadata": {},
   "source": [
    "How many nulls are there?"
   ]
  },
  {
   "cell_type": "code",
   "execution_count": null,
   "metadata": {},
   "outputs": [],
   "source": [
    "least_null_planets.isnull().sum(axis=0) #.value_counts()"
   ]
  },
  {
   "cell_type": "markdown",
   "metadata": {},
   "source": [
    "### Dealing with Nulls:"
   ]
  },
  {
   "cell_type": "code",
   "execution_count": null,
   "metadata": {},
   "outputs": [],
   "source": [
    "has_planets = pd.read_csv('../clean_planet_data/least_null_planets_1_and_2.csv')\n",
    "has_planets.head()"
   ]
  },
  {
   "cell_type": "code",
   "execution_count": null,
   "metadata": {},
   "outputs": [],
   "source": [
    "# checking out which rows have the most nulls\n",
    "counting = has_planets.isnull().sum(axis = 1)\n",
    "counting.sort_values(ascending = False)"
   ]
  },
  {
   "cell_type": "code",
   "execution_count": null,
   "metadata": {},
   "outputs": [],
   "source": [
    "has_planets = randomized_planets"
   ]
  },
  {
   "cell_type": "code",
   "execution_count": 7,
   "metadata": {},
   "outputs": [
    {
     "name": "stdout",
     "output_type": "stream",
     "text": [
      "0\n",
      "50\n",
      "100\n",
      "150\n",
      "200\n",
      "250\n",
      "300\n",
      "350\n",
      "400\n",
      "450\n",
      "500\n",
      "550\n",
      "600\n",
      "650\n",
      "700\n",
      "750\n",
      "800\n",
      "850\n",
      "900\n",
      "950\n",
      "1000\n",
      "1050\n",
      "1100\n",
      "1150\n",
      "1200\n",
      "1250\n",
      "1300\n",
      "1350\n",
      "1400\n",
      "1450\n",
      "1500\n",
      "1550\n",
      "1600\n",
      "1650\n",
      "1700\n",
      "1750\n",
      "1800\n",
      "1850\n",
      "1900\n",
      "1950\n",
      "2000\n",
      "2050\n",
      "2100\n",
      "2150\n",
      "2200\n",
      "2250\n",
      "2300\n",
      "2350\n",
      "2400\n",
      "2450\n",
      "2500\n",
      "2550\n",
      "2600\n",
      "2650\n",
      "2700\n",
      "2750\n",
      "2800\n",
      "2850\n",
      "2900\n",
      "2950\n",
      "3000\n",
      "3050\n",
      "3100\n",
      "3150\n",
      "3200\n",
      "3250\n",
      "3300\n",
      "3350\n",
      "3400\n",
      "3450\n",
      "3500\n",
      "3550\n",
      "3600\n",
      "3650\n",
      "3700\n",
      "3750\n",
      "3800\n",
      "3850\n",
      "3900\n",
      "3950\n",
      "4000\n",
      "4050\n",
      "4100\n",
      "4150\n",
      "4200\n",
      "4250\n",
      "4300\n",
      "4350\n",
      "4400\n",
      "4450\n",
      "4500\n",
      "4550\n",
      "4600\n",
      "4650\n",
      "4700\n",
      "4750\n",
      "4800\n",
      "4850\n",
      "4900\n",
      "4950\n",
      "5000\n",
      "5050\n",
      "5100\n",
      "5150\n",
      "5200\n",
      "5250\n",
      "5300\n",
      "5350\n",
      "5400\n",
      "5450\n",
      "5500\n",
      "5550\n",
      "5600\n",
      "5650\n",
      "5700\n",
      "5750\n",
      "5800\n",
      "5850\n",
      "5900\n",
      "5950\n",
      "6000\n",
      "6050\n",
      "6100\n",
      "6150\n",
      "6200\n",
      "6250\n",
      "6300\n",
      "6350\n",
      "6400\n",
      "6450\n",
      "6500\n",
      "6550\n",
      "6600\n",
      "6650\n",
      "6700\n",
      "6750\n",
      "6800\n",
      "6850\n",
      "6900\n",
      "6950\n",
      "7000\n",
      "7050\n",
      "7100\n",
      "7150\n",
      "7200\n",
      "7250\n",
      "7300\n",
      "7350\n",
      "7400\n",
      "7450\n",
      "7500\n",
      "7550\n",
      "7600\n",
      "7650\n",
      "7700\n"
     ]
    },
    {
     "ename": "IndexError",
     "evalue": "single positional indexer is out-of-bounds",
     "output_type": "error",
     "traceback": [
      "\u001b[0;31m---------------------------------------------------------------------------\u001b[0m",
      "\u001b[0;31mIndexError\u001b[0m                                Traceback (most recent call last)",
      "\u001b[0;32m<ipython-input-7-6860cc364dfb>\u001b[0m in \u001b[0;36m<module>\u001b[0;34m\u001b[0m\n\u001b[1;32m      9\u001b[0m         \u001b[0;32mif\u001b[0m \u001b[0mis_null\u001b[0m\u001b[0;34m.\u001b[0m\u001b[0miloc\u001b[0m\u001b[0;34m[\u001b[0m\u001b[0mi\u001b[0m\u001b[0;34m,\u001b[0m \u001b[0mj\u001b[0m\u001b[0;34m]\u001b[0m \u001b[0;34m==\u001b[0m \u001b[0;32mTrue\u001b[0m\u001b[0;34m:\u001b[0m\u001b[0;34m\u001b[0m\u001b[0m\n\u001b[1;32m     10\u001b[0m             \u001b[0;32mif\u001b[0m \u001b[0mj\u001b[0m \u001b[0;34m>\u001b[0m \u001b[0;36m2\u001b[0m\u001b[0;34m:\u001b[0m \u001b[0;31m# skip the first two columns\u001b[0m\u001b[0;34m\u001b[0m\u001b[0m\n\u001b[0;32m---> 11\u001b[0;31m                 \u001b[0;32mif\u001b[0m \u001b[0;32mnot\u001b[0m \u001b[0;34m(\u001b[0m\u001b[0;34m(\u001b[0m\u001b[0mis_null\u001b[0m\u001b[0;34m.\u001b[0m\u001b[0miloc\u001b[0m\u001b[0;34m[\u001b[0m\u001b[0mi\u001b[0m\u001b[0;34m,\u001b[0m \u001b[0mj\u001b[0m\u001b[0;34m-\u001b[0m\u001b[0;36m1\u001b[0m\u001b[0;34m]\u001b[0m \u001b[0;34m==\u001b[0m \u001b[0;32mTrue\u001b[0m\u001b[0;34m)\u001b[0m \u001b[0;34m|\u001b[0m \u001b[0;34m(\u001b[0m\u001b[0mis_null\u001b[0m\u001b[0;34m.\u001b[0m\u001b[0miloc\u001b[0m\u001b[0;34m[\u001b[0m\u001b[0mi\u001b[0m\u001b[0;34m,\u001b[0m \u001b[0mj\u001b[0m\u001b[0;34m+\u001b[0m\u001b[0;36m1\u001b[0m\u001b[0;34m]\u001b[0m \u001b[0;34m==\u001b[0m \u001b[0;32mTrue\u001b[0m\u001b[0;34m)\u001b[0m\u001b[0;34m)\u001b[0m\u001b[0;34m:\u001b[0m\u001b[0;34m\u001b[0m\u001b[0m\n\u001b[0m\u001b[1;32m     12\u001b[0m                     \u001b[0mc4_kep\u001b[0m\u001b[0;34m.\u001b[0m\u001b[0miloc\u001b[0m\u001b[0;34m[\u001b[0m\u001b[0mi\u001b[0m\u001b[0;34m,\u001b[0m \u001b[0mj\u001b[0m\u001b[0;34m]\u001b[0m \u001b[0;34m=\u001b[0m \u001b[0mnp\u001b[0m\u001b[0;34m.\u001b[0m\u001b[0mmean\u001b[0m\u001b[0;34m(\u001b[0m\u001b[0;34m[\u001b[0m\u001b[0mc4_kep\u001b[0m\u001b[0;34m.\u001b[0m\u001b[0miloc\u001b[0m\u001b[0;34m[\u001b[0m\u001b[0mi\u001b[0m\u001b[0;34m,\u001b[0m \u001b[0mj\u001b[0m\u001b[0;34m-\u001b[0m\u001b[0;36m1\u001b[0m\u001b[0;34m]\u001b[0m\u001b[0;34m,\u001b[0m \u001b[0mc4_kep\u001b[0m\u001b[0;34m.\u001b[0m\u001b[0miloc\u001b[0m\u001b[0;34m[\u001b[0m\u001b[0mi\u001b[0m\u001b[0;34m,\u001b[0m \u001b[0mj\u001b[0m\u001b[0;34m+\u001b[0m\u001b[0;36m1\u001b[0m\u001b[0;34m]\u001b[0m\u001b[0;34m]\u001b[0m\u001b[0;34m)\u001b[0m\u001b[0;34m\u001b[0m\u001b[0m\n",
      "\u001b[0;32m~/anaconda3/lib/python3.6/site-packages/pandas/core/indexing.py\u001b[0m in \u001b[0;36m__getitem__\u001b[0;34m(self, key)\u001b[0m\n\u001b[1;32m   1470\u001b[0m             \u001b[0;32mexcept\u001b[0m \u001b[0;34m(\u001b[0m\u001b[0mKeyError\u001b[0m\u001b[0;34m,\u001b[0m \u001b[0mIndexError\u001b[0m\u001b[0;34m)\u001b[0m\u001b[0;34m:\u001b[0m\u001b[0;34m\u001b[0m\u001b[0m\n\u001b[1;32m   1471\u001b[0m                 \u001b[0;32mpass\u001b[0m\u001b[0;34m\u001b[0m\u001b[0m\n\u001b[0;32m-> 1472\u001b[0;31m             \u001b[0;32mreturn\u001b[0m \u001b[0mself\u001b[0m\u001b[0;34m.\u001b[0m\u001b[0m_getitem_tuple\u001b[0m\u001b[0;34m(\u001b[0m\u001b[0mkey\u001b[0m\u001b[0;34m)\u001b[0m\u001b[0;34m\u001b[0m\u001b[0m\n\u001b[0m\u001b[1;32m   1473\u001b[0m         \u001b[0;32melse\u001b[0m\u001b[0;34m:\u001b[0m\u001b[0;34m\u001b[0m\u001b[0m\n\u001b[1;32m   1474\u001b[0m             \u001b[0;31m# we by definition only have the 0th axis\u001b[0m\u001b[0;34m\u001b[0m\u001b[0;34m\u001b[0m\u001b[0m\n",
      "\u001b[0;32m~/anaconda3/lib/python3.6/site-packages/pandas/core/indexing.py\u001b[0m in \u001b[0;36m_getitem_tuple\u001b[0;34m(self, tup)\u001b[0m\n\u001b[1;32m   2011\u001b[0m     \u001b[0;32mdef\u001b[0m \u001b[0m_getitem_tuple\u001b[0m\u001b[0;34m(\u001b[0m\u001b[0mself\u001b[0m\u001b[0;34m,\u001b[0m \u001b[0mtup\u001b[0m\u001b[0;34m)\u001b[0m\u001b[0;34m:\u001b[0m\u001b[0;34m\u001b[0m\u001b[0m\n\u001b[1;32m   2012\u001b[0m \u001b[0;34m\u001b[0m\u001b[0m\n\u001b[0;32m-> 2013\u001b[0;31m         \u001b[0mself\u001b[0m\u001b[0;34m.\u001b[0m\u001b[0m_has_valid_tuple\u001b[0m\u001b[0;34m(\u001b[0m\u001b[0mtup\u001b[0m\u001b[0;34m)\u001b[0m\u001b[0;34m\u001b[0m\u001b[0m\n\u001b[0m\u001b[1;32m   2014\u001b[0m         \u001b[0;32mtry\u001b[0m\u001b[0;34m:\u001b[0m\u001b[0;34m\u001b[0m\u001b[0m\n\u001b[1;32m   2015\u001b[0m             \u001b[0;32mreturn\u001b[0m \u001b[0mself\u001b[0m\u001b[0;34m.\u001b[0m\u001b[0m_getitem_lowerdim\u001b[0m\u001b[0;34m(\u001b[0m\u001b[0mtup\u001b[0m\u001b[0;34m)\u001b[0m\u001b[0;34m\u001b[0m\u001b[0m\n",
      "\u001b[0;32m~/anaconda3/lib/python3.6/site-packages/pandas/core/indexing.py\u001b[0m in \u001b[0;36m_has_valid_tuple\u001b[0;34m(self, key)\u001b[0m\n\u001b[1;32m    220\u001b[0m                 \u001b[0;32mraise\u001b[0m \u001b[0mIndexingError\u001b[0m\u001b[0;34m(\u001b[0m\u001b[0;34m'Too many indexers'\u001b[0m\u001b[0;34m)\u001b[0m\u001b[0;34m\u001b[0m\u001b[0m\n\u001b[1;32m    221\u001b[0m             \u001b[0;32mtry\u001b[0m\u001b[0;34m:\u001b[0m\u001b[0;34m\u001b[0m\u001b[0m\n\u001b[0;32m--> 222\u001b[0;31m                 \u001b[0mself\u001b[0m\u001b[0;34m.\u001b[0m\u001b[0m_validate_key\u001b[0m\u001b[0;34m(\u001b[0m\u001b[0mk\u001b[0m\u001b[0;34m,\u001b[0m \u001b[0mi\u001b[0m\u001b[0;34m)\u001b[0m\u001b[0;34m\u001b[0m\u001b[0m\n\u001b[0m\u001b[1;32m    223\u001b[0m             \u001b[0;32mexcept\u001b[0m \u001b[0mValueError\u001b[0m\u001b[0;34m:\u001b[0m\u001b[0;34m\u001b[0m\u001b[0m\n\u001b[1;32m    224\u001b[0m                 raise ValueError(\"Location based indexing can only have \"\n",
      "\u001b[0;32m~/anaconda3/lib/python3.6/site-packages/pandas/core/indexing.py\u001b[0m in \u001b[0;36m_validate_key\u001b[0;34m(self, key, axis)\u001b[0m\n\u001b[1;32m   1955\u001b[0m             \u001b[0;32mreturn\u001b[0m\u001b[0;34m\u001b[0m\u001b[0m\n\u001b[1;32m   1956\u001b[0m         \u001b[0;32melif\u001b[0m \u001b[0mis_integer\u001b[0m\u001b[0;34m(\u001b[0m\u001b[0mkey\u001b[0m\u001b[0;34m)\u001b[0m\u001b[0;34m:\u001b[0m\u001b[0;34m\u001b[0m\u001b[0m\n\u001b[0;32m-> 1957\u001b[0;31m             \u001b[0mself\u001b[0m\u001b[0;34m.\u001b[0m\u001b[0m_validate_integer\u001b[0m\u001b[0;34m(\u001b[0m\u001b[0mkey\u001b[0m\u001b[0;34m,\u001b[0m \u001b[0maxis\u001b[0m\u001b[0;34m)\u001b[0m\u001b[0;34m\u001b[0m\u001b[0m\n\u001b[0m\u001b[1;32m   1958\u001b[0m         \u001b[0;32melif\u001b[0m \u001b[0misinstance\u001b[0m\u001b[0;34m(\u001b[0m\u001b[0mkey\u001b[0m\u001b[0;34m,\u001b[0m \u001b[0mtuple\u001b[0m\u001b[0;34m)\u001b[0m\u001b[0;34m:\u001b[0m\u001b[0;34m\u001b[0m\u001b[0m\n\u001b[1;32m   1959\u001b[0m             \u001b[0;31m# a tuple should already have been caught by this point\u001b[0m\u001b[0;34m\u001b[0m\u001b[0;34m\u001b[0m\u001b[0m\n",
      "\u001b[0;32m~/anaconda3/lib/python3.6/site-packages/pandas/core/indexing.py\u001b[0m in \u001b[0;36m_validate_integer\u001b[0;34m(self, key, axis)\u001b[0m\n\u001b[1;32m   2007\u001b[0m         \u001b[0ml\u001b[0m \u001b[0;34m=\u001b[0m \u001b[0mlen\u001b[0m\u001b[0;34m(\u001b[0m\u001b[0max\u001b[0m\u001b[0;34m)\u001b[0m\u001b[0;34m\u001b[0m\u001b[0m\n\u001b[1;32m   2008\u001b[0m         \u001b[0;32mif\u001b[0m \u001b[0mkey\u001b[0m \u001b[0;34m>=\u001b[0m \u001b[0ml\u001b[0m \u001b[0;32mor\u001b[0m \u001b[0mkey\u001b[0m \u001b[0;34m<\u001b[0m \u001b[0;34m-\u001b[0m\u001b[0ml\u001b[0m\u001b[0;34m:\u001b[0m\u001b[0;34m\u001b[0m\u001b[0m\n\u001b[0;32m-> 2009\u001b[0;31m             \u001b[0;32mraise\u001b[0m \u001b[0mIndexError\u001b[0m\u001b[0;34m(\u001b[0m\u001b[0;34m\"single positional indexer is out-of-bounds\"\u001b[0m\u001b[0;34m)\u001b[0m\u001b[0;34m\u001b[0m\u001b[0m\n\u001b[0m\u001b[1;32m   2010\u001b[0m \u001b[0;34m\u001b[0m\u001b[0m\n\u001b[1;32m   2011\u001b[0m     \u001b[0;32mdef\u001b[0m \u001b[0m_getitem_tuple\u001b[0m\u001b[0;34m(\u001b[0m\u001b[0mself\u001b[0m\u001b[0;34m,\u001b[0m \u001b[0mtup\u001b[0m\u001b[0;34m)\u001b[0m\u001b[0;34m:\u001b[0m\u001b[0;34m\u001b[0m\u001b[0m\n",
      "\u001b[0;31mIndexError\u001b[0m: single positional indexer is out-of-bounds"
     ]
    }
   ],
   "source": [
    "# trying to fill one off missing values with mean imputation of the nearest two values\n",
    "\n",
    "is_null = c4_kep.isnull()\n",
    "\n",
    "for i in range(c4_kep.shape[0]):\n",
    "    if i % 50 == 0:\n",
    "        print(i)\n",
    "    for j in range(c4_kep.shape[1]-1):\n",
    "        if is_null.iloc[i, j] == True:\n",
    "            if j > 2: # skip the first two columns\n",
    "                if not ((is_null.iloc[i, j-1] == True) | (is_null.iloc[i, j+1] == True)):\n",
    "                    c4_kep.iloc[i, j] = np.mean([c4_kep.iloc[i, j-1], c4_kep.iloc[i, j+1]])"
   ]
  },
  {
   "cell_type": "code",
   "execution_count": 8,
   "metadata": {},
   "outputs": [
    {
     "data": {
      "text/html": [
       "<div>\n",
       "<style scoped>\n",
       "    .dataframe tbody tr th:only-of-type {\n",
       "        vertical-align: middle;\n",
       "    }\n",
       "\n",
       "    .dataframe tbody tr th {\n",
       "        vertical-align: top;\n",
       "    }\n",
       "\n",
       "    .dataframe thead th {\n",
       "        text-align: right;\n",
       "    }\n",
       "</style>\n",
       "<table border=\"1\" class=\"dataframe\">\n",
       "  <thead>\n",
       "    <tr style=\"text-align: right;\">\n",
       "      <th></th>\n",
       "      <th>star_name</th>\n",
       "      <th>exposure</th>\n",
       "      <th>c_flux_0</th>\n",
       "      <th>c_flux_1</th>\n",
       "      <th>c_flux_2</th>\n",
       "      <th>c_flux_3</th>\n",
       "      <th>c_flux_4</th>\n",
       "      <th>c_flux_5</th>\n",
       "      <th>c_flux_6</th>\n",
       "      <th>c_flux_7</th>\n",
       "      <th>...</th>\n",
       "      <th>c_flux_4387</th>\n",
       "      <th>c_flux_4388</th>\n",
       "      <th>c_flux_4389</th>\n",
       "      <th>c_flux_4390</th>\n",
       "      <th>c_flux_4391</th>\n",
       "      <th>c_flux_4392</th>\n",
       "      <th>c_flux_4393</th>\n",
       "      <th>c_flux_4394</th>\n",
       "      <th>c_flux_4395</th>\n",
       "      <th>c_flux_4396</th>\n",
       "    </tr>\n",
       "  </thead>\n",
       "  <tbody>\n",
       "    <tr>\n",
       "      <th>7709</th>\n",
       "      <td>KIC 10350885</td>\n",
       "      <td>82.715337</td>\n",
       "      <td>NaN</td>\n",
       "      <td>7623.983398</td>\n",
       "      <td>7621.442383</td>\n",
       "      <td>7618.901367</td>\n",
       "      <td>7619.235352</td>\n",
       "      <td>7622.194824</td>\n",
       "      <td>7621.204590</td>\n",
       "      <td>7620.562500</td>\n",
       "      <td>...</td>\n",
       "      <td>7630.180176</td>\n",
       "      <td>7622.295410</td>\n",
       "      <td>7622.823730</td>\n",
       "      <td>7617.355957</td>\n",
       "      <td>7619.765137</td>\n",
       "      <td>7622.042969</td>\n",
       "      <td>7624.842285</td>\n",
       "      <td>7618.821289</td>\n",
       "      <td>7622.912109</td>\n",
       "      <td>7616.748047</td>\n",
       "    </tr>\n",
       "    <tr>\n",
       "      <th>7710</th>\n",
       "      <td>KIC 10350897</td>\n",
       "      <td>82.715336</td>\n",
       "      <td>NaN</td>\n",
       "      <td>26916.777344</td>\n",
       "      <td>26915.885742</td>\n",
       "      <td>26914.994141</td>\n",
       "      <td>26919.958984</td>\n",
       "      <td>26918.572266</td>\n",
       "      <td>26908.222656</td>\n",
       "      <td>26908.228516</td>\n",
       "      <td>...</td>\n",
       "      <td>26919.679688</td>\n",
       "      <td>26921.416016</td>\n",
       "      <td>26923.566406</td>\n",
       "      <td>26912.509766</td>\n",
       "      <td>26910.720703</td>\n",
       "      <td>26913.734375</td>\n",
       "      <td>26913.478516</td>\n",
       "      <td>26905.394531</td>\n",
       "      <td>26912.882812</td>\n",
       "      <td>26919.970703</td>\n",
       "    </tr>\n",
       "    <tr>\n",
       "      <th>7711</th>\n",
       "      <td>KIC 10350908</td>\n",
       "      <td>82.715334</td>\n",
       "      <td>NaN</td>\n",
       "      <td>34512.160156</td>\n",
       "      <td>34508.902344</td>\n",
       "      <td>34505.644531</td>\n",
       "      <td>34503.800781</td>\n",
       "      <td>34504.421875</td>\n",
       "      <td>34504.312500</td>\n",
       "      <td>34496.136719</td>\n",
       "      <td>...</td>\n",
       "      <td>34487.054688</td>\n",
       "      <td>34478.097656</td>\n",
       "      <td>34488.691406</td>\n",
       "      <td>34487.871094</td>\n",
       "      <td>34477.843750</td>\n",
       "      <td>34473.847656</td>\n",
       "      <td>34481.492188</td>\n",
       "      <td>34475.078125</td>\n",
       "      <td>34503.753906</td>\n",
       "      <td>34487.878906</td>\n",
       "    </tr>\n",
       "    <tr>\n",
       "      <th>7712</th>\n",
       "      <td>KIC 10350930</td>\n",
       "      <td>82.715335</td>\n",
       "      <td>NaN</td>\n",
       "      <td>36407.671875</td>\n",
       "      <td>36406.587891</td>\n",
       "      <td>36405.503906</td>\n",
       "      <td>36404.976562</td>\n",
       "      <td>36405.671875</td>\n",
       "      <td>36413.835938</td>\n",
       "      <td>36398.070312</td>\n",
       "      <td>...</td>\n",
       "      <td>36403.890625</td>\n",
       "      <td>36405.367188</td>\n",
       "      <td>36394.554688</td>\n",
       "      <td>36396.453125</td>\n",
       "      <td>36395.523438</td>\n",
       "      <td>36416.394531</td>\n",
       "      <td>36402.796875</td>\n",
       "      <td>36404.425781</td>\n",
       "      <td>36409.992188</td>\n",
       "      <td>36403.644531</td>\n",
       "    </tr>\n",
       "    <tr>\n",
       "      <th>7713</th>\n",
       "      <td>KIC 10350934</td>\n",
       "      <td>82.715335</td>\n",
       "      <td>NaN</td>\n",
       "      <td>193577.687500</td>\n",
       "      <td>193601.148438</td>\n",
       "      <td>193624.609375</td>\n",
       "      <td>193678.750000</td>\n",
       "      <td>193672.109375</td>\n",
       "      <td>193637.609375</td>\n",
       "      <td>193635.828125</td>\n",
       "      <td>...</td>\n",
       "      <td>NaN</td>\n",
       "      <td>NaN</td>\n",
       "      <td>NaN</td>\n",
       "      <td>NaN</td>\n",
       "      <td>NaN</td>\n",
       "      <td>NaN</td>\n",
       "      <td>NaN</td>\n",
       "      <td>NaN</td>\n",
       "      <td>NaN</td>\n",
       "      <td>NaN</td>\n",
       "    </tr>\n",
       "  </tbody>\n",
       "</table>\n",
       "<p>5 rows × 4399 columns</p>\n",
       "</div>"
      ],
      "text/plain": [
       "         star_name   exposure  c_flux_0       c_flux_1       c_flux_2  \\\n",
       "7709  KIC 10350885  82.715337       NaN    7623.983398    7621.442383   \n",
       "7710  KIC 10350897  82.715336       NaN   26916.777344   26915.885742   \n",
       "7711  KIC 10350908  82.715334       NaN   34512.160156   34508.902344   \n",
       "7712  KIC 10350930  82.715335       NaN   36407.671875   36406.587891   \n",
       "7713  KIC 10350934  82.715335       NaN  193577.687500  193601.148438   \n",
       "\n",
       "           c_flux_3       c_flux_4       c_flux_5       c_flux_6  \\\n",
       "7709    7618.901367    7619.235352    7622.194824    7621.204590   \n",
       "7710   26914.994141   26919.958984   26918.572266   26908.222656   \n",
       "7711   34505.644531   34503.800781   34504.421875   34504.312500   \n",
       "7712   36405.503906   36404.976562   36405.671875   36413.835938   \n",
       "7713  193624.609375  193678.750000  193672.109375  193637.609375   \n",
       "\n",
       "           c_flux_7      ...        c_flux_4387   c_flux_4388   c_flux_4389  \\\n",
       "7709    7620.562500      ...        7630.180176   7622.295410   7622.823730   \n",
       "7710   26908.228516      ...       26919.679688  26921.416016  26923.566406   \n",
       "7711   34496.136719      ...       34487.054688  34478.097656  34488.691406   \n",
       "7712   36398.070312      ...       36403.890625  36405.367188  36394.554688   \n",
       "7713  193635.828125      ...                NaN           NaN           NaN   \n",
       "\n",
       "       c_flux_4390   c_flux_4391   c_flux_4392   c_flux_4393   c_flux_4394  \\\n",
       "7709   7617.355957   7619.765137   7622.042969   7624.842285   7618.821289   \n",
       "7710  26912.509766  26910.720703  26913.734375  26913.478516  26905.394531   \n",
       "7711  34487.871094  34477.843750  34473.847656  34481.492188  34475.078125   \n",
       "7712  36396.453125  36395.523438  36416.394531  36402.796875  36404.425781   \n",
       "7713           NaN           NaN           NaN           NaN           NaN   \n",
       "\n",
       "       c_flux_4395   c_flux_4396  \n",
       "7709   7622.912109   7616.748047  \n",
       "7710  26912.882812  26919.970703  \n",
       "7711  34503.753906  34487.878906  \n",
       "7712  36409.992188  36403.644531  \n",
       "7713           NaN           NaN  \n",
       "\n",
       "[5 rows x 4399 columns]"
      ]
     },
     "execution_count": 8,
     "metadata": {},
     "output_type": "execute_result"
    }
   ],
   "source": [
    "c4_kep.tail()"
   ]
  },
  {
   "cell_type": "code",
   "execution_count": null,
   "metadata": {},
   "outputs": [],
   "source": [
    "counting2 = has_planets[0:3200].isnull().sum(axis = 1)\n",
    "counting2[0:3200].sort_values(ascending = False)[0:50]"
   ]
  },
  {
   "cell_type": "code",
   "execution_count": null,
   "metadata": {},
   "outputs": [],
   "source": [
    "# count numbers of consecuative nans\n",
    "\n",
    "is_null = has_planets.isnull()\n",
    "\n",
    "for i in range(has_planets.shape[0]):\n",
    "    counter = 0\n",
    "    for j in range(has_planets.shape[1]):\n",
    "        if j > 2:\n",
    "            if is_null.iloc[i, j] == True:\n",
    "                if is_null.iloc[i, j-1] == True:\n",
    "                    counter +=1\n",
    "                    print(counter)\n",
    "                else:\n",
    "                    counter = 0\n",
    "#     print(counter)"
   ]
  },
  {
   "cell_type": "code",
   "execution_count": null,
   "metadata": {},
   "outputs": [],
   "source": [
    "has_planets.shape"
   ]
  },
  {
   "cell_type": "code",
   "execution_count": null,
   "metadata": {},
   "outputs": [
    {
     "name": "stdout",
     "output_type": "stream",
     "text": [
      "0\n",
      "50\n",
      "100\n",
      "150\n",
      "200\n",
      "250\n",
      "300\n",
      "350\n",
      "400\n",
      "450\n",
      "500\n",
      "550\n",
      "600\n",
      "650\n",
      "700\n",
      "750\n",
      "800\n",
      "850\n",
      "900\n",
      "950\n",
      "1000\n",
      "1050\n",
      "1100\n",
      "1150\n",
      "1200\n",
      "1250\n",
      "1300\n",
      "1350\n",
      "1400\n",
      "1450\n",
      "1500\n",
      "1550\n",
      "1600\n",
      "1650\n",
      "1700\n",
      "1750\n",
      "1800\n",
      "1850\n",
      "1900\n",
      "1950\n",
      "2000\n",
      "2050\n",
      "2100\n"
     ]
    }
   ],
   "source": [
    "# Shifting values to fill nulls\n",
    "#     the column names will no longer be relevent\n",
    "is_null = c4_kep.isnull()\n",
    "df_squished = pd.DataFrame()\n",
    "\n",
    "for i in range(c4_kep.shape[0]):\n",
    "    if i % 50 == 0:\n",
    "        print(i)\n",
    "    \n",
    "    k = 0 # reset the df_squished column index to 0 for each new row\n",
    "    for j in range(c4_kep.shape[1]):\n",
    "        if is_null.iloc[i, j] == False: # if this cell is not null\n",
    "            df_squished.loc[i, k] = c4_kep.iloc[i, j]\n",
    "            k += 1\n",
    "#     if i > 5:\n",
    "#         break\n",
    "df_squished.tail()"
   ]
  },
  {
   "cell_type": "code",
   "execution_count": null,
   "metadata": {
    "scrolled": true
   },
   "outputs": [],
   "source": [
    "df_squished.isnull().sum(axis = 1)"
   ]
  },
  {
   "cell_type": "markdown",
   "metadata": {},
   "source": [
    "### Save to a New File:"
   ]
  },
  {
   "cell_type": "code",
   "execution_count": null,
   "metadata": {},
   "outputs": [],
   "source": [
    "df_squished.to_csv('../clean_planet_data/clean_kep_c4.csv', index=False)"
   ]
  },
  {
   "cell_type": "code",
   "execution_count": null,
   "metadata": {},
   "outputs": [],
   "source": [
    "# least_null_planets.to_csv('../clean_planet_data/least_null_planets_1_and_2.csv', index=False)"
   ]
  },
  {
   "cell_type": "code",
   "execution_count": null,
   "metadata": {},
   "outputs": [],
   "source": [
    "# clean_cut_k2c1.to_csv('../clean_planet_data/clean_cut_k2c1.csv', index=False)"
   ]
  },
  {
   "cell_type": "code",
   "execution_count": null,
   "metadata": {},
   "outputs": [],
   "source": [
    "# kepc3.to_csv('../clean_planet_data/clean_cut_kepc3.csv', index=False)"
   ]
  },
  {
   "cell_type": "markdown",
   "metadata": {},
   "source": [
    "### Done!"
   ]
  },
  {
   "cell_type": "code",
   "execution_count": 6,
   "metadata": {
    "scrolled": true
   },
   "outputs": [
    {
     "data": {
      "text/plain": [
       "<matplotlib.collections.PathCollection at 0x107d938d0>"
      ]
     },
     "execution_count": 6,
     "metadata": {},
     "output_type": "execute_result"
    },
    {
     "data": {
      "image/png": "[encoded data removed]",
      "text/plain": [
       "<Figure size 432x288 with 1 Axes>"
      ]
     },
     "metadata": {
      "needs_background": "light"
     },
     "output_type": "display_data"
    }
   ],
   "source": [
    "plt.scatter(list(range(len(c4_kep.iloc[1000,3:3199]))), list(c4_kep.iloc[1000,3:3199]))\n",
    "# plt.ylim(19060, 19120)"
   ]
  },
  {
   "cell_type": "code",
   "execution_count": null,
   "metadata": {},
   "outputs": [],
   "source": []
  }
 ],
 "metadata": {
  "kernelspec": {
   "display_name": "Python 3",
   "language": "python",
   "name": "python3"
  },
  "language_info": {
   "codemirror_mode": {
    "name": "ipython",
    "version": 3
   },
   "file_extension": ".py",
   "mimetype": "text/x-python",
   "name": "python",
   "nbconvert_exporter": "python",
   "pygments_lexer": "ipython3",
   "version": "3.6.6"
  }
 },
 "nbformat": 4,
 "nbformat_minor": 2
}
