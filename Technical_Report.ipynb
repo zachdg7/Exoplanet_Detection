{
 "cells": [
  {
   "cell_type": "markdown",
   "metadata": {},
   "source": [
    "### Technical report:\n",
    "\t\t\tDon't forget executive sum and readme\n",
    "\t\t\tCan be done in a jupyter notebook\n",
    "\t"
   ]
  },
  {
   "cell_type": "markdown",
   "metadata": {},
   "source": [
    "### Problem statement:\n",
    "\t\tUsing the light curves from planets to detect planets in other solar systems\n",
    "\t\tMore specific\n",
    "            If you look at the stars you can see with the naked eye, how many of them have planets?\n",
    "\t\tDescribe the transit method\n",
    "\t"
   ]
  },
  {
   "cell_type": "markdown",
   "metadata": {},
   "source": [
    "### Description of data\n",
    "\t\tThe spacecraft\n",
    "\t\t\tKepler\n",
    "\t\t\t\tDesigned to measure the frequency of earthlike planets in the galaxy to estimate the possibility of intelligent life\n",
    "\t\tWhat area of the sky\n",
    "\t\t\tkepC3\n",
    "\t\t\tK2C1\n",
    "            kepc4\n",
    "\t\tMagnitude of light\n",
    "\t\t\tCorrected by NASA for the systematic error coming from the spacecraft\n",
    "\t"
   ]
  },
  {
   "cell_type": "markdown",
   "metadata": {},
   "source": [
    "### Data gathering and cleaning process:\n",
    "\t\tDownloading\n",
    "\t\t\tWget scripts\n",
    "\t\t\t250 gigabytes\n",
    "\t\tExtracting\n",
    "\t\t\tNavigating .fit files\n",
    "\t\t\tRunning over several nights\n",
    "\t\tCleaning nulls\n",
    "\t\t\tPicking light curve with least number of nulls\n",
    "\t\t\tMean imputation\n",
    "\t\t\tClosing gaps in the data\n",
    "\t"
   ]
  },
  {
   "cell_type": "markdown",
   "metadata": {},
   "source": [
    "### Data Exploration:\n",
    "\t\tSolar flares\n",
    "\t\tPlots\n",
    "\t\t\tCompare non planet to planet\n",
    "\t\t\tShow a random weird unexplained phenomena\n",
    "\t"
   ]
  },
  {
   "cell_type": "markdown",
   "metadata": {},
   "source": [
    "### Preprocessing\n",
    "\t\tScaling\n",
    "\t\tPutting on the same time scale\n",
    "\t\t\tMost planets detected using this method are \n",
    "\t"
   ]
  },
  {
   "cell_type": "markdown",
   "metadata": {},
   "source": [
    "### Modeling:\n",
    "\t\tNeural network topology\n",
    "\t\t\tConcerns about skips in data\n",
    "\t\tAre there other models I could apply\n",
    "\tApplying the model to unseen data\n",
    "\tComparing to other attempts in the past\n",
    "\t\tGoogle's code"
   ]
  },
  {
   "cell_type": "markdown",
   "metadata": {},
   "source": [
    "### Conclusions:"
   ]
  },
  {
   "cell_type": "code",
   "execution_count": null,
   "metadata": {},
   "outputs": [],
   "source": []
  }
 ],
 "metadata": {
  "kernelspec": {
   "display_name": "Python 3",
   "language": "python",
   "name": "python3"
  },
  "language_info": {
   "codemirror_mode": {
    "name": "ipython",
    "version": 3
   },
   "file_extension": ".py",
   "mimetype": "text/x-python",
   "name": "python",
   "nbconvert_exporter": "python",
   "pygments_lexer": "ipython3",
   "version": "3.6.6"
  }
 },
 "nbformat": 4,
 "nbformat_minor": 2
}
