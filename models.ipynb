{
 "cells": [
  {
   "cell_type": "markdown",
   "metadata": {},
   "source": [
    "### Imports:"
   ]
  },
  {
   "cell_type": "code",
   "execution_count": 1,
   "metadata": {},
   "outputs": [
    {
     "name": "stderr",
     "output_type": "stream",
     "text": [
      "Using TensorFlow backend.\n"
     ]
    },
    {
     "name": "stdout",
     "output_type": "stream",
     "text": [
      "Couldn't import dot_parser, loading of dot files will not be possible.\n"
     ]
    }
   ],
   "source": [
    "import pandas as pd\n",
    "import matplotlib.pyplot as plt\n",
    "import numpy as np\n",
    "\n",
    "import re\n",
    "\n",
    "from sklearn.preprocessing import StandardScaler\n",
    "\n",
    "from keras.models import Sequential\n",
    "from keras.layers import Dense, Dropout, Activation, Flatten\n",
    "from keras.layers import Conv1D, MaxPooling1D\n",
    "from keras.utils import np_utils\n",
    "from keras import optimizers\n",
    "\n",
    "from sklearn.model_selection import train_test_split\n",
    "\n",
    "%matplotlib inline"
   ]
  },
  {
   "cell_type": "markdown",
   "metadata": {},
   "source": [
    "### Load the Data:"
   ]
  },
  {
   "cell_type": "code",
   "execution_count": 2,
   "metadata": {},
   "outputs": [],
   "source": [
    "has_planets = pd.read_csv('../clean_planet_data/rand_non_null_planets.csv')"
   ]
  },
  {
   "cell_type": "code",
   "execution_count": 3,
   "metadata": {},
   "outputs": [],
   "source": [
    "kep3 = pd.read_csv('../clean_planet_data/clean_cut_kepc3.csv')"
   ]
  },
  {
   "cell_type": "code",
   "execution_count": 4,
   "metadata": {},
   "outputs": [],
   "source": [
    "k2c1 = pd.read_csv('../clean_planet_data/clean_cut_k2c1.csv')"
   ]
  },
  {
   "cell_type": "code",
   "execution_count": 5,
   "metadata": {},
   "outputs": [],
   "source": [
    "c4_kep = pd.read_csv('../clean_planet_data/clean_kep_c4.csv')"
   ]
  },
  {
   "cell_type": "code",
   "execution_count": 6,
   "metadata": {},
   "outputs": [],
   "source": [
    "all_confirmed = pd.read_csv('../clean_planet_data/all_planets_list.csv')"
   ]
  },
  {
   "cell_type": "markdown",
   "metadata": {},
   "source": [
    "### Making sure there are transits in the confirmed planets set:"
   ]
  },
  {
   "cell_type": "code",
   "execution_count": 7,
   "metadata": {},
   "outputs": [],
   "source": [
    "# remove last line from c4_kep because it has too many nulls:\n",
    "# c4_kep.drop(index=7713, inplace = True)"
   ]
  },
  {
   "cell_type": "code",
   "execution_count": 8,
   "metadata": {},
   "outputs": [],
   "source": [
    "# Assign what used to be exposure to 0 because we're about to change that variable\n",
    "c4_kep['1'] = 0"
   ]
  },
  {
   "cell_type": "code",
   "execution_count": 10,
   "metadata": {},
   "outputs": [
    {
     "name": "stdout",
     "output_type": "stream",
     "text": [
      "0\n",
      "KIC 10000941  found @ index:  174 orbital period:  3.5047±0.0000\n",
      "250\n",
      "KIC 10002866  found @ index:  265 orbital period:  3.9370±0.0000\n",
      "KIC 10002866  found @ index:  265 orbital period:  28.0819±0.0001\n",
      "KIC 10002866  found @ index:  265 orbital period:  10.0888±0.0000\n",
      "KIC 10004519  found @ index:  328 orbital period:  9.8032±0.0000\n",
      "KIC 10004738  found @ index:  338 orbital period:  56.4754±0.0002\n",
      "KIC 10004738  found @ index:  338 orbital period:  92.8761±0.0008\n",
      "KIC 10004738  found @ index:  338 orbital period:  13.9307±0.0001\n",
      "KIC 10005788  found @ index:  398 orbital period:  10.9947±0.0000\n",
      "KIC 10006581  found @ index:  430 orbital period:  40.1100±0.0002\n",
      "500\n",
      "KIC 10010440  found @ index:  502 orbital period:  53.5991±0.0004\n",
      "KIC 10018233  found @ index:  691 orbital period:  16.2960±0.0001\n",
      "KIC 10019065  found @ index:  744 orbital period:  52.6298±0.0003\n",
      "750\n",
      "KIC 10019643  found @ index:  771 orbital period:  21.3473±0.0001\n",
      "KIC 10019643  found @ index:  771 orbital period:  7.8109±0.0001\n",
      "KIC 10019708  found @ index:  777 orbital period:  3.2687±0.0000\n",
      "KIC 10022908  found @ index:  821 orbital period:  6.9913±0.0000\n",
      "KIC 10024051  found @ index:  872 orbital period:  0.5774±0.0000\n",
      "KIC 10024701  found @ index:  905 orbital period:  14.3751±0.0000\n",
      "KIC 10024862  found @ index:  913 on 2nd level of loop orbital period:  567.04±0.03\n",
      "KIC 10026502  found @ index:  986 orbital period:  101.9518±0.0016\n",
      "1000\n",
      "KIC 10027247  found @ index:  1028 orbital period:  86.8290±0.0011\n",
      "KIC 10027323  found @ index:  1032 orbital period:  5.9237±0.0000\n",
      "KIC 10027323  found @ index:  1032 orbital period:  105.3564±0.0009\n",
      "KIC 10028535  found @ index:  1091 orbital period:  0.6631±0.0000\n",
      "KIC 10028792  found @ index:  1099 orbital period:  114.7309±0.0005\n",
      "KIC 10028792  found @ index:  1099 orbital period:  192.36±0.07\n",
      "1250\n",
      "KIC 10055126  found @ index:  1352 orbital period:  9.1761±0.0001\n",
      "KIC 10055126  found @ index:  1352 orbital period:  19.7383±0.0002\n",
      "KIC 10057494  found @ index:  1426 orbital period:  2.4181±0.0000\n",
      "KIC 10059645  found @ index:  1493 orbital period:  6.4944±0.0000\n",
      "1500\n",
      "KIC 10063208  found @ index:  1525 orbital period:  9.3281±0.0001\n",
      "KIC 10063802  found @ index:  1553 orbital period:  120.0181±0.0004\n",
      "1750\n",
      "KIC 10068659  found @ index:  1779 orbital period:  11.4769±0.0001\n",
      "KIC 10070468  found @ index:  1850 orbital period:  1.6819±0.0000\n",
      "2000\n",
      "KIC 10080248  found @ index:  2052 orbital period:  14.8783±0.0001\n",
      "2250\n",
      "KIC 10089911  found @ index:  2406 orbital period:  6.9671±0.0000\n",
      "2500\n",
      "KIC 10098844  found @ index:  2724 orbital period:  47.4500±0.0008\n",
      "2750\n",
      "KIC 10122255  found @ index:  2860 orbital period:  27.6655±0.0001\n",
      "KIC 10123064  found @ index:  2890 orbital period:  4.2437±0.0000\n",
      "3000\n",
      "KIC 10130039  found @ index:  3037 orbital period:  12.7580±0.0001\n",
      "KIC 10130039  found @ index:  3037 orbital period:  5.4703±0.0000\n",
      "KIC 10130039  found @ index:  3037 orbital period:  25.0985±0.0001\n",
      "KIC 10132832  found @ index:  3129 orbital period:  16.0768±0.0001\n",
      "3250\n",
      "KIC 10136549  found @ index:  3262 orbital period:  9.6932±0.0000\n",
      "KIC 10136549  found @ index:  3262 orbital period:  3.2928±0.0000\n",
      "KIC 10141900  found @ index:  3410 orbital period:  1.1966±0.0000\n",
      "3500\n",
      "KIC 10153855  found @ index:  3677 orbital period:  1.0638±0.0000\n",
      "KIC 10154388  found @ index:  3707 orbital period:  12.0622±0.0000\n",
      "3750\n",
      "KIC 10157458  found @ index:  3864 orbital period:  7.3368±0.0000\n",
      "KIC 10158729  found @ index:  3926 orbital period:  58.6018±0.0006\n",
      "4000\n",
      "KIC 10166274  found @ index:  4124 orbital period:  3.3537±0.0000\n",
      "KIC 10166274  found @ index:  4124 orbital period:  6.8774±0.0000\n",
      "KIC 10166274  found @ index:  4124 orbital period:  28.4645±0.0002\n",
      "KIC 10187017  found @ index:  4200 orbital period:  16.15\n",
      "KIC 10187017  found @ index:  4200 orbital period:  10.31\n",
      "KIC 10187017  found @ index:  4200 orbital period:  27.5\n",
      "KIC 10187017  found @ index:  4200 orbital period:  7.07\n",
      "KIC 10187017  found @ index:  4200 orbital period:  5.29\n",
      "KIC 10187159  found @ index:  4206 orbital period:  7.9643±0.0000\n",
      "4250\n",
      "KIC 10189546  found @ index:  4304 orbital period:  42.9496±0.0002\n",
      "KIC 10189546  found @ index:  4304 orbital period:  117.0405±0.0018\n",
      "KIC 10190777  found @ index:  4342 orbital period:  1.4112±0.0000\n",
      "4500\n",
      "KIC 10203349  found @ index:  4726 orbital period:  17.1465±0.0001\n",
      "4750\n",
      "KIC 10212441  found @ index:  4862 orbital period:  15.0447±0.0001\n",
      "KIC 10213902  found @ index:  4917 orbital period:  59.6225±0.0003\n",
      "KIC 10214162  found @ index:  4936 orbital period:  17.4240±0.0001\n",
      "5000\n",
      "5250\n",
      "5500\n",
      "KIC 10253547  found @ index:  5557 orbital period:  59.9806±0.0009\n",
      "KIC 10253547  found @ index:  5557 orbital period:  25.7457±0.0005\n",
      "5750\n",
      "KIC 10264660  found @ index:  5896 orbital period:  6.79\n",
      "KIC 10265898  found @ index:  5941 orbital period:  1.2603±0.0000\n",
      "KIC 10266615  found @ index:  5968 orbital period:  10.9403±0.0000\n",
      "6000\n",
      "KIC 10271806  found @ index:  6068 orbital period:  5.9250±0.0000\n",
      "KIC 10271806  found @ index:  6068 orbital period:  11.3494±0.0000\n",
      "KIC 10271806  found @ index:  6068 orbital period:  3.1329±0.0000\n",
      "KIC 10271806  found @ index:  6068 orbital period:  18.6436±0.0001\n",
      "KIC 10272442  found @ index:  6086 orbital period:  24.5435±0.0001\n",
      "KIC 10272640  found @ index:  6092 orbital period:  3.7706±0.0000\n",
      "6250\n",
      "KIC 10285631  found @ index:  6412 orbital period:  18.6840±0.0001\n",
      "6500\n",
      "KIC 10289119  found @ index:  6584 orbital period:  16.1047±0.0001\n",
      "KIC 10290666  found @ index:  6649 orbital period:  5.4585±0.0000\n",
      "6750\n",
      "KIC 10318874  found @ index:  6892 orbital period:  2.51\n",
      "KIC 10318874  found @ index:  6892 orbital period:  820±3\n",
      "7000\n",
      "KIC 10328393  found @ index:  7125 orbital period:  7.6263±0.0000\n",
      "KIC 10328393  found @ index:  7125 orbital period:  15.9956±0.0001\n",
      "KIC 10328393  found @ index:  7125 orbital period:  34.2115±0.0003\n",
      "KIC 10328458  found @ index:  7131 orbital period:  2.3523±0.0000\n",
      "KIC 10329196  found @ index:  7167 orbital period:  85.7565±0.0006\n",
      "KIC 10329469  found @ index:  7180 orbital period:  55.8227±0.0004\n",
      "KIC 10329835  found @ index:  7192 orbital period:  1.5237±0.0000\n",
      "KIC 10330115  found @ index:  7204 orbital period:  13.2141±0.0000\n",
      "7250\n",
      "KIC 10332883  found @ index:  7329 orbital period:  1.1512±0.0000\n",
      "KIC 10337258  found @ index:  7411 orbital period:  13.2854±0.0000\n",
      "KIC 10337517  found @ index:  7423 orbital period:  4.2926±0.0000\n",
      "7500\n",
      "KIC 10340423  found @ index:  7526 orbital period:  18.7942±0.0001\n",
      "KIC 10340423  found @ index:  7526 orbital period:  6.7390±0.0000\n",
      "KIC 10350571  found @ index:  7697 orbital period:  31.5923±0.0007\n"
     ]
    }
   ],
   "source": [
    "# # Assign labels to c4_kep\n",
    "# not_found = 0\n",
    "# stars_to_drop = []\n",
    "\n",
    "# for j in range(len(c4_kep)): # for every light curve from has_planets\n",
    "#     if j % 250 == 0:\n",
    "#         print(j)\n",
    "\n",
    "#     count = 0\n",
    "#     for i in range(len(all_confirmed)): # look through each star name in the list of all confirmed planets\n",
    "#         try:\n",
    "#             if all_confirmed.loc[i, 'Alternative star names'].find(c4_kep.iloc[j, 0]) != -1:\n",
    "#                 count += 1\n",
    "#                 print(c4_kep.iloc[j, 0], ' found @ index: ', j, 'orbital period: ', all_confirmed.loc[i, 'Orbital period [days]'])\n",
    "#                 c4_kep.loc[j, '1'] = 1\n",
    "    \n",
    "#         except AttributeError: # if the alternate star names value are null\n",
    "#             try:\n",
    "#                 if all_confirmed.loc[i, 'Star name'].find(c4_kep.iloc[j, 0]) != -1:\n",
    "#                     count += 1\n",
    "#                     print(c4_kep.iloc[j, 0], ' found @ index: ', j, 'on 2nd level of loop', 'orbital period: ', all_confirmed.loc[i, 'Orbital period [days]'])\n",
    "#                     c4_kep.loc[j, '1'] = 1\n",
    "                    \n",
    "#             except AttributeError: # if this is null too, keep going\n",
    "#                 continue\n",
    "#     if count == 0:\n",
    "#         not_found += 1\n"
   ]
  },
  {
   "cell_type": "code",
   "execution_count": 11,
   "metadata": {},
   "outputs": [
    {
     "data": {
      "text/plain": [
       "0    7642\n",
       "1      71\n",
       "Name: 1, dtype: int64"
      ]
     },
     "execution_count": 11,
     "metadata": {},
     "output_type": "execute_result"
    }
   ],
   "source": [
    "c4_kep['1'].value_counts() # I counted only 5 stars with no planets with an orbit under 60 days in this set"
   ]
  },
  {
   "cell_type": "markdown",
   "metadata": {},
   "source": [
    "### Preparing Data:\n",
    "Mix confirmed planets into data so the model can learn what they are like."
   ]
  },
  {
   "cell_type": "code",
   "execution_count": 16,
   "metadata": {
    "scrolled": true
   },
   "outputs": [
    {
     "data": {
      "text/plain": [
       "(1166, 3199)"
      ]
     },
     "execution_count": 16,
     "metadata": {},
     "output_type": "execute_result"
    }
   ],
   "source": [
    "# cut out the extra data to compare across the same timeline (~3200 points)\n",
    "join_planets = has_planets.iloc[:,:3199]\n",
    "\n",
    "# split c4_kep to add to training data\n",
    "to_train_on = c4_kep.head(2714).iloc[:,:3199]\n",
    "to_train_on.columns = kep3.columns\n",
    "\n",
    "# set aside the last 5000 stars as a holdout set\n",
    "c4_holdout = c4_kep.tail(5000).iloc[:,:3199]\n",
    "c4_holdout.columns = kep3.columns"
   ]
  },
  {
   "cell_type": "code",
   "execution_count": 22,
   "metadata": {},
   "outputs": [],
   "source": [
    "# make sure the dataframes have the same column names\n",
    "join_planets.columns = kep3.columns\n",
    "\n",
    "# label the confirmed planet systems with 1\n",
    "join_planets['LABEL'] = 1"
   ]
  },
  {
   "cell_type": "code",
   "execution_count": 76,
   "metadata": {
    "scrolled": false
   },
   "outputs": [
    {
     "data": {
      "text/html": [
       "<div>\n",
       "<style scoped>\n",
       "    .dataframe tbody tr th:only-of-type {\n",
       "        vertical-align: middle;\n",
       "    }\n",
       "\n",
       "    .dataframe tbody tr th {\n",
       "        vertical-align: top;\n",
       "    }\n",
       "\n",
       "    .dataframe thead th {\n",
       "        text-align: right;\n",
       "    }\n",
       "</style>\n",
       "<table border=\"1\" class=\"dataframe\">\n",
       "  <thead>\n",
       "    <tr style=\"text-align: right;\">\n",
       "      <th></th>\n",
       "      <th>name</th>\n",
       "      <th>LABEL</th>\n",
       "      <th>FLUX.1</th>\n",
       "      <th>FLUX.2</th>\n",
       "      <th>FLUX.3</th>\n",
       "      <th>FLUX.4</th>\n",
       "      <th>FLUX.5</th>\n",
       "      <th>FLUX.6</th>\n",
       "      <th>FLUX.7</th>\n",
       "      <th>FLUX.8</th>\n",
       "      <th>...</th>\n",
       "      <th>FLUX.3188</th>\n",
       "      <th>FLUX.3189</th>\n",
       "      <th>FLUX.3190</th>\n",
       "      <th>FLUX.3191</th>\n",
       "      <th>FLUX.3192</th>\n",
       "      <th>FLUX.3193</th>\n",
       "      <th>FLUX.3194</th>\n",
       "      <th>FLUX.3195</th>\n",
       "      <th>FLUX.3196</th>\n",
       "      <th>FLUX.3197</th>\n",
       "    </tr>\n",
       "  </thead>\n",
       "  <tbody>\n",
       "    <tr>\n",
       "      <th>0</th>\n",
       "      <td>KIC 10000941</td>\n",
       "      <td>1</td>\n",
       "      <td>52902.074219</td>\n",
       "      <td>52927.621094</td>\n",
       "      <td>52939.589844</td>\n",
       "      <td>52911.21875</td>\n",
       "      <td>52920.886719</td>\n",
       "      <td>52934.554688</td>\n",
       "      <td>52921.554688</td>\n",
       "      <td>52937.226562</td>\n",
       "      <td>...</td>\n",
       "      <td>50983.238281</td>\n",
       "      <td>50983.949219</td>\n",
       "      <td>50995.265625</td>\n",
       "      <td>50997.300781</td>\n",
       "      <td>50993.734375</td>\n",
       "      <td>51004.308594</td>\n",
       "      <td>50999.628906</td>\n",
       "      <td>51006.1875</td>\n",
       "      <td>51016.789062</td>\n",
       "      <td>51033.65625</td>\n",
       "    </tr>\n",
       "  </tbody>\n",
       "</table>\n",
       "<p>1 rows × 3199 columns</p>\n",
       "</div>"
      ],
      "text/plain": [
       "           name  LABEL        FLUX.1        FLUX.2        FLUX.3       FLUX.4  \\\n",
       "0  KIC 10000941      1  52902.074219  52927.621094  52939.589844  52911.21875   \n",
       "\n",
       "         FLUX.5        FLUX.6        FLUX.7        FLUX.8     ...       \\\n",
       "0  52920.886719  52934.554688  52921.554688  52937.226562     ...        \n",
       "\n",
       "      FLUX.3188     FLUX.3189     FLUX.3190     FLUX.3191     FLUX.3192  \\\n",
       "0  50983.238281  50983.949219  50995.265625  50997.300781  50993.734375   \n",
       "\n",
       "      FLUX.3193     FLUX.3194   FLUX.3195     FLUX.3196    FLUX.3197  \n",
       "0  51004.308594  50999.628906  51006.1875  51016.789062  51033.65625  \n",
       "\n",
       "[1 rows x 3199 columns]"
      ]
     },
     "execution_count": 76,
     "metadata": {},
     "output_type": "execute_result"
    }
   ],
   "source": [
    "master_df = pd.concat([join_planets, to_train_on], axis = 0)"
   ]
  },
  {
   "cell_type": "code",
   "execution_count": 79,
   "metadata": {},
   "outputs": [
    {
     "data": {
      "text/plain": [
       "0.3079896907216495"
      ]
     },
     "execution_count": 79,
     "metadata": {},
     "output_type": "execute_result"
    }
   ],
   "source": [
    "# Calculate Baseline Accuracy\n",
    "val_count = master_df['LABEL'].value_counts()\n",
    "base_acc = val_count[1] / val_count.sum()\n",
    "\n",
    "print('Baseline Acc: ', base_acc)\n",
    "print(val_count)"
   ]
  },
  {
   "cell_type": "markdown",
   "metadata": {},
   "source": [
    "### Scaling\n",
    "Normalize the light curves so that stars of different brightnesses can be compared."
   ]
  },
  {
   "cell_type": "code",
   "execution_count": 80,
   "metadata": {},
   "outputs": [],
   "source": [
    "# Make X and y\n",
    "X = master_df.iloc[:, 2:]\n",
    "y = master_df['LABEL']\n",
    "\n",
    "# Train-Test-Split\n",
    "X_train, X_test, y_train, y_test = train_test_split(X, y, stratify = y)"
   ]
  },
  {
   "cell_type": "code",
   "execution_count": null,
   "metadata": {},
   "outputs": [],
   "source": [
    "# instantiate StandardScaler as ss\n",
    "ss = StandardScaler()"
   ]
  },
  {
   "cell_type": "code",
   "execution_count": 82,
   "metadata": {},
   "outputs": [],
   "source": [
    "# transpose to scale each lightcurve row (rather than columns)\n",
    "X_train = X_train.T\n",
    "X_test = X_test.T\n",
    "\n",
    "# Scaling\n",
    "scaled_df = ss.fit_transform(X_train)\n",
    "X_train = pd.DataFrame(scaled_df, columns=X_train.columns)\n",
    "\n",
    "test_scaled_df = ss.fit_transform(X_test)\n",
    "X_test = pd.DataFrame(test_scaled_df, columns=X_test.columns)\n",
    "\n",
    "# Transpose back to normal\n",
    "X_train = X_train.T\n",
    "X_test = X_test.T"
   ]
  },
  {
   "cell_type": "code",
   "execution_count": 90,
   "metadata": {},
   "outputs": [],
   "source": [
    "# make into an array and then change the dimensions\n",
    "X_array = np.array(X_train)\n",
    "X_array = np.expand_dims(X_array, axis = 2)\n",
    "\n",
    "# do this for the test set too\n",
    "X_test_array = np.array(X_test)\n",
    "X_test_array = np.expand_dims(X_test_array, axis = 2)"
   ]
  },
  {
   "cell_type": "markdown",
   "metadata": {},
   "source": [
    "### Prepare Holdout Data:"
   ]
  },
  {
   "cell_type": "code",
   "execution_count": 88,
   "metadata": {},
   "outputs": [],
   "source": [
    "# slice out the light curve\n",
    "unseen_data = c4_holdout.iloc[:,2:3199]\n",
    "\n",
    "# Scale\n",
    "unseen_data = unseen_data.T # transpose to scale each lightcurve row (rather than columns)\n",
    "\n",
    "scaled_unseen = ss.fit_transform(unseen_data)\n",
    "unseen_data = pd.DataFrame(scaled_unseen, columns=unseen_data.columns)\n",
    "\n",
    "unseen_data = unseen_data.T # Transpose back to normal\n",
    "\n",
    "# Change the dimensions so it can be put through the neural network\n",
    "array_unseen = np.array(unseen_data)\n",
    "array_unseen = np.expand_dims(array_unseen, axis = 2)"
   ]
  },
  {
   "cell_type": "markdown",
   "metadata": {},
   "source": [
    "### Modeling:"
   ]
  },
  {
   "cell_type": "code",
   "execution_count": 703,
   "metadata": {},
   "outputs": [],
   "source": [
    "# Define model architecture\n",
    "model = Sequential()\n",
    "\n",
    "# Convolutional and layer.\n",
    "model.add(Conv1D(filters = 5, # tuned for 5\n",
    "                 kernel_size = (15),  # filter size, tuned for 15\n",
    "                 activation = 'relu',\n",
    "                 input_shape = (3197, 1))) # dimensions of training data\n",
    "# Pooling:\n",
    "model.add(MaxPooling1D(pool_size = (5))) # tuned for 5\n",
    "model.add(Dropout(0.1)) # regularization tuned for .1\n",
    "\n",
    "\n",
    "# Convolutional layer\n",
    "model.add(Conv1D(filters = 7, # tuned for 7\n",
    "                 kernel_size = 7, # tuned for 7\n",
    "                 activation = 'relu'))\n",
    "# Pooling layer.\n",
    "model.add(MaxPooling1D(pool_size = (7))) #tuned for 7\n",
    "model.add(Dropout(0.25)) # regularization tuned for .25\n",
    "\n",
    "# Convolutional layer\n",
    "model.add(Conv1D(filters = 10, # tuned to 10\n",
    "                 kernel_size = 10, # tuned to 10\n",
    "                 activation = 'relu'))\n",
    "# Pooling layer.\n",
    "model.add(MaxPooling1D(pool_size = (5))) # tuned to 5\n",
    "model.add(Dropout(0.5)) # regularization tuned to .5\n",
    "\n",
    "# In order to go from a convolutional/pooling layer, we have to organize our neurons.\n",
    "model.add(Flatten())\n",
    "\n",
    "# # Fully connected layers.\n",
    "model.add(Dense(2500, activation = 'relu'))\n",
    "model.add(Dropout(0.7)) # regularization tuned to .7\n",
    "\n",
    "model.add(Dense(1000, activation = 'relu'))\n",
    "model.add(Dropout(0.7)) # regularization tuned to .7\n",
    "\n",
    "\n",
    "# Output layer\n",
    "model.add(Dense(1, activation = 'sigmoid'))\n",
    "\n",
    "# Changing adam optimization parameters\n",
    "optimizers.adam(lr = 0.001, decay = 0)\n",
    "\n",
    "# Compile model\n",
    "model.compile(loss = 'binary_crossentropy',\n",
    "              optimizer = 'adam',\n",
    "              metrics = ['accuracy'])"
   ]
  },
  {
   "cell_type": "code",
   "execution_count": 704,
   "metadata": {
    "scrolled": false
   },
   "outputs": [],
   "source": [
    "result = model.fit(X_array,\n",
    "                    y_train,\n",
    "                    batch_size = 64,\n",
    "                    epochs = 150,\n",
    "                    verbose = 0,\n",
    "                   validation_data = (X_test_array, y_test))"
   ]
  },
  {
   "cell_type": "code",
   "execution_count": 705,
   "metadata": {
    "scrolled": true
   },
   "outputs": [
    {
     "data": {
      "image/png": "[encoded data removed]",
      "text/plain": [
       "<Figure size 432x288 with 1 Axes>"
      ]
     },
     "metadata": {
      "needs_background": "light"
     },
     "output_type": "display_data"
    }
   ],
   "source": [
    "# Plot loss over time.\n",
    "plt.figure()\n",
    "plt.plot(result.history['acc'])\n",
    "plt.plot(result.history['val_acc'])\n",
    "plt.title('Model Accuracy')\n",
    "plt.ylabel('Accuracy')\n",
    "plt.xlabel('Epoch')\n",
    "plt.legend(['Train', 'Test'], loc='best')\n",
    "plt.show();"
   ]
  },
  {
   "cell_type": "markdown",
   "metadata": {},
   "source": [
    "### Testing on Unseen Data:\n",
    "Now that the model has been fit, lets see if we can use it to detect some planets in data not seen before."
   ]
  },
  {
   "cell_type": "code",
   "execution_count": 701,
   "metadata": {},
   "outputs": [],
   "source": [
    "# Make Predictions\n",
    "y_unseen = model.predict_classes(array_unseen)"
   ]
  },
  {
   "cell_type": "code",
   "execution_count": 702,
   "metadata": {
    "scrolled": true
   },
   "outputs": [
    {
     "name": "stdout",
     "output_type": "stream",
     "text": [
      "0.013 % Predicted to have planets\n",
      "0    4934\n",
      "1      66\n",
      "Name: prediction, dtype: int64\n",
      "0.008 % actually have planets\n",
      "0    4958\n",
      "1      42\n",
      "Name: LABEL, dtype: int64\n",
      "8  True positive planet stars predicted  12.12 % of all predictions 14.43  times better than chance\n",
      "58  False postives 87.88 % of all predicted\n"
     ]
    }
   ],
   "source": [
    "# make predictions df\n",
    "yhat_unseen = pd.DataFrame(y_unseen, columns=['prediction'])\n",
    "\n",
    "# make df of true labels and index\n",
    "true_y_unseen = c4_holdout['LABEL']\n",
    "true_y_unseen_df = pd.DataFrame(true_y_unseen)#, columns=['true'])\n",
    "true_y_unseen_df.reset_index(inplace=True)\n",
    "\n",
    "compare_df = pd.concat((true_y_unseen_df, yhat_unseen), axis=1)#, join = 'outer')\n",
    "\n",
    "# print out prediction rate and value_counts\n",
    "val_counts = yhat_unseen['prediction'].value_counts()\n",
    "print(round(val_counts[1]/val_counts.sum(), 3), '% Predicted to have planets')\n",
    "print(val_counts)\n",
    "\n",
    "# print out true rate and value_counts\n",
    "val_counts2 = true_y_unseen.value_counts()\n",
    "print(round(val_counts2[1]/val_counts2.sum(), 3), '% actually have planets')\n",
    "print(val_counts2)\n",
    "\n",
    "true_masked = compare_df[compare_df['LABEL'] == 1]\n",
    "fp = val_counts[1] - true_masked['prediction'].sum()\n",
    "tp = true_masked['prediction'].sum()\n",
    "\n",
    "# compare predictions to true\n",
    "\n",
    "print(tp, ' True positive planet stars predicted ',\n",
    "      round((tp/val_counts[1])*100, 2), '% of all predictions',\n",
    "     round((tp/val_counts[1])/(val_counts2[1]/val_counts2.sum()), 2), ' times better than chance')\n",
    "print(fp, ' False postives', round((fp / val_counts[1])*100, 2), '% of all predicted')\n"
   ]
  }
 ],
 "metadata": {
  "kernelspec": {
   "display_name": "Python 3",
   "language": "python",
   "name": "python3"
  },
  "language_info": {
   "codemirror_mode": {
    "name": "ipython",
    "version": 3
   },
   "file_extension": ".py",
   "mimetype": "text/x-python",
   "name": "python",
   "nbconvert_exporter": "python",
   "pygments_lexer": "ipython3",
   "version": "3.6.6"
  }
 },
 "nbformat": 4,
 "nbformat_minor": 2
}
