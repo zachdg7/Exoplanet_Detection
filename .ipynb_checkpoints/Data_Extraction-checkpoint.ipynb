{
 "cells": [
  {
   "cell_type": "markdown",
   "metadata": {},
   "source": [
    "### Imports:"
   ]
  },
  {
   "cell_type": "code",
   "execution_count": 1,
   "metadata": {},
   "outputs": [],
   "source": [
    "import pandas as pd\n",
    "import os\n",
    "import time\n",
    "from astropy.io import fits"
   ]
  },
  {
   "cell_type": "markdown",
   "metadata": {},
   "source": [
    "### Extraction Loop:\n",
    "The light curve data in the .fit files is contained in a list of tuples along with other measurements. <br>\n",
    "Each tuple is an observation point for a specific time, the observations are taken 30min apart. <br>\n",
    "We want the 3rd value in each tuple, which corresponds to the corrected flux levels recorded by the instruments in the spacecraft in electrons per second. <br>\n",
    "#### This loop extracts this data from each .fit file, compiles it into a dataframe, and saves the dataframe as .csv file."
   ]
  },
  {
   "cell_type": "code",
   "execution_count": 2,
   "metadata": {},
   "outputs": [],
   "source": [
    "### If extracting from confirmed_planets you must set to item[7] when iterating through items in the .fit data\n",
    "#     item[2] for k2c1\n",
    "directory = '../raw_space_data/confirmed_planets/'\n",
    "save_name = 'extracted_planets_1_again'"
   ]
  },
  {
   "cell_type": "code",
   "execution_count": 3,
   "metadata": {},
   "outputs": [
    {
     "name": "stdout",
     "output_type": "stream",
     "text": [
      "Rows saved:  0   0.21  min runtime.\n",
      "Rows saved:  100   8.15  min runtime.\n",
      "Rows saved:  200   16.13  min runtime.\n",
      "Rows saved:  300   24.15  min runtime.\n",
      "Rows saved:  400   32.2  min runtime.\n",
      "Rows saved:  500   40.3  min runtime.\n",
      "Rows saved:  600   48.48  min runtime.\n",
      "Rows saved:  700   56.67  min runtime.\n",
      "Rows saved:  800   64.92  min runtime.\n",
      "Rows saved:  900   73.19  min runtime.\n",
      "Rows saved:  1000   81.53  min runtime.\n",
      "Rows saved:  1100   90.07  min runtime.\n",
      "Rows saved:  1200   99.36  min runtime.\n",
      "Rows saved:  1300   108.8  min runtime.\n",
      "Rows saved:  1400   118.23  min runtime.\n",
      "Rows saved:  1500   127.25  min runtime.\n",
      "Rows saved:  1600   135.87  min runtime.\n",
      "Rows saved:  1700   144.54  min runtime.\n",
      "Rows saved:  1800   153.23  min runtime.\n",
      "Rows saved:  1900   161.99  min runtime.\n",
      "Rows saved:  2000   170.8  min runtime.\n",
      "Rows saved:  2100   179.61  min runtime.\n",
      "Rows saved:  2200   188.49  min runtime.\n",
      "Rows saved:  2300   197.43  min runtime.\n",
      "Rows saved:  2400   206.38  min runtime.\n",
      "Rows saved:  2500   215.44  min runtime.\n",
      "Rows saved:  2600   224.52  min runtime.\n",
      "Rows saved:  2700   233.63  min runtime.\n",
      "Rows saved:  2800   242.76  min runtime.\n",
      "Rows saved:  2900   251.95  min runtime.\n",
      "Rows saved:  3000   261.16  min runtime.\n",
      "Rows saved:  3100   270.49  min runtime.\n",
      "Rows saved:  3200   279.82  min runtime.\n",
      "Rows saved:  3300   289.21  min runtime.\n",
      "Rows saved:  3400   298.66  min runtime.\n",
      "Rows saved:  3500   308.11  min runtime.\n",
      "Rows saved:  3600   317.58  min runtime.\n",
      "Rows saved:  3700   327.17  min runtime.\n",
      "Rows saved:  3800   336.75  min runtime.\n",
      "Rows saved:  3900   346.39  min runtime.\n",
      "Rows saved:  4000   356.07  min runtime.\n",
      "Rows saved:  4100   365.77  min runtime.\n",
      "Rows saved:  4200   375.54  min runtime.\n",
      "Rows saved:  4300   385.36  min runtime.\n",
      "Rows saved:  4400   395.18  min runtime.\n",
      "Rows saved:  4500   405.1  min runtime.\n",
      "Rows saved:  4600   415.02  min runtime.\n",
      "Rows saved:  4700   425.03  min runtime.\n",
      "Rows saved:  4800   435.03  min runtime.\n",
      "Rows saved:  4900   445.09  min runtime.\n",
      "Rows saved:  5000   455.22  min runtime.\n",
      "Rows saved:  5100   465.38  min runtime.\n",
      "Rows saved:  5200   475.63  min runtime.\n",
      "Rows saved:  5300   485.91  min runtime.\n",
      "Rows saved:  5400   496.24  min runtime.\n",
      "Rows saved:  5500   506.56  min runtime.\n",
      "DONE!!!!! Runtime:  511.4  minutes\n"
     ]
    }
   ],
   "source": [
    "start_time = time.time()\n",
    "\n",
    "# The following lines will prepare things to be run through the loop\n",
    "col_names = ['star_name', 'exposure']\n",
    "df = pd.DataFrame(columns = [col_names])\n",
    "i = 0\n",
    "\n",
    "for filename in os.listdir(directory): # Loop through every .fit file in the directory\n",
    "#     if i > 5:\n",
    "#         break\n",
    "    if filename.endswith(\".fits\"):\n",
    "   \n",
    "        fit_data = fits.open(directory + filename)\n",
    "        if fit_data[1].header['EXPOSURE'] < 65: # if the exposure is less than 65 days, skip this file\n",
    "            continue\n",
    "        df.loc[i, 'star_name'] = fit_data[1].header['OBJECT']    # Extract the star's name\n",
    "        df.loc[i, 'exposure'] = fit_data[1].header['EXPOSURE']   # Extract the amount of time Kepler was recording the target\n",
    "        \n",
    "        j = 0 \n",
    "        for item in fit_data[1].data:     # iterate through the items in the .fit data \n",
    "            col_name = 'c_flux_' + str(j) # create the column label\n",
    "            df.loc[i, col_name] = item[7] # item[7] for confirmed planets, item[2] for k2c1, extract the corrected flux levels for each item and put it all in a row\n",
    "            \n",
    "            j += 1\n",
    "            if j > 4000: # We won't be needing more columns than this for this project\n",
    "                break\n",
    "        \n",
    "        if i % 100 == 0: # save the progress and print out some feedback every 100 files\n",
    "            df.to_csv(('../' + save_name + '.csv'), index=False)\n",
    "            print('Rows saved: ', i, ' ', round((time.time() - start_time)/60, 2), ' min runtime.')\n",
    "        \n",
    "        i += 1\n",
    "\n",
    "# Done!\n",
    "df.to_csv(('../' + save_name + '.csv'), index=False)\n",
    "print('DONE!!!!!', 'Runtime: ', round((time.time() - start_time)/60, 3), ' minutes')"
   ]
  },
  {
   "cell_type": "markdown",
   "metadata": {},
   "source": [
    "### Check the Dataframe to be Sure Everything Worked:\n",
    "There should be some null values at the end of most of the rows because not all the light curves are the same length."
   ]
  },
  {
   "cell_type": "code",
   "execution_count": 4,
   "metadata": {
    "scrolled": true
   },
   "outputs": [
    {
     "data": {
      "text/html": [
       "<div>\n",
       "<style scoped>\n",
       "    .dataframe tbody tr th:only-of-type {\n",
       "        vertical-align: middle;\n",
       "    }\n",
       "\n",
       "    .dataframe tbody tr th {\n",
       "        vertical-align: top;\n",
       "    }\n",
       "\n",
       "    .dataframe thead tr th {\n",
       "        text-align: left;\n",
       "    }\n",
       "</style>\n",
       "<table border=\"1\" class=\"dataframe\">\n",
       "  <thead>\n",
       "    <tr>\n",
       "      <th></th>\n",
       "      <th>star_name</th>\n",
       "      <th>exposure</th>\n",
       "      <th>c_flux_0</th>\n",
       "      <th>c_flux_1</th>\n",
       "      <th>c_flux_2</th>\n",
       "      <th>c_flux_3</th>\n",
       "      <th>c_flux_4</th>\n",
       "      <th>c_flux_5</th>\n",
       "      <th>c_flux_6</th>\n",
       "      <th>c_flux_7</th>\n",
       "      <th>...</th>\n",
       "      <th>c_flux_3991</th>\n",
       "      <th>c_flux_3992</th>\n",
       "      <th>c_flux_3993</th>\n",
       "      <th>c_flux_3994</th>\n",
       "      <th>c_flux_3995</th>\n",
       "      <th>c_flux_3996</th>\n",
       "      <th>c_flux_3997</th>\n",
       "      <th>c_flux_3998</th>\n",
       "      <th>c_flux_3999</th>\n",
       "      <th>c_flux_4000</th>\n",
       "    </tr>\n",
       "  </thead>\n",
       "  <tbody>\n",
       "    <tr>\n",
       "      <th>5539</th>\n",
       "      <td>KIC 12254909</td>\n",
       "      <td>87.1767</td>\n",
       "      <td>NaN</td>\n",
       "      <td>63255.378906</td>\n",
       "      <td>63257.652344</td>\n",
       "      <td>63256.613281</td>\n",
       "      <td>63253.457031</td>\n",
       "      <td>63237.640625</td>\n",
       "      <td>63258.542969</td>\n",
       "      <td>63227.269531</td>\n",
       "      <td>...</td>\n",
       "      <td>63250.996094</td>\n",
       "      <td>63257.761719</td>\n",
       "      <td>63247.835938</td>\n",
       "      <td>63242.769531</td>\n",
       "      <td>63248.015625</td>\n",
       "      <td>63255.644531</td>\n",
       "      <td>63257.492188</td>\n",
       "      <td>63246.757812</td>\n",
       "      <td>63256.394531</td>\n",
       "      <td>63269.320312</td>\n",
       "    </tr>\n",
       "    <tr>\n",
       "      <th>5540</th>\n",
       "      <td>KIC 12254909</td>\n",
       "      <td>82.7348</td>\n",
       "      <td>NaN</td>\n",
       "      <td>64496.191406</td>\n",
       "      <td>64523.871094</td>\n",
       "      <td>64547.769531</td>\n",
       "      <td>64535.445312</td>\n",
       "      <td>64530.316406</td>\n",
       "      <td>64536.335938</td>\n",
       "      <td>64543.359375</td>\n",
       "      <td>...</td>\n",
       "      <td>64543.347656</td>\n",
       "      <td>64527.554688</td>\n",
       "      <td>64546.824219</td>\n",
       "      <td>64526.988281</td>\n",
       "      <td>64534.796875</td>\n",
       "      <td>64529.234375</td>\n",
       "      <td>64538.226562</td>\n",
       "      <td>64541.921875</td>\n",
       "      <td>64554.035156</td>\n",
       "      <td>64544.078125</td>\n",
       "    </tr>\n",
       "    <tr>\n",
       "      <th>5541</th>\n",
       "      <td>KIC 12254909</td>\n",
       "      <td>82.2996</td>\n",
       "      <td>NaN</td>\n",
       "      <td>65214.257812</td>\n",
       "      <td>65212.687500</td>\n",
       "      <td>65196.605469</td>\n",
       "      <td>65208.125000</td>\n",
       "      <td>65210.011719</td>\n",
       "      <td>65210.316406</td>\n",
       "      <td>65210.062500</td>\n",
       "      <td>...</td>\n",
       "      <td>65225.414062</td>\n",
       "      <td>65205.414062</td>\n",
       "      <td>65248.800781</td>\n",
       "      <td>65213.429688</td>\n",
       "      <td>65219.933594</td>\n",
       "      <td>65212.007812</td>\n",
       "      <td>65189.375000</td>\n",
       "      <td>65219.539062</td>\n",
       "      <td>65217.109375</td>\n",
       "      <td>65215.449219</td>\n",
       "    </tr>\n",
       "    <tr>\n",
       "      <th>5542</th>\n",
       "      <td>KIC 12254909</td>\n",
       "      <td>89.6976</td>\n",
       "      <td>NaN</td>\n",
       "      <td>62412.324219</td>\n",
       "      <td>62415.324219</td>\n",
       "      <td>62406.960938</td>\n",
       "      <td>62418.777344</td>\n",
       "      <td>62413.421875</td>\n",
       "      <td>62402.933594</td>\n",
       "      <td>62396.136719</td>\n",
       "      <td>...</td>\n",
       "      <td>62410.253906</td>\n",
       "      <td>62405.718750</td>\n",
       "      <td>62409.714844</td>\n",
       "      <td>62435.546875</td>\n",
       "      <td>62415.730469</td>\n",
       "      <td>62413.988281</td>\n",
       "      <td>62419.355469</td>\n",
       "      <td>62431.804688</td>\n",
       "      <td>62427.863281</td>\n",
       "      <td>62435.519531</td>\n",
       "    </tr>\n",
       "    <tr>\n",
       "      <th>5543</th>\n",
       "      <td>KIC 12254909</td>\n",
       "      <td>86.027</td>\n",
       "      <td>NaN</td>\n",
       "      <td>65026.000000</td>\n",
       "      <td>65048.792969</td>\n",
       "      <td>65063.957031</td>\n",
       "      <td>65058.011719</td>\n",
       "      <td>65044.015625</td>\n",
       "      <td>65051.265625</td>\n",
       "      <td>65057.699219</td>\n",
       "      <td>...</td>\n",
       "      <td>65037.945312</td>\n",
       "      <td>65036.355469</td>\n",
       "      <td>65036.500000</td>\n",
       "      <td>65048.902344</td>\n",
       "      <td>65040.390625</td>\n",
       "      <td>65034.003906</td>\n",
       "      <td>65040.039062</td>\n",
       "      <td>65036.718750</td>\n",
       "      <td>65033.417969</td>\n",
       "      <td>65043.886719</td>\n",
       "    </tr>\n",
       "  </tbody>\n",
       "</table>\n",
       "<p>5 rows × 4003 columns</p>\n",
       "</div>"
      ],
      "text/plain": [
       "         star_name exposure c_flux_0      c_flux_1      c_flux_2  \\\n",
       "5539  KIC 12254909  87.1767      NaN  63255.378906  63257.652344   \n",
       "5540  KIC 12254909  82.7348      NaN  64496.191406  64523.871094   \n",
       "5541  KIC 12254909  82.2996      NaN  65214.257812  65212.687500   \n",
       "5542  KIC 12254909  89.6976      NaN  62412.324219  62415.324219   \n",
       "5543  KIC 12254909   86.027      NaN  65026.000000  65048.792969   \n",
       "\n",
       "          c_flux_3      c_flux_4      c_flux_5      c_flux_6      c_flux_7  \\\n",
       "5539  63256.613281  63253.457031  63237.640625  63258.542969  63227.269531   \n",
       "5540  64547.769531  64535.445312  64530.316406  64536.335938  64543.359375   \n",
       "5541  65196.605469  65208.125000  65210.011719  65210.316406  65210.062500   \n",
       "5542  62406.960938  62418.777344  62413.421875  62402.933594  62396.136719   \n",
       "5543  65063.957031  65058.011719  65044.015625  65051.265625  65057.699219   \n",
       "\n",
       "          ...        c_flux_3991   c_flux_3992   c_flux_3993   c_flux_3994  \\\n",
       "5539      ...       63250.996094  63257.761719  63247.835938  63242.769531   \n",
       "5540      ...       64543.347656  64527.554688  64546.824219  64526.988281   \n",
       "5541      ...       65225.414062  65205.414062  65248.800781  65213.429688   \n",
       "5542      ...       62410.253906  62405.718750  62409.714844  62435.546875   \n",
       "5543      ...       65037.945312  65036.355469  65036.500000  65048.902344   \n",
       "\n",
       "       c_flux_3995   c_flux_3996   c_flux_3997   c_flux_3998   c_flux_3999  \\\n",
       "5539  63248.015625  63255.644531  63257.492188  63246.757812  63256.394531   \n",
       "5540  64534.796875  64529.234375  64538.226562  64541.921875  64554.035156   \n",
       "5541  65219.933594  65212.007812  65189.375000  65219.539062  65217.109375   \n",
       "5542  62415.730469  62413.988281  62419.355469  62431.804688  62427.863281   \n",
       "5543  65040.390625  65034.003906  65040.039062  65036.718750  65033.417969   \n",
       "\n",
       "       c_flux_4000  \n",
       "5539  63269.320312  \n",
       "5540  64544.078125  \n",
       "5541  65215.449219  \n",
       "5542  62435.519531  \n",
       "5543  65043.886719  \n",
       "\n",
       "[5 rows x 4003 columns]"
      ]
     },
     "execution_count": 4,
     "metadata": {},
     "output_type": "execute_result"
    }
   ],
   "source": [
    "df.tail()"
   ]
  },
  {
   "cell_type": "markdown",
   "metadata": {},
   "source": [
    "### Save a Backup File.\n",
    "Just in case..."
   ]
  },
  {
   "cell_type": "code",
   "execution_count": 5,
   "metadata": {},
   "outputs": [],
   "source": [
    "df.to_csv(('../' + save_name + '_backup.csv'), index=False)"
   ]
  },
  {
   "cell_type": "markdown",
   "metadata": {},
   "source": [
    "Check to see that the file can be read:"
   ]
  },
  {
   "cell_type": "code",
   "execution_count": 6,
   "metadata": {
    "scrolled": true
   },
   "outputs": [],
   "source": [
    "# clean = pd.read_csv('../clean_confirmed_planets_part2.csv')\n",
    "# clean.head()"
   ]
  },
  {
   "cell_type": "markdown",
   "metadata": {},
   "source": [
    "### Great! Everything looks good!"
   ]
  },
  {
   "cell_type": "code",
   "execution_count": 7,
   "metadata": {},
   "outputs": [],
   "source": [
    "# fit_check = fits.open('../raw_space_data/confirmed_planets/' + 'kplr010010440-2013098041711_llc.fits')\n"
   ]
  },
  {
   "cell_type": "code",
   "execution_count": 8,
   "metadata": {},
   "outputs": [],
   "source": [
    "# data_check = fit_check[1].data\n",
    "# fit_check[1].header"
   ]
  },
  {
   "cell_type": "code",
   "execution_count": 9,
   "metadata": {},
   "outputs": [],
   "source": [
    "# data_check"
   ]
  },
  {
   "cell_type": "code",
   "execution_count": 10,
   "metadata": {},
   "outputs": [],
   "source": [
    "# checking = []\n",
    "# for i in range(len(data_check)):\n",
    "#     checking.append(data_check[i][7])"
   ]
  },
  {
   "cell_type": "code",
   "execution_count": 11,
   "metadata": {},
   "outputs": [],
   "source": [
    "# plt.scatter(range(len(data_check)),checking)\n",
    "# # plt.ylim(33500, 33600)"
   ]
  },
  {
   "cell_type": "code",
   "execution_count": 12,
   "metadata": {},
   "outputs": [],
   "source": [
    "# import matplotlib.pyplot as plt\n",
    "\n",
    "# %matplotlib inline"
   ]
  },
  {
   "cell_type": "code",
   "execution_count": 13,
   "metadata": {},
   "outputs": [],
   "source": [
    "# checking"
   ]
  },
  {
   "cell_type": "code",
   "execution_count": null,
   "metadata": {},
   "outputs": [],
   "source": []
  }
 ],
 "metadata": {
  "kernelspec": {
   "display_name": "Python 3",
   "language": "python",
   "name": "python3"
  },
  "language_info": {
   "codemirror_mode": {
    "name": "ipython",
    "version": 3
   },
   "file_extension": ".py",
   "mimetype": "text/x-python",
   "name": "python",
   "nbconvert_exporter": "python",
   "pygments_lexer": "ipython3",
   "version": "3.6.6"
  }
 },
 "nbformat": 4,
 "nbformat_minor": 2
}
