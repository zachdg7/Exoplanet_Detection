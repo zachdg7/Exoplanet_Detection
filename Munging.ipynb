{
 "cells": [
  {
   "cell_type": "markdown",
   "metadata": {},
   "source": [
    "# Goals in this Notebook:\n",
    "Make new files where the data is formatted similarly and limited to the same amount of time."
   ]
  },
  {
   "cell_type": "markdown",
   "metadata": {},
   "source": [
    "### Imports:"
   ]
  },
  {
   "cell_type": "code",
   "execution_count": null,
   "metadata": {},
   "outputs": [],
   "source": [
    "import pandas as pd\n",
    "import matplotlib.pyplot as plt\n",
    "import time\n",
    "import numpy as np\n",
    "import random\n",
    "\n",
    "%matplotlib inline"
   ]
  },
  {
   "cell_type": "markdown",
   "metadata": {},
   "source": [
    "### Read in the Files:"
   ]
  },
  {
   "cell_type": "code",
   "execution_count": null,
   "metadata": {},
   "outputs": [],
   "source": [
    "k2c1 = pd.read_csv('../clean_planet_data/clean_k2c1_done')"
   ]
  },
  {
   "cell_type": "code",
   "execution_count": null,
   "metadata": {},
   "outputs": [],
   "source": [
    "c_planets = pd.read_csv('../clean_planet_data/extracted_planets_1_again.csv')"
   ]
  },
  {
   "cell_type": "code",
   "execution_count": null,
   "metadata": {},
   "outputs": [],
   "source": [
    "c_planets_2 = pd.read_csv('../clean_planet_data/extracted_confirmed_planets_2_again.csv')"
   ]
  },
  {
   "cell_type": "code",
   "execution_count": null,
   "metadata": {},
   "outputs": [],
   "source": [
    "kepc3 = pd.read_csv('../clean_planet_data/kepler_exo_train.csv')"
   ]
  },
  {
   "cell_type": "code",
   "execution_count": null,
   "metadata": {},
   "outputs": [],
   "source": [
    "c4_kep = pd.read_csv('../clean_planet_data/extracted_kep_c4_7700_backup.csv')"
   ]
  },
  {
   "cell_type": "markdown",
   "metadata": {},
   "source": [
    "### Start Munging:"
   ]
  },
  {
   "cell_type": "code",
   "execution_count": null,
   "metadata": {},
   "outputs": [],
   "source": [
    "cols = kepc3.columns\n",
    "cols = cols.insert(0,'star_name')\n",
    "cols"
   ]
  },
  {
   "cell_type": "code",
   "execution_count": null,
   "metadata": {
    "scrolled": true
   },
   "outputs": [],
   "source": [
    "kepc3['star_name'] = 'N/A'\n",
    "kepc3 = kepc3[cols]"
   ]
  },
  {
   "cell_type": "code",
   "execution_count": null,
   "metadata": {},
   "outputs": [],
   "source": [
    "kepc3['LABEL'] = kepc3['LABEL'] - 1\n",
    "kepc3.head()"
   ]
  },
  {
   "cell_type": "markdown",
   "metadata": {},
   "source": [
    "### Slice out the First 66 days of Observations:\n",
    "That way there are no nulls and we can compare all the light curves from all datasets"
   ]
  },
  {
   "cell_type": "code",
   "execution_count": null,
   "metadata": {},
   "outputs": [],
   "source": [
    "# max row length should be the number of columns in the kepc3 df\n",
    "kepc3.shape"
   ]
  },
  {
   "cell_type": "markdown",
   "metadata": {},
   "source": [
    "### Check for Nulls:"
   ]
  },
  {
   "cell_type": "code",
   "execution_count": null,
   "metadata": {
    "scrolled": true
   },
   "outputs": [],
   "source": [
    "c_planets_2.isnull().sum().sum()"
   ]
  },
  {
   "cell_type": "code",
   "execution_count": null,
   "metadata": {
    "scrolled": true
   },
   "outputs": [],
   "source": [
    "clean_cut_k2c1.isnull().sum().sum()"
   ]
  },
  {
   "cell_type": "code",
   "execution_count": null,
   "metadata": {},
   "outputs": [],
   "source": [
    "kepc3.isnull().sum().sum()"
   ]
  },
  {
   "cell_type": "code",
   "execution_count": null,
   "metadata": {},
   "outputs": [],
   "source": [
    "c4_kep.isnull().sum().sum()"
   ]
  },
  {
   "cell_type": "code",
   "execution_count": null,
   "metadata": {},
   "outputs": [],
   "source": [
    "c4_kep.head()"
   ]
  },
  {
   "cell_type": "markdown",
   "metadata": {},
   "source": [
    "### Check for Duplicate Entries of Each Star:\n",
    "If the value is greater than 1, there are duplicates.\n",
    "\n",
    "The kepc3 dataframe shouldn't have duplicates, so no need to check."
   ]
  },
  {
   "cell_type": "code",
   "execution_count": null,
   "metadata": {},
   "outputs": [],
   "source": [
    "clean_cut_planets['star_name'].value_counts().max()"
   ]
  },
  {
   "cell_type": "code",
   "execution_count": null,
   "metadata": {},
   "outputs": [],
   "source": [
    "clean_cut_k2c1['star_name'].value_counts().max()"
   ]
  },
  {
   "cell_type": "markdown",
   "metadata": {},
   "source": [
    "Get rid of the duplicates in the clean_cut_planets dataframe."
   ]
  },
  {
   "cell_type": "code",
   "execution_count": null,
   "metadata": {},
   "outputs": [],
   "source": [
    "least_null_planets = pd.DataFrame(columns = c_planets.columns)\n",
    "\n",
    "# selecting the row with the fewest NANs and add them to the least_null df\n",
    "for df in [c_planets, c_planets_2]:\n",
    "    for star in df['star_name'].unique():\n",
    "        checking = df[df['star_name'] == star]\n",
    "        best = checking[checking.count(axis = 1) == checking.count(axis = 1).max()]\n",
    "        least_null_planets = pd.concat([least_null_planets, best])\n",
    "    \n",
    "least_null_planets.tail()"
   ]
  },
  {
   "cell_type": "code",
   "execution_count": null,
   "metadata": {},
   "outputs": [],
   "source": [
    "least_null_planets.reset_index(drop=True, inplace = True)\n",
    "least_null_planets.head()"
   ]
  },
  {
   "cell_type": "code",
   "execution_count": null,
   "metadata": {},
   "outputs": [],
   "source": [
    "least_null_planets.shape"
   ]
  },
  {
   "cell_type": "markdown",
   "metadata": {},
   "source": [
    "### Making a file that randomly selects different lightcurves from the data:"
   ]
  },
  {
   "cell_type": "code",
   "execution_count": null,
   "metadata": {},
   "outputs": [],
   "source": [
    "randomized_planets = pd.DataFrame(columns = c_planets.columns)\n",
    "\n",
    "i = 0\n",
    "\n",
    "# selecting the row with the fewest NANs and add them to the least_null df\n",
    "for df in [c_planets, c_planets_2]:\n",
    "    for star in df['star_name'].unique():\n",
    "        i += 1\n",
    "        if i % 100 == 0:\n",
    "            print(i)\n",
    "\n",
    "        checking = df[df['star_name'] == star]\n",
    "        rand_select = random.randint(checking.index.min(), checking.index.max() + 1)\n",
    "#         print(checking.index.max())\n",
    "        rand = checking[checking.index == rand_select]\n",
    "        randomized_planets = pd.concat([randomized_planets, rand])\n",
    "    "
   ]
  },
  {
   "cell_type": "code",
   "execution_count": null,
   "metadata": {},
   "outputs": [],
   "source": [
    "randomized_planets.head()"
   ]
  },
  {
   "cell_type": "code",
   "execution_count": null,
   "metadata": {},
   "outputs": [],
   "source": [
    "randomized_planets.reset_index(drop = True, inplace = True)"
   ]
  },
  {
   "cell_type": "markdown",
   "metadata": {},
   "source": [
    "### Make sure it worked:"
   ]
  },
  {
   "cell_type": "markdown",
   "metadata": {},
   "source": [
    "Is there only one row per star?"
   ]
  },
  {
   "cell_type": "code",
   "execution_count": null,
   "metadata": {
    "scrolled": false
   },
   "outputs": [],
   "source": [
    "least_null_planets['star_name'].value_counts().max()"
   ]
  },
  {
   "cell_type": "markdown",
   "metadata": {},
   "source": [
    "How many nulls are there?"
   ]
  },
  {
   "cell_type": "code",
   "execution_count": null,
   "metadata": {},
   "outputs": [],
   "source": [
    "least_null_planets.isnull().sum(axis=0) #.value_counts()"
   ]
  },
  {
   "cell_type": "markdown",
   "metadata": {},
   "source": [
    "### Dealing with Nulls:"
   ]
  },
  {
   "cell_type": "code",
   "execution_count": null,
   "metadata": {},
   "outputs": [],
   "source": [
    "has_planets = pd.read_csv('../clean_planet_data/least_null_planets_1_and_2.csv')\n",
    "has_planets.head()"
   ]
  },
  {
   "cell_type": "code",
   "execution_count": null,
   "metadata": {},
   "outputs": [],
   "source": [
    "# checking out which rows have the most nulls\n",
    "counting = has_planets.isnull().sum(axis = 1)\n",
    "counting.sort_values(ascending = False)"
   ]
  },
  {
   "cell_type": "code",
   "execution_count": null,
   "metadata": {},
   "outputs": [],
   "source": [
    "has_planets = randomized_planets"
   ]
  },
  {
   "cell_type": "code",
   "execution_count": null,
   "metadata": {},
   "outputs": [],
   "source": [
    "# trying to fill one off missing values with mean imputation of the nearest two values\n",
    "\n",
    "is_null = c4_kep.isnull()\n",
    "\n",
    "for i in range(c4_kep.shape[0]):\n",
    "    if i % 50 == 0:\n",
    "        print(i)\n",
    "    for j in range(c4_kep.shape[1]-1):\n",
    "        if is_null.iloc[i, j] == True:\n",
    "            if j > 2: # skip the first two columns\n",
    "                if not ((is_null.iloc[i, j-1] == True) | (is_null.iloc[i, j+1] == True)):\n",
    "                    c4_kep.iloc[i, j] = np.mean([c4_kep.iloc[i, j-1], c4_kep.iloc[i, j+1]])"
   ]
  },
  {
   "cell_type": "code",
   "execution_count": null,
   "metadata": {},
   "outputs": [],
   "source": [
    "c4_kep.tail()"
   ]
  },
  {
   "cell_type": "code",
   "execution_count": null,
   "metadata": {},
   "outputs": [],
   "source": [
    "counting2 = has_planets[0:3200].isnull().sum(axis = 1)\n",
    "counting2[0:3200].sort_values(ascending = False)[0:50]"
   ]
  },
  {
   "cell_type": "code",
   "execution_count": null,
   "metadata": {},
   "outputs": [],
   "source": [
    "# count numbers of consecuative nans\n",
    "\n",
    "is_null = has_planets.isnull()\n",
    "\n",
    "for i in range(has_planets.shape[0]):\n",
    "    counter = 0\n",
    "    for j in range(has_planets.shape[1]):\n",
    "        if j > 2:\n",
    "            if is_null.iloc[i, j] == True:\n",
    "                if is_null.iloc[i, j-1] == True:\n",
    "                    counter +=1\n",
    "                    print(counter)\n",
    "                else:\n",
    "                    counter = 0\n",
    "#     print(counter)"
   ]
  },
  {
   "cell_type": "code",
   "execution_count": null,
   "metadata": {},
   "outputs": [],
   "source": [
    "has_planets.shape"
   ]
  },
  {
   "cell_type": "code",
   "execution_count": null,
   "metadata": {},
   "outputs": [],
   "source": [
    "# Shifting values to fill nulls\n",
    "#     the column names will no longer be relevent\n",
    "is_null = c4_kep.isnull()\n",
    "df_squished = pd.DataFrame()\n",
    "\n",
    "for i in range(c4_kep.shape[0]):\n",
    "    if i % 50 == 0:\n",
    "        print(i)\n",
    "    \n",
    "    k = 0 # reset the df_squished column index to 0 for each new row\n",
    "    for j in range(c4_kep.shape[1]):\n",
    "        if is_null.iloc[i, j] == False: # if this cell is not null\n",
    "            df_squished.loc[i, k] = c4_kep.iloc[i, j]\n",
    "            k += 1\n",
    "#     if i > 5:\n",
    "#         break\n",
    "df_squished.tail()"
   ]
  },
  {
   "cell_type": "code",
   "execution_count": null,
   "metadata": {
    "scrolled": true
   },
   "outputs": [],
   "source": [
    "df_squished.isnull().sum(axis = 1)"
   ]
  },
  {
   "cell_type": "markdown",
   "metadata": {},
   "source": [
    "### Save to a New File:"
   ]
  },
  {
   "cell_type": "code",
   "execution_count": null,
   "metadata": {},
   "outputs": [],
   "source": [
    "# df_squished.to_csv('../clean_planet_data/clean_kep_c4.csv', index=False)"
   ]
  },
  {
   "cell_type": "code",
   "execution_count": null,
   "metadata": {},
   "outputs": [],
   "source": [
    "# least_null_planets.to_csv('../clean_planet_data/least_null_planets_1_and_2.csv', index=False)"
   ]
  },
  {
   "cell_type": "code",
   "execution_count": null,
   "metadata": {},
   "outputs": [],
   "source": [
    "# clean_cut_k2c1.to_csv('../clean_planet_data/clean_cut_k2c1.csv', index=False)"
   ]
  },
  {
   "cell_type": "code",
   "execution_count": null,
   "metadata": {},
   "outputs": [],
   "source": [
    "# kepc3.to_csv('../clean_planet_data/clean_cut_kepc3.csv', index=False)"
   ]
  },
  {
   "cell_type": "markdown",
   "metadata": {},
   "source": [
    "### Done!"
   ]
  },
  {
   "cell_type": "code",
   "execution_count": null,
   "metadata": {
    "scrolled": true
   },
   "outputs": [],
   "source": [
    "plt.scatter(list(range(len(c4_kep.iloc[1000,3:3199]))), list(c4_kep.iloc[1000,3:3199]))\n",
    "# plt.ylim(19060, 19120)"
   ]
  }
 ],
 "metadata": {
  "kernelspec": {
   "display_name": "Python 3",
   "language": "python",
   "name": "python3"
  },
  "language_info": {
   "codemirror_mode": {
    "name": "ipython",
    "version": 3
   },
   "file_extension": ".py",
   "mimetype": "text/x-python",
   "name": "python",
   "nbconvert_exporter": "python",
   "pygments_lexer": "ipython3",
   "version": "3.6.6"
  }
 },
 "nbformat": 4,
 "nbformat_minor": 2
}
