{
 "cells": [
  {
   "cell_type": "markdown",
   "metadata": {},
   "source": [
    "### Imports:"
   ]
  },
  {
   "cell_type": "code",
   "execution_count": 1,
   "metadata": {},
   "outputs": [],
   "source": [
    "import pandas as pd\n",
    "import os\n",
    "import time\n",
    "from astropy.io import fits"
   ]
  },
  {
   "cell_type": "markdown",
   "metadata": {},
   "source": [
    "### Extractioning the Light Curve:\n",
    "The light curve data in the .fit files is contained in a list of tuples along with other measurements. <br>\n",
    "Each tuple is an observation point for a specific time, the observations are taken 30min apart. <br>\n",
    "We want the 3rd value in each tuple, which corresponds to the corrected flux levels recorded by the instruments in the spacecraft in electrons per second. <br>\n",
    "#### This loop extracts this data from each .fit file, compiles it into a dataframe, and saves the dataframe as .csv file."
   ]
  },
  {
   "cell_type": "code",
   "execution_count": 2,
   "metadata": {},
   "outputs": [],
   "source": [
    "### If extracting from confirmed_planets you must set to item[7] when iterating through items in the .fit data\n",
    "#     item[2] for k2c1\n",
    "directory = '../raw_space_data/Kepler_Q4/'\n",
    "save_name = 'extracted_kep_c4'"
   ]
  },
  {
   "cell_type": "code",
   "execution_count": 3,
   "metadata": {},
   "outputs": [
    {
     "name": "stdout",
     "output_type": "stream",
     "text": [
      "Rows saved:  0   0.35  min runtime.\n",
      "DONE!!!!! Runtime:  0.894  minutes\n"
     ]
    }
   ],
   "source": [
    "start_time = time.time()\n",
    "\n",
    "# The following lines will prepare things to be run through the loop\n",
    "col_names = ['star_name', 'exposure']\n",
    "df = pd.DataFrame(columns = [col_names])\n",
    "i = 0\n",
    "\n",
    "for filename in os.listdir(directory): # Loop through every .fit file in the directory\n",
    "    if i > 5:\n",
    "        break\n",
    "    if filename.endswith(\".fits\"):\n",
    "   \n",
    "        fit_data = fits.open(directory + filename)\n",
    "        if fit_data[1].header['EXPOSURE'] < 65: # if the exposure is less than 65 days, skip this file\n",
    "            continue\n",
    "        df.loc[i, 'star_name'] = fit_data[1].header['OBJECT']    # Extract the star's name\n",
    "        df.loc[i, 'exposure'] = fit_data[1].header['EXPOSURE']   # Extract the amount of time Kepler was recording the target\n",
    "        \n",
    "        j = 0 \n",
    "        for item in fit_data[1].data:     # iterate through the items in the .fit data \n",
    "            col_name = 'c_flux_' + str(j) # create the column label\n",
    "            df.loc[i, col_name] = item[7] # item[7] for confirmed planets, item[2] for k2c1, extract the corrected flux levels for each item and put it all in a row\n",
    "            \n",
    "            j += 1\n",
    "#             if j > 4000: # We won't be needing more columns than this for this project\n",
    "#                 break\n",
    "        \n",
    "        if i % 100 == 0: # save the progress and print out some feedback every 100 files\n",
    "            df.to_csv(('../' + save_name + '.csv'), index=False)\n",
    "            print('Rows saved: ', i, ' ', round((time.time() - start_time)/60, 2), ' min runtime.')\n",
    "        \n",
    "        i += 1\n",
    "\n",
    "# Done!\n",
    "df.to_csv(('../' + save_name + '.csv'), index=False)\n",
    "print('DONE!!!!!', 'Runtime: ', round((time.time() - start_time)/60, 3), ' minutes')"
   ]
  },
  {
   "cell_type": "markdown",
   "metadata": {},
   "source": [
    "### Check the Dataframe to be Sure Everything Worked:\n",
    "There should be some null values at the end of most of the rows because not all the light curves are the same length."
   ]
  },
  {
   "cell_type": "code",
   "execution_count": 4,
   "metadata": {
    "scrolled": true
   },
   "outputs": [
    {
     "data": {
      "text/html": [
       "<div>\n",
       "<style scoped>\n",
       "    .dataframe tbody tr th:only-of-type {\n",
       "        vertical-align: middle;\n",
       "    }\n",
       "\n",
       "    .dataframe tbody tr th {\n",
       "        vertical-align: top;\n",
       "    }\n",
       "\n",
       "    .dataframe thead tr th {\n",
       "        text-align: left;\n",
       "    }\n",
       "</style>\n",
       "<table border=\"1\" class=\"dataframe\">\n",
       "  <thead>\n",
       "    <tr>\n",
       "      <th></th>\n",
       "      <th>star_name</th>\n",
       "      <th>exposure</th>\n",
       "      <th>c_flux_0</th>\n",
       "      <th>c_flux_1</th>\n",
       "      <th>c_flux_2</th>\n",
       "      <th>c_flux_3</th>\n",
       "      <th>c_flux_4</th>\n",
       "      <th>c_flux_5</th>\n",
       "      <th>c_flux_6</th>\n",
       "      <th>c_flux_7</th>\n",
       "      <th>...</th>\n",
       "      <th>c_flux_4387</th>\n",
       "      <th>c_flux_4388</th>\n",
       "      <th>c_flux_4389</th>\n",
       "      <th>c_flux_4390</th>\n",
       "      <th>c_flux_4391</th>\n",
       "      <th>c_flux_4392</th>\n",
       "      <th>c_flux_4393</th>\n",
       "      <th>c_flux_4394</th>\n",
       "      <th>c_flux_4395</th>\n",
       "      <th>c_flux_4396</th>\n",
       "    </tr>\n",
       "  </thead>\n",
       "  <tbody>\n",
       "    <tr>\n",
       "      <th>1</th>\n",
       "      <td>KIC 1025578</td>\n",
       "      <td>82.7162</td>\n",
       "      <td>NaN</td>\n",
       "      <td>1.292338e+04</td>\n",
       "      <td>NaN</td>\n",
       "      <td>1.291726e+04</td>\n",
       "      <td>1.291329e+04</td>\n",
       "      <td>1.292188e+04</td>\n",
       "      <td>1.292211e+04</td>\n",
       "      <td>1.291157e+04</td>\n",
       "      <td>...</td>\n",
       "      <td>1.291279e+04</td>\n",
       "      <td>1.291749e+04</td>\n",
       "      <td>1.292433e+04</td>\n",
       "      <td>1.292121e+04</td>\n",
       "      <td>1.291119e+04</td>\n",
       "      <td>1.291699e+04</td>\n",
       "      <td>1.291756e+04</td>\n",
       "      <td>1.293214e+04</td>\n",
       "      <td>1.293186e+04</td>\n",
       "      <td>1.290860e+04</td>\n",
       "    </tr>\n",
       "    <tr>\n",
       "      <th>2</th>\n",
       "      <td>KIC 1025986</td>\n",
       "      <td>82.7162</td>\n",
       "      <td>NaN</td>\n",
       "      <td>1.276864e+06</td>\n",
       "      <td>NaN</td>\n",
       "      <td>1.277233e+06</td>\n",
       "      <td>1.277410e+06</td>\n",
       "      <td>1.277653e+06</td>\n",
       "      <td>1.277849e+06</td>\n",
       "      <td>1.278068e+06</td>\n",
       "      <td>...</td>\n",
       "      <td>1.272619e+06</td>\n",
       "      <td>1.273011e+06</td>\n",
       "      <td>1.273417e+06</td>\n",
       "      <td>1.273826e+06</td>\n",
       "      <td>1.274113e+06</td>\n",
       "      <td>1.274493e+06</td>\n",
       "      <td>1.274748e+06</td>\n",
       "      <td>1.275238e+06</td>\n",
       "      <td>1.275759e+06</td>\n",
       "      <td>1.276052e+06</td>\n",
       "    </tr>\n",
       "    <tr>\n",
       "      <th>3</th>\n",
       "      <td>KIC 1026032</td>\n",
       "      <td>82.7162</td>\n",
       "      <td>NaN</td>\n",
       "      <td>1.743618e+04</td>\n",
       "      <td>NaN</td>\n",
       "      <td>1.742921e+04</td>\n",
       "      <td>1.743379e+04</td>\n",
       "      <td>1.743004e+04</td>\n",
       "      <td>1.743159e+04</td>\n",
       "      <td>1.742726e+04</td>\n",
       "      <td>...</td>\n",
       "      <td>1.739245e+04</td>\n",
       "      <td>1.739575e+04</td>\n",
       "      <td>1.739241e+04</td>\n",
       "      <td>1.740589e+04</td>\n",
       "      <td>1.739701e+04</td>\n",
       "      <td>1.738893e+04</td>\n",
       "      <td>1.740034e+04</td>\n",
       "      <td>1.739358e+04</td>\n",
       "      <td>1.738954e+04</td>\n",
       "      <td>1.738559e+04</td>\n",
       "    </tr>\n",
       "    <tr>\n",
       "      <th>4</th>\n",
       "      <td>KIC 1026133</td>\n",
       "      <td>82.7162</td>\n",
       "      <td>NaN</td>\n",
       "      <td>8.089427e+04</td>\n",
       "      <td>NaN</td>\n",
       "      <td>8.090219e+04</td>\n",
       "      <td>8.091389e+04</td>\n",
       "      <td>8.088692e+04</td>\n",
       "      <td>8.089593e+04</td>\n",
       "      <td>8.087595e+04</td>\n",
       "      <td>...</td>\n",
       "      <td>8.090645e+04</td>\n",
       "      <td>8.092413e+04</td>\n",
       "      <td>8.089960e+04</td>\n",
       "      <td>8.091161e+04</td>\n",
       "      <td>8.090157e+04</td>\n",
       "      <td>8.090039e+04</td>\n",
       "      <td>8.092984e+04</td>\n",
       "      <td>8.091438e+04</td>\n",
       "      <td>8.091408e+04</td>\n",
       "      <td>8.090827e+04</td>\n",
       "    </tr>\n",
       "    <tr>\n",
       "      <th>5</th>\n",
       "      <td>KIC 1026146</td>\n",
       "      <td>82.7162</td>\n",
       "      <td>NaN</td>\n",
       "      <td>9.983284e+03</td>\n",
       "      <td>NaN</td>\n",
       "      <td>9.976462e+03</td>\n",
       "      <td>9.980352e+03</td>\n",
       "      <td>9.977871e+03</td>\n",
       "      <td>9.981020e+03</td>\n",
       "      <td>9.990381e+03</td>\n",
       "      <td>...</td>\n",
       "      <td>9.926255e+03</td>\n",
       "      <td>9.916909e+03</td>\n",
       "      <td>9.925319e+03</td>\n",
       "      <td>9.919255e+03</td>\n",
       "      <td>9.934387e+03</td>\n",
       "      <td>9.915708e+03</td>\n",
       "      <td>9.920430e+03</td>\n",
       "      <td>9.932345e+03</td>\n",
       "      <td>9.912523e+03</td>\n",
       "      <td>9.926744e+03</td>\n",
       "    </tr>\n",
       "  </tbody>\n",
       "</table>\n",
       "<p>5 rows × 4399 columns</p>\n",
       "</div>"
      ],
      "text/plain": [
       "     star_name exposure c_flux_0      c_flux_1 c_flux_2      c_flux_3  \\\n",
       "1  KIC 1025578  82.7162      NaN  1.292338e+04      NaN  1.291726e+04   \n",
       "2  KIC 1025986  82.7162      NaN  1.276864e+06      NaN  1.277233e+06   \n",
       "3  KIC 1026032  82.7162      NaN  1.743618e+04      NaN  1.742921e+04   \n",
       "4  KIC 1026133  82.7162      NaN  8.089427e+04      NaN  8.090219e+04   \n",
       "5  KIC 1026146  82.7162      NaN  9.983284e+03      NaN  9.976462e+03   \n",
       "\n",
       "       c_flux_4      c_flux_5      c_flux_6      c_flux_7      ...       \\\n",
       "1  1.291329e+04  1.292188e+04  1.292211e+04  1.291157e+04      ...        \n",
       "2  1.277410e+06  1.277653e+06  1.277849e+06  1.278068e+06      ...        \n",
       "3  1.743379e+04  1.743004e+04  1.743159e+04  1.742726e+04      ...        \n",
       "4  8.091389e+04  8.088692e+04  8.089593e+04  8.087595e+04      ...        \n",
       "5  9.980352e+03  9.977871e+03  9.981020e+03  9.990381e+03      ...        \n",
       "\n",
       "    c_flux_4387   c_flux_4388   c_flux_4389   c_flux_4390   c_flux_4391  \\\n",
       "1  1.291279e+04  1.291749e+04  1.292433e+04  1.292121e+04  1.291119e+04   \n",
       "2  1.272619e+06  1.273011e+06  1.273417e+06  1.273826e+06  1.274113e+06   \n",
       "3  1.739245e+04  1.739575e+04  1.739241e+04  1.740589e+04  1.739701e+04   \n",
       "4  8.090645e+04  8.092413e+04  8.089960e+04  8.091161e+04  8.090157e+04   \n",
       "5  9.926255e+03  9.916909e+03  9.925319e+03  9.919255e+03  9.934387e+03   \n",
       "\n",
       "    c_flux_4392   c_flux_4393   c_flux_4394   c_flux_4395   c_flux_4396  \n",
       "1  1.291699e+04  1.291756e+04  1.293214e+04  1.293186e+04  1.290860e+04  \n",
       "2  1.274493e+06  1.274748e+06  1.275238e+06  1.275759e+06  1.276052e+06  \n",
       "3  1.738893e+04  1.740034e+04  1.739358e+04  1.738954e+04  1.738559e+04  \n",
       "4  8.090039e+04  8.092984e+04  8.091438e+04  8.091408e+04  8.090827e+04  \n",
       "5  9.915708e+03  9.920430e+03  9.932345e+03  9.912523e+03  9.926744e+03  \n",
       "\n",
       "[5 rows x 4399 columns]"
      ]
     },
     "execution_count": 4,
     "metadata": {},
     "output_type": "execute_result"
    }
   ],
   "source": [
    "df.tail()"
   ]
  },
  {
   "cell_type": "markdown",
   "metadata": {},
   "source": [
    "### Save a Backup File.\n",
    "Just in case..."
   ]
  },
  {
   "cell_type": "code",
   "execution_count": 5,
   "metadata": {},
   "outputs": [],
   "source": [
    "# df.to_csv(('../' + save_name + '_backup.csv'), index=False)"
   ]
  },
  {
   "cell_type": "markdown",
   "metadata": {},
   "source": [
    "Check to see that the file can be read:"
   ]
  },
  {
   "cell_type": "code",
   "execution_count": 6,
   "metadata": {
    "scrolled": true
   },
   "outputs": [],
   "source": [
    "# clean = pd.read_csv('../clean_confirmed_planets_part2.csv')\n",
    "# clean.head()"
   ]
  },
  {
   "cell_type": "markdown",
   "metadata": {},
   "source": [
    "### Great! Everything looks good!"
   ]
  },
  {
   "cell_type": "code",
   "execution_count": 22,
   "metadata": {},
   "outputs": [],
   "source": [
    "fit_check = fits.open(directory + 'kplr010000056-2010078095331_llc.fits')\n"
   ]
  },
  {
   "cell_type": "code",
   "execution_count": 23,
   "metadata": {},
   "outputs": [
    {
     "data": {
      "text/plain": [
       "XTENSION= 'BINTABLE'           / marks the beginning of a new HDU               \n",
       "BITPIX  =                    8 / array data type                                \n",
       "NAXIS   =                    2 / number of array dimensions                     \n",
       "NAXIS1  =                  100 / length of first array dimension                \n",
       "NAXIS2  =                 4397 / length of second array dimension               \n",
       "PCOUNT  =                    0 / group parameter count (not used)               \n",
       "GCOUNT  =                    1 / group count (not used)                         \n",
       "TFIELDS =                   20 / number of table fields                         \n",
       "TTYPE1  = 'TIME    '           / column title: data time stamps                 \n",
       "TFORM1  = 'D       '           / column format: 64-bit floating point           \n",
       "TUNIT1  = 'BJD - 2454833'      / column units: barycenter corrected JD          \n",
       "TDISP1  = 'D14.7   '           / column display format                          \n",
       "TTYPE2  = 'TIMECORR'           / column title: barycenter - timeslice correction\n",
       "TFORM2  = 'E       '           / column format: 32-bit floating point           \n",
       "TUNIT2  = 'd       '           / column units: day                              \n",
       "TDISP2  = 'E13.6   '           / column display format                          \n",
       "TTYPE3  = 'CADENCENO'          / column title: unique cadence number            \n",
       "TFORM3  = 'J       '           / column format: signed 32-bit integer           \n",
       "TDISP3  = 'I10     '           / column display format                          \n",
       "TTYPE4  = 'SAP_FLUX'           / column title: aperture photometry flux         \n",
       "TFORM4  = 'E       '           / column format: 32-bit floating point           \n",
       "TUNIT4  = 'e-/s    '           / column units: electrons per second             \n",
       "TDISP4  = 'E14.7   '           / column display format                          \n",
       "TTYPE5  = 'SAP_FLUX_ERR'       / column title: aperture phot. flux error        \n",
       "TFORM5  = 'E       '           / column format: 32-bit floating point           \n",
       "TUNIT5  = 'e-/s    '           / column units: electrons per second (1-sigma)   \n",
       "TDISP5  = 'E14.7   '           / column display format                          \n",
       "TTYPE6  = 'SAP_BKG '           / column title: aperture phot. background flux   \n",
       "TFORM6  = 'E       '           / column format: 32-bit floating point           \n",
       "TUNIT6  = 'e-/s    '           / column units: electrons per second             \n",
       "TDISP6  = 'E14.7   '           / column display format                          \n",
       "TTYPE7  = 'SAP_BKG_ERR'        / column title: ap. phot. background flux error  \n",
       "TFORM7  = 'E       '           / column format: 32-bit floating point           \n",
       "TUNIT7  = 'e-/s    '           / column units: electrons per second (1-sigma)   \n",
       "TDISP7  = 'E14.7   '           / column display format                          \n",
       "TTYPE8  = 'PDCSAP_FLUX'        / column title: aperture phot. PDC flux          \n",
       "TFORM8  = 'E       '           / column format: 32-bit floating point           \n",
       "TUNIT8  = 'e-/s    '           / column units: electrons per second             \n",
       "TDISP8  = 'E14.7   '           / column display format                          \n",
       "TTYPE9  = 'PDCSAP_FLUX_ERR'    / column title: ap. phot. PDC flux error         \n",
       "TFORM9  = 'E       '           / column format: 32-bit floating point           \n",
       "TUNIT9  = 'e-/s    '           / column units: electrons per second (1-sigma)   \n",
       "TDISP9  = 'E14.7   '           / column display format                          \n",
       "TTYPE10 = 'SAP_QUALITY'        / column title: aperture photometry quality flag \n",
       "TFORM10 = 'J       '           / column format: signed 32-bit integer           \n",
       "TDISP10 = 'B16.16  '           / column display format                          \n",
       "TTYPE11 = 'PSF_CENTR1'         / column title: PSF-fitted column centroid       \n",
       "TFORM11 = 'D       '           / column format: 64-bit floating point           \n",
       "TUNIT11 = 'pixel   '           / column units: pixel                            \n",
       "TDISP11 = 'F10.5   '           / column display format                          \n",
       "TTYPE12 = 'PSF_CENTR1_ERR'     / column title: PSF-fitted column error          \n",
       "TFORM12 = 'E       '           / column format: 32-bit floating point           \n",
       "TUNIT12 = 'pixel   '           / column units: pixel (1-sigma)                  \n",
       "TDISP12 = 'E14.7   '           / column display format                          \n",
       "TTYPE13 = 'PSF_CENTR2'         / column title: PSF-fitted row centroid          \n",
       "TFORM13 = 'D       '           / column format: 64-bit floating point           \n",
       "TUNIT13 = 'pixel   '           / column units: pixel                            \n",
       "TDISP13 = 'F10.5   '           / column display format                          \n",
       "TTYPE14 = 'PSF_CENTR2_ERR'     / column title: PSF-fitted row error             \n",
       "TFORM14 = 'E       '           / column format: 32-bit floating point           \n",
       "TUNIT14 = 'pixel   '           / column units: pixel (1-sigma)                  \n",
       "TDISP14 = 'E14.7   '           / column display format                          \n",
       "TTYPE15 = 'MOM_CENTR1'         / column title: moment-derived column centroid   \n",
       "TFORM15 = 'D       '           / column format: 64-bit floating point           \n",
       "TUNIT15 = 'pixel   '           / column units: pixel                            \n",
       "TDISP15 = 'F10.5   '           / column display format                          \n",
       "TTYPE16 = 'MOM_CENTR1_ERR'     / column title: moment-derived column error      \n",
       "TFORM16 = 'E       '           / column format: 32-bit floating point           \n",
       "TUNIT16 = 'pixel   '           / column units: pixel (1-sigma)                  \n",
       "TDISP16 = 'E14.7   '           / column display format                          \n",
       "TTYPE17 = 'MOM_CENTR2'         / column title: moment-derived row centroid      \n",
       "TFORM17 = 'D       '           / column format: 64-bit floating point           \n",
       "TUNIT17 = 'pixel   '           / column units: pixel                            \n",
       "TDISP17 = 'F10.5   '           / column display format                          \n",
       "TTYPE18 = 'MOM_CENTR2_ERR'     / column title: moment-derived row error         \n",
       "TFORM18 = 'E       '           / column format: 32-bit floating point           \n",
       "TUNIT18 = 'pixel   '           / column units: pixel (1-sigma)                  \n",
       "TDISP18 = 'E14.7   '           / column display format                          \n",
       "TTYPE19 = 'POS_CORR1'          / column title: column position correction       \n",
       "TFORM19 = 'E       '           / column format: 32-bit floating point           \n",
       "TUNIT19 = 'pixels  '           / column units: pixel                            \n",
       "TDISP19 = 'E14.7   '           / column display format                          \n",
       "TTYPE20 = 'POS_CORR2'          / column title: row position correction          \n",
       "TFORM20 = 'E       '           / column format: 32-bit floating point           \n",
       "TUNIT20 = 'pixels  '           / column units: pixel                            \n",
       "TDISP20 = 'E14.7   '           / column display format                          \n",
       "INHERIT =                    T / inherit the primary header                     \n",
       "EXTNAME = 'LIGHTCURVE'         / name of extension                              \n",
       "EXTVER  =                    1 / extension version number (not format version)  \n",
       "TELESCOP= 'Kepler  '           / telescope                                      \n",
       "INSTRUME= 'Kepler Photometer'  / detector type                                  \n",
       "OBJECT  = 'KIC 10000056'       / string version of target id                    \n",
       "KEPLERID=             10000056 / unique Kepler target identifier                \n",
       "RADESYS = 'ICRS    '           / reference frame of celestial coordinates       \n",
       "RA_OBJ  =           286.281300 / [deg] right ascension                          \n",
       "DEC_OBJ =            46.983740 / [deg] declination                              \n",
       "EQUINOX =               2000.0 / equinox of celestial coordinate system         \n",
       "EXPOSURE=          82.71617848 / [d] time on source                             \n",
       "TIMEREF = 'SOLARSYSTEM'        / barycentric correction applied to times        \n",
       "TASSIGN = 'SPACECRAFT'         / where time is assigned                         \n",
       "TIMESYS = 'TDB     '           / time system is barycentric JD                  \n",
       "BJDREFI =              2454833 / integer part of BJD reference date             \n",
       "BJDREFF =           0.00000000 / fraction of the day in BJD reference date      \n",
       "TIMEUNIT= 'd       '           / time unit for TIME, TSTART and TSTOP           \n",
       "TELAPSE =          89.84688353 / [d] TSTOP - TSTART                             \n",
       "LIVETIME=          82.71617848 / [d] TELAPSE multiplied by DEADC                \n",
       "TSTART  =         352.36662565 / observation start time in BJD-BJDREF           \n",
       "TSTOP   =         442.21350918 / observation stop time in BJD-BJDREF            \n",
       "LC_START=       55184.87773552 / mid point of first cadence in MJD              \n",
       "LC_END  =       55274.70383812 / mid point of last cadence in MJD               \n",
       "DEADC   =           0.92063492 / deadtime correction                            \n",
       "TIMEPIXR=                  0.5 / bin time beginning=0 middle=0.5 end=1          \n",
       "TIERRELA=             5.78E-07 / [d] relative time error                        \n",
       "TIERABSO=                      / [d] absolute time error                        \n",
       "INT_TIME=       6.019802903270 / [s] photon accumulation time per frame         \n",
       "READTIME=       0.518948526144 / [s] readout time per frame                     \n",
       "FRAMETIM=       6.538751429414 / [s] frame time (INT_TIME + READTIME)           \n",
       "NUM_FRM =                  270 / number of frames per time stamp                \n",
       "TIMEDEL =     0.02043359821692 / [d] time resolution of data                    \n",
       "DATE-OBS= '2009-12-19T20:49:13.619Z' / TSTART as UTC calendar date              \n",
       "DATE-END= '2010-03-19T17:08:14.343Z' / TSTOP as UTC calendar date               \n",
       "BACKAPP =                    T / background is subtracted                       \n",
       "DEADAPP =                    T / deadtime applied                               \n",
       "VIGNAPP =                    T / vignetting or collimator correction applied    \n",
       "GAIN    =               111.43 / [electrons/count] channel gain                 \n",
       "READNOIS=            83.160209 / [electrons] read noise                         \n",
       "NREADOUT=                  270 / number of read per cadence                     \n",
       "TIMSLICE=                    2 / time-slice readout sequence section            \n",
       "MEANBLCK=                  720 / [count] FSW mean black level                   \n",
       "LCFXDOFF=               419400 / long cadence fixed offset                      \n",
       "SCFXDOFF=               219400 / short cadence fixed offset                     \n",
       "CDPP3_0 =                      / [ppm] RMS CDPP on 3.0-hr time scales           \n",
       "CDPP6_0 =                      / [ppm] RMS CDPP on 6.0-hr time scales           \n",
       "CDPP12_0=                      / [ppm] RMS CDPP on 12.0-hr time scales          \n",
       "CROWDSAP=               1.0000 / Ratio of target flux to total flux in op. ap.  \n",
       "FLFRCSAP=               0.9011 / Frac. of target flux w/in the op. aperture     \n",
       "NSPSDDET=                    0 / Number of SPSDs detected                       \n",
       "NSPSDCOR=                    0 / Number of SPSDs corrected                      \n",
       "PDCVAR  =   20.399900436401367 / Target variability                             \n",
       "PDCMETHD= 'multiScaleMap'      / PDC algorithm used for target                  \n",
       "NUMBAND =                    3 / Number of scale bands                          \n",
       "FITTYPE1= 'robust  '           / Fit type used for band 1                       \n",
       "PR_GOOD1=    0.976086437702179 / Prior goodness for band 1                      \n",
       "PR_WGHT1=                  0.0 / Prior weight for band 1                        \n",
       "FITTYPE2= 'prior   '           / Fit type used for band 2                       \n",
       "PR_GOOD2=   0.9899073243141174 / Prior goodness for band 2                      \n",
       "PR_WGHT2=      9066.6748046875 / Prior weight for band 2                        \n",
       "FITTYPE3= 'prior   '           / Fit type used for band 3                       \n",
       "PR_GOOD3=   0.7088288068771362 / Prior goodness for band 3                      \n",
       "PR_WGHT3=       6492.244140625 / Prior weight for band 3                        \n",
       "PDC_TOT =   0.9482781291007996 / PDC total goodness metric for target           \n",
       "PDC_TOTP=   39.987430572509766 / PDC_TOT percentile compared to mod/out         \n",
       "PDC_COR =   0.9998763799667358 / PDC correlation goodness metric for target     \n",
       "PDC_CORP=    86.15069580078125 / PDC_COR percentile compared to mod/out         \n",
       "PDC_VAR =   0.9800975918769836 / PDC variability goodness metric for target     \n",
       "PDC_VARP=   23.129241943359375 / PDC_VAR percentile compared to mod/out         \n",
       "PDC_NOI =   0.8022974133491516 / PDC noise goodness metric for target           \n",
       "PDC_NOIP=   14.774556159973145 / PDC_NOI percentile compared to mod/out         \n",
       "PDC_EPT =                  1.0 / PDC earth point goodness metric for target     \n",
       "PDC_EPTP=    54.41036605834961 / PDC_EPT percentile compared to mod/out         \n",
       "CHECKSUM= 'mJOAoGNAmGNAmGNA'   / HDU checksum updated 2015-09-11T23:31:38Z      "
      ]
     },
     "execution_count": 23,
     "metadata": {},
     "output_type": "execute_result"
    }
   ],
   "source": [
    "data_check = fit_check[1].data\n",
    "fit_check[1].header"
   ]
  },
  {
   "cell_type": "code",
   "execution_count": 24,
   "metadata": {},
   "outputs": [
    {
     "data": {
      "text/plain": [
       "FITS_rec([(352.37684219, -0.00089333, 11914, 31065.725, 5.3535604, 1388.4265, 0.42395303,       nan,       nan,     0, nan, nan, nan, nan, 103.04657751, 0.00020784, 246.02113871, 0.00020807, -0.02444879, -0.10927445),\n",
       "          (352.39727531, -0.00089381, 11915, 30278.242, 5.306459 , 1388.8086, 0.42475742, 33617.54 , 5.8750467,     0, nan, nan, nan, nan, 103.04495465, 0.00021271, 246.02071527, 0.00021291, -0.0244539 , -0.10924027),\n",
       "          (352.41770854, -0.00089428, 11916,       nan,       nan,       nan,        nan,       nan,       nan, 32816, nan, nan, nan, nan,          nan,        nan,          nan,        nan,         nan,         nan),\n",
       "          ...,\n",
       "          (442.16242384, -0.00054718, 16308, 30501.207, 5.318523 , 1342.5193, 0.4242635 , 34128.36 , 5.8891807,     0, nan, nan, nan, nan, 103.09702685, 0.0002105 , 246.19644734, 0.00021028,  0.02660887,  0.08658599),\n",
       "          (442.18285802, -0.0005466 , 16309, 30310.809, 5.307282 , 1343.1567, 0.42472407, 33887.777, 5.8776503,     0, nan, nan, nan, nan, 103.09682445, 0.00021173, 246.19621846, 0.00021151,  0.02675199,  0.08668181),\n",
       "          (442.2032921 , -0.00054602, 16310, 30534.2  , 5.320551 , 1343.5529, 0.42408475, 34121.605, 5.8926287,     0, nan, nan, nan, nan, 103.09617169, 0.00021037, 246.19664014, 0.00021016,  0.02661982,  0.08662651)],\n",
       "         dtype=(numpy.record, [('TIME', '>f8'), ('TIMECORR', '>f4'), ('CADENCENO', '>i4'), ('SAP_FLUX', '>f4'), ('SAP_FLUX_ERR', '>f4'), ('SAP_BKG', '>f4'), ('SAP_BKG_ERR', '>f4'), ('PDCSAP_FLUX', '>f4'), ('PDCSAP_FLUX_ERR', '>f4'), ('SAP_QUALITY', '>i4'), ('PSF_CENTR1', '>f8'), ('PSF_CENTR1_ERR', '>f4'), ('PSF_CENTR2', '>f8'), ('PSF_CENTR2_ERR', '>f4'), ('MOM_CENTR1', '>f8'), ('MOM_CENTR1_ERR', '>f4'), ('MOM_CENTR2', '>f8'), ('MOM_CENTR2_ERR', '>f4'), ('POS_CORR1', '>f4'), ('POS_CORR2', '>f4')]))"
      ]
     },
     "execution_count": 24,
     "metadata": {},
     "output_type": "execute_result"
    }
   ],
   "source": [
    "data_check"
   ]
  },
  {
   "cell_type": "code",
   "execution_count": 25,
   "metadata": {},
   "outputs": [],
   "source": [
    "checking = []\n",
    "for i in range(len(data_check)):\n",
    "    checking.append(data_check[i][7])"
   ]
  },
  {
   "cell_type": "code",
   "execution_count": 26,
   "metadata": {},
   "outputs": [
    {
     "data": {
      "text/plain": [
       "<matplotlib.collections.PathCollection at 0x815829ac8>"
      ]
     },
     "execution_count": 26,
     "metadata": {},
     "output_type": "execute_result"
    },
    {
     "data": {
      "image/png": "[encoded data removed]",
      "text/plain": [
       "<Figure size 432x288 with 1 Axes>"
      ]
     },
     "metadata": {
      "needs_background": "light"
     },
     "output_type": "display_data"
    }
   ],
   "source": [
    "plt.scatter(range(len(data_check)),checking)\n",
    "# plt.ylim(335900, 336250)"
   ]
  },
  {
   "cell_type": "code",
   "execution_count": 10,
   "metadata": {},
   "outputs": [],
   "source": [
    "import matplotlib.pyplot as plt\n",
    "\n",
    "%matplotlib inline"
   ]
  },
  {
   "cell_type": "code",
   "execution_count": 13,
   "metadata": {},
   "outputs": [],
   "source": [
    "# checking"
   ]
  },
  {
   "cell_type": "code",
   "execution_count": null,
   "metadata": {},
   "outputs": [],
   "source": []
  }
 ],
 "metadata": {
  "kernelspec": {
   "display_name": "Python 3",
   "language": "python",
   "name": "python3"
  },
  "language_info": {
   "codemirror_mode": {
    "name": "ipython",
    "version": 3
   },
   "file_extension": ".py",
   "mimetype": "text/x-python",
   "name": "python",
   "nbconvert_exporter": "python",
   "pygments_lexer": "ipython3",
   "version": "3.6.6"
  }
 },
 "nbformat": 4,
 "nbformat_minor": 2
}
