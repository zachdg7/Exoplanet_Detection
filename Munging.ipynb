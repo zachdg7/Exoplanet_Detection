{
 "cells": [
  {
   "cell_type": "markdown",
   "metadata": {},
   "source": [
    "### Goals in this Notebook:\n",
    "Make new files where the data is: \n",
    "> Clean, without null values. <br>\n",
    "> Labeled as detectable planet around star (1) or not (0). <br>\n",
    "> Set to the same time frame. <br>"
   ]
  },
  {
   "cell_type": "markdown",
   "metadata": {},
   "source": [
    "### Imports:"
   ]
  },
  {
   "cell_type": "code",
   "execution_count": null,
   "metadata": {},
   "outputs": [],
   "source": [
    "import pandas as pd\n",
    "import matplotlib.pyplot as plt\n",
    "import time\n",
    "import numpy as np\n",
    "import random\n",
    "\n",
    "%matplotlib inline"
   ]
  },
  {
   "cell_type": "markdown",
   "metadata": {},
   "source": [
    "### Read in the Files:"
   ]
  },
  {
   "cell_type": "code",
   "execution_count": null,
   "metadata": {},
   "outputs": [],
   "source": [
    "# These are the confirmed planet stars from the first download session\n",
    "c_planets = pd.read_csv('../clean_planet_data/extracted_planets_1_again.csv')\n",
    "\n",
    "# These are the confirmed planet stars from the second download session\n",
    "c_planets_2 = pd.read_csv('../clean_planet_data/extracted_confirmed_planets_2_again.csv')\n",
    "\n",
    "c4_kep = pd.read_csv('../clean_planet_data/extracted_kep_c4_7700_backup.csv')"
   ]
  },
  {
   "cell_type": "code",
   "execution_count": null,
   "metadata": {},
   "outputs": [],
   "source": [
    "# drop the last line of c4_kep because it only downloaded halfway before being stopped\n",
    "c4_kep.drop(index=7713, inplace = True)"
   ]
  },
  {
   "cell_type": "markdown",
   "metadata": {},
   "source": [
    "# Start Munging:"
   ]
  },
  {
   "cell_type": "markdown",
   "metadata": {},
   "source": [
    "### Check for Duplicate Entries of Each Star:\n",
    "If the value is greater than 1, there are duplicates."
   ]
  },
  {
   "cell_type": "code",
   "execution_count": null,
   "metadata": {},
   "outputs": [],
   "source": [
    "c_planets['star_name'].value_counts().max()"
   ]
  },
  {
   "cell_type": "code",
   "execution_count": null,
   "metadata": {},
   "outputs": [],
   "source": [
    "c_planets_2['star_name'].value_counts().max()"
   ]
  },
  {
   "cell_type": "code",
   "execution_count": null,
   "metadata": {},
   "outputs": [],
   "source": [
    "c4_kep['star_name'].value_counts().max()"
   ]
  },
  {
   "cell_type": "code",
   "execution_count": null,
   "metadata": {},
   "outputs": [],
   "source": [
    "# combine planet sets before randomly selecting?\n",
    "#     cut the bigger one down to the size of the smaller one to keep the number of columns the same\n",
    "\n",
    "# doing this would show duplicates across the two files rather than looking at them individually\n",
    "#     the could explain why I saw a decrease in the number of stars with planets after introducing this"
   ]
  },
  {
   "cell_type": "markdown",
   "metadata": {},
   "source": [
    "### Randomly Select Lightcurves from the Duplicates in Confirmed Planets Set:"
   ]
  },
  {
   "cell_type": "code",
   "execution_count": null,
   "metadata": {},
   "outputs": [],
   "source": [
    "randomized_planets = pd.DataFrame(columns = c_planets.columns)\n",
    "\n",
    "i = 0\n",
    "\n",
    "# Selecting the row with the fewest NANs and add them to the randomized_planets df\n",
    "for df in [c_planets, c_planets_2]:\n",
    "    for star in df['star_name'].unique():\n",
    "        \n",
    "        # Print out some feedback to show progress\n",
    "        i += 1\n",
    "        if i % 100 == 0:\n",
    "            print(i)\n",
    "\n",
    "        checking = df[df['star_name'] == star] # select all rows whose stars have the same name\n",
    "        rand_select = random.randint(checking.index.min(), checking.index.max() + 1) # randomly select one of the index numbers\n",
    "        rand = checking[checking.index == rand_select] # pick out that row\n",
    "        randomized_planets = pd.concat([randomized_planets, rand]) # add it to the new df\n",
    "\n",
    "# Reset the index\n",
    "randomized_planets.reset_index(drop = True, inplace = True)    "
   ]
  },
  {
   "cell_type": "code",
   "execution_count": null,
   "metadata": {},
   "outputs": [],
   "source": [
    "# make sure this is exhaustive\n",
    "#     count uniques before and after to be sure"
   ]
  },
  {
   "cell_type": "markdown",
   "metadata": {},
   "source": [
    "Make sure it worked: <br>\n",
    "Is there only one row per star?"
   ]
  },
  {
   "cell_type": "code",
   "execution_count": null,
   "metadata": {
    "scrolled": false
   },
   "outputs": [],
   "source": [
    "randomized_planets['star_name'].value_counts().max()"
   ]
  },
  {
   "cell_type": "markdown",
   "metadata": {},
   "source": [
    "# Dealing with Nulls:"
   ]
  },
  {
   "cell_type": "markdown",
   "metadata": {},
   "source": [
    "### Calculate Isolated Missing Values:\n",
    "Fill 'one-off' missing values with mean imputation of the nearest two values."
   ]
  },
  {
   "cell_type": "code",
   "execution_count": null,
   "metadata": {},
   "outputs": [],
   "source": [
    "is_null = c4_kep.isnull()\n",
    "\n",
    "for i in range(c4_kep.shape[0]): # for each row\n",
    "    \n",
    "    # Print out some feedback to show progress\n",
    "    if i % 50 == 0:\n",
    "        print(i)\n",
    "        \n",
    "    for j in range(c4_kep.shape[1]-1):\n",
    "        if is_null.iloc[i, j] == True:\n",
    "            if j > 2: # skip the first two columns\n",
    "                if not ((is_null.iloc[i, j-1] == True) | (is_null.iloc[i, j+1] == True)):\n",
    "                    c4_kep.iloc[i, j] = np.mean([c4_kep.iloc[i, j-1], c4_kep.iloc[i, j+1]])"
   ]
  },
  {
   "cell_type": "code",
   "execution_count": null,
   "metadata": {},
   "outputs": [],
   "source": [
    "# Do this for c4_kep and confirmed planets"
   ]
  },
  {
   "cell_type": "markdown",
   "metadata": {},
   "source": [
    "### Closing Gaps in Data:"
   ]
  },
  {
   "cell_type": "code",
   "execution_count": null,
   "metadata": {},
   "outputs": [],
   "source": [
    "# Shifting values to fill nulls\n",
    "#     the column names will no longer be relevent\n",
    "is_null = c4_kep.isnull()\n",
    "df_squished = pd.DataFrame()\n",
    "\n",
    "for i in range(c4_kep.shape[0]):\n",
    "    if i % 50 == 0:\n",
    "        print(i)\n",
    "    \n",
    "    k = 0 # reset the df_squished column index to 0 for each new row\n",
    "    for j in range(c4_kep.shape[1]):\n",
    "        if is_null.iloc[i, j] == False: # if this cell is not null\n",
    "            df_squished.loc[i, k] = c4_kep.iloc[i, j]\n",
    "            k += 1\n",
    "#             else: # if cell is null\n",
    "#                 count how long the missing string is and save that info"
   ]
  },
  {
   "cell_type": "code",
   "execution_count": null,
   "metadata": {},
   "outputs": [],
   "source": [
    "# Do this for c4_kep and confirmed planets"
   ]
  },
  {
   "cell_type": "markdown",
   "metadata": {},
   "source": [
    "# Assign Labels"
   ]
  },
  {
   "cell_type": "markdown",
   "metadata": {},
   "source": [
    "### Assign Labels to Stars with Planets:"
   ]
  },
  {
   "cell_type": "code",
   "execution_count": null,
   "metadata": {},
   "outputs": [],
   "source": [
    "# Bring in a table that lists all confirmed planets with their star names and other info\n",
    "all_confirmed = pd.read_csv('../clean_planet_data/all_planets_list.csv')"
   ]
  },
  {
   "cell_type": "code",
   "execution_count": null,
   "metadata": {},
   "outputs": [],
   "source": [
    "# Assign labels to c4_kep\n",
    "not_found = 0\n",
    "stars_to_drop = []\n",
    "\n",
    "for j in range(len(c4_kep)): # for every light curve\n",
    "    if j % 250 == 0:\n",
    "        print(j)\n",
    "\n",
    "    count = 0\n",
    "    for i in range(len(all_confirmed)): # look through each star name in the list of all confirmed planets\n",
    "        try:\n",
    "            if all_confirmed.loc[i, 'Alternative star names'].find(c4_kep.iloc[j, 0]) != -1:\n",
    "                count += 1\n",
    "                print(c4_kep.iloc[j, 0], ' found @ index: ', j, 'orbital period: ', all_confirmed.loc[i, 'Orbital period [days]'])\n",
    "                c4_kep.loc[j, '1'] = 1\n",
    "    \n",
    "        except AttributeError: # if the alternate star names value are null\n",
    "            try:\n",
    "                if all_confirmed.loc[i, 'Star name'].find(c4_kep.iloc[j, 0]) != -1:\n",
    "                    count += 1\n",
    "                    print(c4_kep.iloc[j, 0], ' found @ index: ', j, 'on 2nd level of loop', 'orbital period: ', all_confirmed.loc[i, 'Orbital period [days]'])\n",
    "                    c4_kep.loc[j, '1'] = 1\n",
    "                    \n",
    "            except AttributeError: # if this is null too, keep going. There are few of these cases in the set\n",
    "                continue\n",
    "                \n",
    "    if count == 0:\n",
    "        not_found += 1"
   ]
  },
  {
   "cell_type": "code",
   "execution_count": null,
   "metadata": {},
   "outputs": [],
   "source": [
    "# change label on confirmed stars with no planets under the timeframe we're looking at\n",
    "#     add a 'detectable' column?\n",
    "\n",
    "# drop stars from confirmed planets that cannot be found? how many are there?, can I get this data somewhere else?"
   ]
  },
  {
   "cell_type": "markdown",
   "metadata": {},
   "source": [
    "### Make Detectable Planets Label for Confirmed Planets Set:\n",
    "Label should only be positive if the planet has a detectable orbitable period."
   ]
  },
  {
   "cell_type": "code",
   "execution_count": null,
   "metadata": {},
   "outputs": [],
   "source": [
    "# clean all_confirmed planets obrital period column to be usable (numeric and no weird symbols)\n",
    "\n",
    "# for each confirmed planet star\n",
    "#     search for it in all_confirmed\n",
    "#     if there is no planet with that star name with an orbit less than the detectable period\n",
    "#         drop it\n",
    "\n",
    "#     if it can't be found in all_confirmed\n",
    "#         drop it and tally how many of these there are"
   ]
  },
  {
   "cell_type": "markdown",
   "metadata": {},
   "source": [
    "### Set the Light Curves to the Same Time Frame:\n",
    "That way there are no nulls and we can compare all the light curves from all datasets."
   ]
  },
  {
   "cell_type": "code",
   "execution_count": null,
   "metadata": {},
   "outputs": [],
   "source": [
    "# max row length should be the number of nonmissing values in the shortest clean light curve\n",
    "# make sure the feature names are consistent and usable"
   ]
  },
  {
   "cell_type": "markdown",
   "metadata": {},
   "source": [
    "### Save to a New File:"
   ]
  },
  {
   "cell_type": "code",
   "execution_count": null,
   "metadata": {},
   "outputs": [],
   "source": [
    "# df_squished.to_csv('../clean_planet_data/clean_labeled_kep_c4.csv', index=False)"
   ]
  },
  {
   "cell_type": "code",
   "execution_count": null,
   "metadata": {},
   "outputs": [],
   "source": [
    "# least_null_planets.to_csv('../clean_planet_data/clean_labeled_planets.csv', index=False)"
   ]
  },
  {
   "cell_type": "markdown",
   "metadata": {},
   "source": [
    "### Done!"
   ]
  }
 ],
 "metadata": {
  "kernelspec": {
   "display_name": "Python 3",
   "language": "python",
   "name": "python3"
  },
  "language_info": {
   "codemirror_mode": {
    "name": "ipython",
    "version": 3
   },
   "file_extension": ".py",
   "mimetype": "text/x-python",
   "name": "python",
   "nbconvert_exporter": "python",
   "pygments_lexer": "ipython3",
   "version": "3.6.6"
  }
 },
 "nbformat": 4,
 "nbformat_minor": 2
}
