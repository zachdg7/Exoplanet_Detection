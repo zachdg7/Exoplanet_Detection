{
 "cells": [
  {
   "cell_type": "markdown",
   "metadata": {},
   "source": [
    "# Exoplanet Detection Technical Report:"
   ]
  },
  {
   "cell_type": "markdown",
   "metadata": {},
   "source": [
    "### Objective:\n",
    "\n",
    "Design a neural network to detect planets passing in front of their stars by analyzing observed brightness. \n",
    "\n",
    "***Answer the question:*** <br>\n",
    "Out of all the stars visible in the night sky (thought to be 5,000) how many stars have detectable planets?\n",
    "<br>"
   ]
  },
  {
   "cell_type": "markdown",
   "metadata": {},
   "source": [
    "### Transit Detection Method:\t\n",
    "\n",
    "An exoplanet \"transit\" occurs when a planet passes in front of its star and can be observed as a decrease in the brightness measured from the star.\n",
    "\n",
    "***Advantages:*** <br>\n",
    ">Can be easily applied to many stars compared to other exoplanet detection methods. <br>\n",
    "\n",
    "***Disadvantages:*** <br>\n",
    ">Only a small fraction of all planets happen to have an orbital plane that can be detected from Earth. <br>\n",
    "This method is known to have a high false positive rate. <br>"
   ]
  },
  {
   "cell_type": "markdown",
   "metadata": {},
   "source": [
    "# Data Collection:"
   ]
  },
  {
   "cell_type": "markdown",
   "metadata": {},
   "source": [
    "### Data Source:\n",
    "***Recorded by:*** <br>\n",
    "Kepler Spacecraft\n",
    "> Designed to detect planets. <br>\n",
    "> Campaign 4 time span used.\n",
    "\n",
    "***Light Curves:***  <br>\n",
    "Magnitude of brightness measured every 30 minutes for 66 days. <br>\n",
    "Corrected Flux Magnitude accounted for systematic error and background light. <br>\n",
    "\n",
    "***Planets Added to Training Data:*** <br>\n",
    "1100 light curves for stars with confirmed planets were added to the training data. <br>\n",
    "This gives the model more examples of transits to \"learn\" from. <br>"
   ]
  },
  {
   "cell_type": "markdown",
   "metadata": {},
   "source": [
    "### Obtaining Data:\n",
    "Wget scripts in batch files for campaign 4 downloaded fit files from NASA's Bulk Data API. <br>\n",
    "For computational concerns, the data used in this project was limited to a small portion of this Kepler campaign.<br>\n",
    "> This could be scaled to a server to process more data."
   ]
  },
  {
   "cell_type": "markdown",
   "metadata": {},
   "source": [
    "### Extracting Relevant Data:\n",
    "The fit files contained the light curves along with many other readings from the spacecraft. <br>\n",
    "The relevant data extracted from each fit file the  and the usable information was stored separately. <br>\n",
    "\n",
    "The light curves from stars with confirmed planets were randomly selected from several timeframes. <br>\n",
    ">This ensures that the missing values don't occur in some systematic pattern. <br>"
   ]
  },
  {
   "cell_type": "markdown",
   "metadata": {},
   "source": [
    "### Handling Missing Values: <br>\n",
    "\n",
    "***Isolated Missing Values:*** <br>\n",
    "Calculated by taking the mean of the adjacent values.<br> \n",
    "This method was chosen to ensure the isolated missing values won't stand out in the data. <br>\n",
    "\n",
    "***Consecutive Missing Values:*** <br>\n",
    "The data contained some stretches of consecutive missing values up to 20 hours. <br>\n",
    "These were filled in with the next non-null value in the time series.<br>"
   ]
  },
  {
   "cell_type": "markdown",
   "metadata": {},
   "source": [
    "# Data Exploration:"
   ]
  },
  {
   "cell_type": "markdown",
   "metadata": {},
   "source": [
    "### Solar Flares:\n",
    "A relatively common feature in these light curves is solar flares. <br>\n",
    "At first glance they look like outliers, but these are most likely massive explosions that greatly increase the brightness of the star for a short time.\n",
    "<img src=\"assets/solar_flare.png\">"
   ]
  },
  {
   "cell_type": "markdown",
   "metadata": {},
   "source": [
    "### Exoplanet Transit:\n",
    "This is a good example of what the light curve looks like with several very obvious transits. <br>\n",
    "You can see the sharp decreases in brightness when the planet passes in front of the star. <br>\n",
    "<img src=\"assets/transit_light_curve.png\">"
   ]
  },
  {
   "cell_type": "markdown",
   "metadata": {},
   "source": [
    "# Preprocessing:"
   ]
  },
  {
   "cell_type": "markdown",
   "metadata": {},
   "source": [
    "### Setting the Time Interval:\n",
    "\n",
    "To compare data retrieved from different Kepler missions, datasets were limited to the size of the smallest dataset which was about 66 days long. <br>\n",
    "> The disadvantage of this is it is likely to exclude transit events for plantes with an orbital period of more than 66 days. <br>\n",
    "\n",
    "This is a relatively small time window, for example, the shorted orbital period in our solar system is Mercury's orbit at 88 days. <br>\n",
    "> However, most known exoplanets have an orbital period within this window.<br>\n",
    "\n",
    "This could be due to the face that the transit detection method is more sensitve to planets close to their stars because they create a greater relative decrease in the observed brightness of the star. <br>\n",
    "Planets with small orbits are also more likely to have orbital planes that intersect our observation point. <br>"
   ]
  },
  {
   "cell_type": "markdown",
   "metadata": {},
   "source": [
    "### Scaling:\n",
    "To compare the magnitude of light from different stars, the flux levels were set to a normal scale. <br>\n",
    "This perserves transit events, but now stars with different brightnesses can be compared.<br>"
   ]
  },
  {
   "cell_type": "markdown",
   "metadata": {},
   "source": [
    "# Neural Network:"
   ]
  },
  {
   "cell_type": "markdown",
   "metadata": {},
   "source": [
    "### Model: <br>\n",
    "***One Dimensional Convolutional Neural Network:*** <br>\n",
    "Convolutional neural networks (CNN's) are often used in image processing and pattern detection problems where the sequence of the input is important.<br> \n",
    "Transit events create sharp dips in the brightness of their stars, this CNN will learn to recognize these types of patterns and predict if the star has an exoplanet. <br>"
   ]
  },
  {
   "cell_type": "markdown",
   "metadata": {},
   "source": [
    "### Topology/Architecture:\n",
    "***Layers:***<br>\n",
    "> 3 Convolutional Layers <br>\n",
    "3 Cooling Layers After Each Convolutional Layer <br>\n",
    "2 Hidden Layers <br>"
   ]
  },
  {
   "cell_type": "markdown",
   "metadata": {},
   "source": [
    "# Results:"
   ]
  },
  {
   "cell_type": "markdown",
   "metadata": {},
   "source": [
    "***Training Validation Set Accuracy:*** <br>\n",
    "85% Accuracy (baseline 31%) <br>\n",
    "\n",
    "***Predictions:*** <br>\n",
    "98 Exoplanet stars predicted: <br>\n",
    ">12 true exoplanet stars in predictions (15x better than chance) <br>\n",
    "30% of all exoplanet stars detected (40 stars) <br>"
   ]
  },
  {
   "cell_type": "markdown",
   "metadata": {},
   "source": [
    "### Answer to the Question:\n",
    "If we generalize these results to the 5000 stars visible in the night sky, we can conclude: <br>\n",
    ">There are 40 stars with planets that transit between their star and Earth every 66 days. <br>\n",
    "The model would generate a list of candidates that would contain 30% of the true planets. <br> "
   ]
  }
 ],
 "metadata": {
  "kernelspec": {
   "display_name": "Python 3",
   "language": "python",
   "name": "python3"
  },
  "language_info": {
   "codemirror_mode": {
    "name": "ipython",
    "version": 3
   },
   "file_extension": ".py",
   "mimetype": "text/x-python",
   "name": "python",
   "nbconvert_exporter": "python",
   "pygments_lexer": "ipython3",
   "version": "3.6.6"
  }
 },
 "nbformat": 4,
 "nbformat_minor": 2
}
