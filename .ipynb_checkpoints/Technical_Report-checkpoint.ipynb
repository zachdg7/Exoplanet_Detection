{
 "cells": [
  {
   "cell_type": "markdown",
   "metadata": {},
   "source": [
    "Technical report:\n",
    "\t\t\t§ Don't forget executive sum and readme\n",
    "\t\t\t§ Can be done in a jupyter notebook\n",
    "\t• Problem statement\n",
    "\t\t○ Using the light curves from planets to detect planets in other solar systems\n",
    "\t\t○ More specific\n",
    "\t\t\t§ If you look at the stars you can see with the naked eye, how many of them have planets?\n",
    "\t\t○ Describe the transit method\n",
    "\t• Description of data\n",
    "\t\t○ The spacecraft\n",
    "\t\t\t§ Kepler\n",
    "\t\t\t\t□ Designed to measure the frequency of earthlike planets in the galaxy to estimate the possibility of intelligent life\n",
    "\t\t○ What area of the sky\n",
    "\t\t\t§ kepC3\n",
    "\t\t\t§ K2C1\n",
    "\t\t○ Magnitude of light\n",
    "\t\t\t§ Corrected by NASA for the systematic error coming from the spacecraft\n",
    "\t• Data gathering and cleaning process\n",
    "\t\t○ Downloading\n",
    "\t\t\t§ Wget scripts\n",
    "\t\t\t§ 250 gigabytes\n",
    "\t\t○ Extracting\n",
    "\t\t\t§ Navigating .fit files\n",
    "\t\t\t§ Running over several nights\n",
    "\t\t○ Cleaning nulls\n",
    "\t\t\t§ Picking light curve with least number of nulls\n",
    "\t\t\t§ Mean imputation\n",
    "\t\t\t§ Closing gaps in the data\n",
    "\t• Summary of exploration\n",
    "\t\t○ Solar flares\n",
    "\t\t○ Plots\n",
    "\t\t\t§ Compare non planet to planet\n",
    "\t\t\t§ Show a random weird unexplained phenomena\n",
    "\t• Data preprocessing\n",
    "\t\t○ Scaling\n",
    "\t\t○ Putting on the same time scale\n",
    "\t\t\t§ Most planets detected using this method are \n",
    "\t• Modeling\n",
    "\t\t○ Neural network topology\n",
    "\t\t\t§ Concerns about skips in data\n",
    "\t\t○ Are there other models I could apply\n",
    "\t• Applying the model to unseen data\n",
    "\t• Comparing to other attempts in the past\n",
    "\t\t○ Google's code\n"
   ]
  },
  {
   "cell_type": "code",
   "execution_count": null,
   "metadata": {},
   "outputs": [],
   "source": []
  }
 ],
 "metadata": {
  "kernelspec": {
   "display_name": "Python 3",
   "language": "python",
   "name": "python3"
  },
  "language_info": {
   "codemirror_mode": {
    "name": "ipython",
    "version": 3
   },
   "file_extension": ".py",
   "mimetype": "text/x-python",
   "name": "python",
   "nbconvert_exporter": "python",
   "pygments_lexer": "ipython3",
   "version": "3.6.6"
  }
 },
 "nbformat": 4,
 "nbformat_minor": 2
}
