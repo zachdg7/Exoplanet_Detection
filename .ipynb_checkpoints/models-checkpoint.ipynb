{
 "cells": [
  {
   "cell_type": "markdown",
   "metadata": {},
   "source": [
    "### Imports:"
   ]
  },
  {
   "cell_type": "code",
   "execution_count": 1,
   "metadata": {},
   "outputs": [
    {
     "name": "stderr",
     "output_type": "stream",
     "text": [
      "Using TensorFlow backend.\n"
     ]
    },
    {
     "name": "stdout",
     "output_type": "stream",
     "text": [
      "Couldn't import dot_parser, loading of dot files will not be possible.\n"
     ]
    }
   ],
   "source": [
    "import pandas as pd\n",
    "import matplotlib.pyplot as plt\n",
    "import numpy as np\n",
    "\n",
    "import re\n",
    "\n",
    "from sklearn.preprocessing import StandardScaler\n",
    "\n",
    "from keras.models import Sequential\n",
    "from keras.layers import Dense, Dropout, Activation, Flatten\n",
    "from keras.layers import Conv1D, MaxPooling1D\n",
    "from keras.utils import np_utils\n",
    "from keras import optimizers\n",
    "\n",
    "from sklearn.model_selection import train_test_split\n",
    "\n",
    "%matplotlib inline"
   ]
  },
  {
   "cell_type": "markdown",
   "metadata": {},
   "source": [
    "### Load the Data:"
   ]
  },
  {
   "cell_type": "code",
   "execution_count": 4,
   "metadata": {},
   "outputs": [],
   "source": [
    "has_planets = pd.read_csv('../clean_planet_data/clean_labeled_planets.csv')\n",
    "\n",
    "c4_kep = pd.read_csv('../clean_planet_data/clean_kep_c4.csv')\n",
    "\n",
    "all_confirmed = pd.read_csv('../clean_planet_data/all_planets_list.csv')"
   ]
  },
  {
   "cell_type": "markdown",
   "metadata": {},
   "source": [
    "### Making sure there are transits in the confirmed planets set:"
   ]
  },
  {
   "cell_type": "code",
   "execution_count": 3,
   "metadata": {},
   "outputs": [],
   "source": [
    "# remove last line from c4_kep because it has too many nulls:\n",
    "c4_kep.drop(index=7713, inplace = True)"
   ]
  },
  {
   "cell_type": "code",
   "execution_count": 6,
   "metadata": {},
   "outputs": [],
   "source": [
    "# Assign what used to be exposure to 0 because we're about to change that variable\n",
    "c4_kep['1'] = 0"
   ]
  },
  {
   "cell_type": "code",
   "execution_count": 7,
   "metadata": {},
   "outputs": [
    {
     "name": "stdout",
     "output_type": "stream",
     "text": [
      "0\n",
      "KIC 10000941  found @ index:  174 orbital period:  3.5047±0.0000\n",
      "250\n",
      "KIC 10002866  found @ index:  265 orbital period:  3.9370±0.0000\n",
      "KIC 10002866  found @ index:  265 orbital period:  28.0819±0.0001\n",
      "KIC 10002866  found @ index:  265 orbital period:  10.0888±0.0000\n",
      "KIC 10004519  found @ index:  328 orbital period:  9.8032±0.0000\n",
      "KIC 10004738  found @ index:  338 orbital period:  56.4754±0.0002\n",
      "KIC 10004738  found @ index:  338 orbital period:  92.8761±0.0008\n",
      "KIC 10004738  found @ index:  338 orbital period:  13.9307±0.0001\n",
      "KIC 10005788  found @ index:  398 orbital period:  10.9947±0.0000\n",
      "KIC 10006581  found @ index:  430 orbital period:  40.1100±0.0002\n",
      "500\n",
      "KIC 10010440  found @ index:  502 orbital period:  53.5991±0.0004\n",
      "KIC 10018233  found @ index:  691 orbital period:  16.2960±0.0001\n",
      "KIC 10019065  found @ index:  744 orbital period:  52.6298±0.0003\n",
      "750\n",
      "KIC 10019643  found @ index:  771 orbital period:  21.3473±0.0001\n",
      "KIC 10019643  found @ index:  771 orbital period:  7.8109±0.0001\n",
      "KIC 10019708  found @ index:  777 orbital period:  3.2687±0.0000\n",
      "KIC 10022908  found @ index:  821 orbital period:  6.9913±0.0000\n",
      "KIC 10024051  found @ index:  872 orbital period:  0.5774±0.0000\n",
      "KIC 10024701  found @ index:  905 orbital period:  14.3751±0.0000\n",
      "KIC 10024862  found @ index:  913 on 2nd level of loop orbital period:  567.04±0.03\n",
      "KIC 10026502  found @ index:  986 orbital period:  101.9518±0.0016\n",
      "1000\n",
      "KIC 10027247  found @ index:  1028 orbital period:  86.8290±0.0011\n",
      "KIC 10027323  found @ index:  1032 orbital period:  5.9237±0.0000\n",
      "KIC 10027323  found @ index:  1032 orbital period:  105.3564±0.0009\n",
      "KIC 10028535  found @ index:  1091 orbital period:  0.6631±0.0000\n",
      "KIC 10028792  found @ index:  1099 orbital period:  114.7309±0.0005\n",
      "KIC 10028792  found @ index:  1099 orbital period:  192.36±0.07\n",
      "1250\n",
      "KIC 10055126  found @ index:  1352 orbital period:  9.1761±0.0001\n",
      "KIC 10055126  found @ index:  1352 orbital period:  19.7383±0.0002\n",
      "KIC 10057494  found @ index:  1426 orbital period:  2.4181±0.0000\n",
      "KIC 10059645  found @ index:  1493 orbital period:  6.4944±0.0000\n",
      "1500\n",
      "KIC 10063208  found @ index:  1525 orbital period:  9.3281±0.0001\n",
      "KIC 10063802  found @ index:  1553 orbital period:  120.0181±0.0004\n",
      "1750\n",
      "KIC 10068659  found @ index:  1779 orbital period:  11.4769±0.0001\n",
      "KIC 10070468  found @ index:  1850 orbital period:  1.6819±0.0000\n",
      "2000\n",
      "KIC 10080248  found @ index:  2052 orbital period:  14.8783±0.0001\n",
      "2250\n",
      "KIC 10089911  found @ index:  2406 orbital period:  6.9671±0.0000\n",
      "2500\n",
      "KIC 10098844  found @ index:  2724 orbital period:  47.4500±0.0008\n",
      "2750\n",
      "KIC 10122255  found @ index:  2860 orbital period:  27.6655±0.0001\n",
      "KIC 10123064  found @ index:  2890 orbital period:  4.2437±0.0000\n",
      "3000\n",
      "KIC 10130039  found @ index:  3037 orbital period:  12.7580±0.0001\n",
      "KIC 10130039  found @ index:  3037 orbital period:  5.4703±0.0000\n",
      "KIC 10130039  found @ index:  3037 orbital period:  25.0985±0.0001\n",
      "KIC 10132832  found @ index:  3129 orbital period:  16.0768±0.0001\n",
      "3250\n",
      "KIC 10136549  found @ index:  3262 orbital period:  9.6932±0.0000\n",
      "KIC 10136549  found @ index:  3262 orbital period:  3.2928±0.0000\n",
      "KIC 10141900  found @ index:  3410 orbital period:  1.1966±0.0000\n",
      "3500\n",
      "KIC 10153855  found @ index:  3677 orbital period:  1.0638±0.0000\n",
      "KIC 10154388  found @ index:  3707 orbital period:  12.0622±0.0000\n",
      "3750\n",
      "KIC 10157458  found @ index:  3864 orbital period:  7.3368±0.0000\n",
      "KIC 10158729  found @ index:  3926 orbital period:  58.6018±0.0006\n",
      "4000\n",
      "KIC 10166274  found @ index:  4124 orbital period:  3.3537±0.0000\n",
      "KIC 10166274  found @ index:  4124 orbital period:  6.8774±0.0000\n",
      "KIC 10166274  found @ index:  4124 orbital period:  28.4645±0.0002\n",
      "KIC 10187017  found @ index:  4200 orbital period:  16.15\n",
      "KIC 10187017  found @ index:  4200 orbital period:  10.31\n",
      "KIC 10187017  found @ index:  4200 orbital period:  27.5\n",
      "KIC 10187017  found @ index:  4200 orbital period:  7.07\n",
      "KIC 10187017  found @ index:  4200 orbital period:  5.29\n",
      "KIC 10187159  found @ index:  4206 orbital period:  7.9643±0.0000\n",
      "4250\n",
      "KIC 10189546  found @ index:  4304 orbital period:  42.9496±0.0002\n",
      "KIC 10189546  found @ index:  4304 orbital period:  117.0405±0.0018\n",
      "KIC 10190777  found @ index:  4342 orbital period:  1.4112±0.0000\n",
      "4500\n",
      "KIC 10203349  found @ index:  4726 orbital period:  17.1465±0.0001\n",
      "4750\n",
      "KIC 10212441  found @ index:  4862 orbital period:  15.0447±0.0001\n",
      "KIC 10213902  found @ index:  4917 orbital period:  59.6225±0.0003\n",
      "KIC 10214162  found @ index:  4936 orbital period:  17.4240±0.0001\n",
      "5000\n",
      "5250\n",
      "5500\n",
      "KIC 10253547  found @ index:  5557 orbital period:  59.9806±0.0009\n",
      "KIC 10253547  found @ index:  5557 orbital period:  25.7457±0.0005\n",
      "5750\n",
      "KIC 10264660  found @ index:  5896 orbital period:  6.79\n",
      "KIC 10265898  found @ index:  5941 orbital period:  1.2603±0.0000\n",
      "KIC 10266615  found @ index:  5968 orbital period:  10.9403±0.0000\n",
      "6000\n",
      "KIC 10271806  found @ index:  6068 orbital period:  5.9250±0.0000\n",
      "KIC 10271806  found @ index:  6068 orbital period:  11.3494±0.0000\n",
      "KIC 10271806  found @ index:  6068 orbital period:  3.1329±0.0000\n",
      "KIC 10271806  found @ index:  6068 orbital period:  18.6436±0.0001\n",
      "KIC 10272442  found @ index:  6086 orbital period:  24.5435±0.0001\n",
      "KIC 10272640  found @ index:  6092 orbital period:  3.7706±0.0000\n",
      "6250\n",
      "KIC 10285631  found @ index:  6412 orbital period:  18.6840±0.0001\n",
      "6500\n",
      "KIC 10289119  found @ index:  6584 orbital period:  16.1047±0.0001\n",
      "KIC 10290666  found @ index:  6649 orbital period:  5.4585±0.0000\n",
      "6750\n",
      "KIC 10318874  found @ index:  6892 orbital period:  2.51\n",
      "KIC 10318874  found @ index:  6892 orbital period:  820±3\n",
      "7000\n",
      "KIC 10328393  found @ index:  7125 orbital period:  7.6263±0.0000\n",
      "KIC 10328393  found @ index:  7125 orbital period:  15.9956±0.0001\n",
      "KIC 10328393  found @ index:  7125 orbital period:  34.2115±0.0003\n",
      "KIC 10328458  found @ index:  7131 orbital period:  2.3523±0.0000\n",
      "KIC 10329196  found @ index:  7167 orbital period:  85.7565±0.0006\n",
      "KIC 10329469  found @ index:  7180 orbital period:  55.8227±0.0004\n",
      "KIC 10329835  found @ index:  7192 orbital period:  1.5237±0.0000\n",
      "KIC 10330115  found @ index:  7204 orbital period:  13.2141±0.0000\n",
      "7250\n",
      "KIC 10332883  found @ index:  7329 orbital period:  1.1512±0.0000\n",
      "KIC 10337258  found @ index:  7411 orbital period:  13.2854±0.0000\n",
      "KIC 10337517  found @ index:  7423 orbital period:  4.2926±0.0000\n",
      "7500\n",
      "KIC 10340423  found @ index:  7526 orbital period:  18.7942±0.0001\n",
      "KIC 10340423  found @ index:  7526 orbital period:  6.7390±0.0000\n",
      "KIC 10350571  found @ index:  7697 orbital period:  31.5923±0.0007\n"
     ]
    }
   ],
   "source": [
    "# Assign labels to c4_kep\n",
    "not_found = 0\n",
    "stars_to_drop = []\n",
    "\n",
    "for j in range(len(c4_kep)): # for every light curve from has_planets\n",
    "    if j % 250 == 0:\n",
    "        print(j)\n",
    "\n",
    "    count = 0\n",
    "    for i in range(len(all_confirmed)): # look through each star name in the list of all confirmed planets\n",
    "        try:\n",
    "            if all_confirmed.loc[i, 'Alternative star names'].find(c4_kep.iloc[j, 0]) != -1:\n",
    "                count += 1\n",
    "                print(c4_kep.iloc[j, 0], ' found @ index: ', j, 'orbital period: ', all_confirmed.loc[i, 'Orbital period [days]'])\n",
    "                c4_kep.loc[j, '1'] = 1\n",
    "    \n",
    "        except AttributeError: # if the alternate star names value are null\n",
    "            try:\n",
    "                if all_confirmed.loc[i, 'Star name'].find(c4_kep.iloc[j, 0]) != -1:\n",
    "                    count += 1\n",
    "                    print(c4_kep.iloc[j, 0], ' found @ index: ', j, 'on 2nd level of loop', 'orbital period: ', all_confirmed.loc[i, 'Orbital period [days]'])\n",
    "                    c4_kep.loc[j, '1'] = 1\n",
    "                    \n",
    "            except AttributeError: # if this is null too, keep going\n",
    "                continue\n",
    "    if count == 0:\n",
    "        not_found += 1\n"
   ]
  },
  {
   "cell_type": "code",
   "execution_count": 8,
   "metadata": {},
   "outputs": [
    {
     "data": {
      "text/plain": [
       "0    7642\n",
       "1      71\n",
       "Name: 1, dtype: int64"
      ]
     },
     "execution_count": 8,
     "metadata": {},
     "output_type": "execute_result"
    }
   ],
   "source": [
    "c4_kep['1'].value_counts() # I counted only 6 stars with no planets with an orbit under 66 days in this set \n",
    "# indexes: 913, 986, 1028, 1099, 1553, 7167"
   ]
  },
  {
   "cell_type": "code",
   "execution_count": 11,
   "metadata": {},
   "outputs": [],
   "source": [
    "c4_kep.drop(index = [913, 986, 1028, 1099, 1553, 7167], inplace=True)"
   ]
  },
  {
   "cell_type": "code",
   "execution_count": 12,
   "metadata": {},
   "outputs": [],
   "source": [
    "c4_kep.reset_index(drop=True, inplace=True)"
   ]
  },
  {
   "cell_type": "code",
   "execution_count": 13,
   "metadata": {},
   "outputs": [
    {
     "data": {
      "text/plain": [
       "(7707, 4158)"
      ]
     },
     "execution_count": 13,
     "metadata": {},
     "output_type": "execute_result"
    }
   ],
   "source": [
    "c4_kep.shape"
   ]
  },
  {
   "cell_type": "markdown",
   "metadata": {},
   "source": [
    "### Preparing Data:\n",
    "Mix confirmed planets into data so the model can learn what they are like."
   ]
  },
  {
   "cell_type": "code",
   "execution_count": 14,
   "metadata": {
    "scrolled": true
   },
   "outputs": [],
   "source": [
    "# cut out the extra data to compare across the same timeline (~3200 points)\n",
    "join_planets = has_planets.iloc[:,:3199]\n",
    "\n",
    "# split c4_kep to add to training data\n",
    "to_train_on = c4_kep.head(2705).iloc[:,:3199]\n",
    "\n",
    "# set aside the last 5000 stars as a holdout set\n",
    "c4_holdout = c4_kep.tail(5000).iloc[:,:3199]"
   ]
  },
  {
   "cell_type": "code",
   "execution_count": 28,
   "metadata": {},
   "outputs": [],
   "source": [
    "join_planets = join_planets.head(1129) # there are null rows at the bottom of this df"
   ]
  },
  {
   "cell_type": "code",
   "execution_count": 30,
   "metadata": {
    "scrolled": false
   },
   "outputs": [],
   "source": [
    "master_df = pd.concat([join_planets, to_train_on], axis = 0)"
   ]
  },
  {
   "cell_type": "code",
   "execution_count": 36,
   "metadata": {},
   "outputs": [
    {
     "name": "stdout",
     "output_type": "stream",
     "text": [
      "Baseline Acc:  0.30073030777256127\n",
      "0.0    2681\n",
      "1.0    1153\n",
      "Name: 1, dtype: int64\n"
     ]
    }
   ],
   "source": [
    "# Calculate Baseline Accuracy\n",
    "val_count = master_df['1'].value_counts()\n",
    "base_acc = val_count[1] / val_count.sum()\n",
    "\n",
    "print('Baseline Acc: ', base_acc)\n",
    "print(val_count)"
   ]
  },
  {
   "cell_type": "markdown",
   "metadata": {},
   "source": [
    "### Scaling\n",
    "Normalize the light curves so that stars of different brightnesses can be compared."
   ]
  },
  {
   "cell_type": "code",
   "execution_count": 37,
   "metadata": {},
   "outputs": [],
   "source": [
    "# Make X and y\n",
    "X = master_df.iloc[:, 2:]\n",
    "y = master_df['1']\n",
    "\n",
    "# Train-Test-Split\n",
    "X_train, X_test, y_train, y_test = train_test_split(X, y, stratify = y)"
   ]
  },
  {
   "cell_type": "code",
   "execution_count": 38,
   "metadata": {},
   "outputs": [],
   "source": [
    "# instantiate StandardScaler as ss\n",
    "ss = StandardScaler()"
   ]
  },
  {
   "cell_type": "code",
   "execution_count": 39,
   "metadata": {},
   "outputs": [],
   "source": [
    "# transpose to scale each lightcurve row (rather than columns)\n",
    "X_train = X_train.T\n",
    "X_test = X_test.T\n",
    "\n",
    "# Scaling\n",
    "scaled_df = ss.fit_transform(X_train)\n",
    "X_train = pd.DataFrame(scaled_df, columns=X_train.columns)\n",
    "\n",
    "test_scaled_df = ss.fit_transform(X_test)\n",
    "X_test = pd.DataFrame(test_scaled_df, columns=X_test.columns)\n",
    "\n",
    "# Transpose back to normal\n",
    "X_train = X_train.T\n",
    "X_test = X_test.T"
   ]
  },
  {
   "cell_type": "code",
   "execution_count": 40,
   "metadata": {},
   "outputs": [],
   "source": [
    "# make into an array and then change the dimensions\n",
    "X_array = np.array(X_train)\n",
    "X_array = np.expand_dims(X_array, axis = 2)\n",
    "\n",
    "# do this for the test set too\n",
    "X_test_array = np.array(X_test)\n",
    "X_test_array = np.expand_dims(X_test_array, axis = 2)"
   ]
  },
  {
   "cell_type": "markdown",
   "metadata": {},
   "source": [
    "### Prepare Holdout Data:"
   ]
  },
  {
   "cell_type": "code",
   "execution_count": 41,
   "metadata": {},
   "outputs": [],
   "source": [
    "# slice out the light curve\n",
    "unseen_data = c4_holdout.iloc[:,2:3199]\n",
    "\n",
    "# Scale\n",
    "unseen_data = unseen_data.T # transpose to scale each lightcurve row (rather than columns)\n",
    "\n",
    "scaled_unseen = ss.fit_transform(unseen_data)\n",
    "unseen_data = pd.DataFrame(scaled_unseen, columns=unseen_data.columns)\n",
    "\n",
    "unseen_data = unseen_data.T # Transpose back to normal\n",
    "\n",
    "# Change the dimensions so it can be put through the neural network\n",
    "array_unseen = np.array(unseen_data)\n",
    "array_unseen = np.expand_dims(array_unseen, axis = 2)"
   ]
  },
  {
   "cell_type": "markdown",
   "metadata": {},
   "source": [
    "### Modeling:"
   ]
  },
  {
   "cell_type": "code",
   "execution_count": 306,
   "metadata": {},
   "outputs": [],
   "source": [
    "# Define model architecture\n",
    "model = Sequential()\n",
    "\n",
    "# Convolutional and layer.\n",
    "model.add(Conv1D(filters = 15, # tuned for 5\n",
    "                 kernel_size = (20),  # filter size, tuned for 15\n",
    "                 activation = 'relu',\n",
    "                 input_shape = (3197, 1))) # dimensions of training data\n",
    "# Pooling:\n",
    "model.add(MaxPooling1D(pool_size = (5))) # tuned for 5\n",
    "model.add(Dropout(0.1)) # regularization tuned for .1\n",
    "\n",
    "\n",
    "# Convolutional layer\n",
    "model.add(Conv1D(filters = 7, # tuned for 7\n",
    "                 kernel_size = 20, # tuned for 7\n",
    "                 activation = 'relu'))\n",
    "# Pooling layer.\n",
    "model.add(MaxPooling1D(pool_size = (7))) #tuned for 7\n",
    "model.add(Dropout(0.25)) # regularization tuned for .25\n",
    "\n",
    "# Convolutional layer\n",
    "model.add(Conv1D(filters = 10, # tuned to 10\n",
    "                 kernel_size = 30, # tuned to 10\n",
    "                 activation = 'relu'))\n",
    "# Pooling layer.\n",
    "model.add(MaxPooling1D(pool_size = (5))) # tuned to 5\n",
    "model.add(Dropout(0.5)) # regularization tuned to .5\n",
    "\n",
    "# In order to go from a convolutional/pooling layer, we have to organize our neurons.\n",
    "model.add(Flatten())\n",
    "\n",
    "# # Fully connected layers.\n",
    "# model.add(Dense(2500, activation = 'relu'))\n",
    "# model.add(Dropout(0.7)) # regularization tuned to .7\n",
    "\n",
    "# model.add(Dense(1000, activation = 'relu'))\n",
    "# model.add(Dropout(0.7)) # regularization tuned to .7\n",
    "\n",
    "model.add(Dense(600, activation = 'relu'))\n",
    "model.add(Dropout(0.3))\n",
    "\n",
    "model.add(Dense(600, activation = 'relu'))\n",
    "model.add(Dropout(0.3))\n",
    "\n",
    "# model.add(Dense(100, activation = 'relu'))\n",
    "\n",
    "\n",
    "# Output layer\n",
    "model.add(Dense(1, activation = 'sigmoid'))\n",
    "\n",
    "# Setting learning rate and decay\n",
    "learn_rate = 0.001\n",
    "# coef_reduce = .75 # x% reduction in learing_rate by epoch: coef_by_epoch\n",
    "# coef_by_epoch = 120\n",
    "\n",
    "# Calculate decay\n",
    "decay = 0 #(learn_rate - (coef_reduce * learn_rate)) / coef_by_epoch\n",
    "\n",
    "# Changing adam optimization parameters\n",
    "optimizers.adam(lr = learn_rate, decay = decay)\n",
    "\n",
    "# Compile model\n",
    "model.compile(loss = 'binary_crossentropy',\n",
    "              optimizer = 'adam',\n",
    "              metrics = ['accuracy'])"
   ]
  },
  {
   "cell_type": "code",
   "execution_count": 307,
   "metadata": {
    "scrolled": false
   },
   "outputs": [
    {
     "name": "stdout",
     "output_type": "stream",
     "text": [
      "Train on 2875 samples, validate on 959 samples\n",
      "Epoch 1/100\n",
      "2875/2875 [==============================] - 20s 7ms/step - loss: 0.6195 - acc: 0.6943 - val_loss: 0.6310 - val_acc: 0.6997\n",
      "Epoch 2/100\n",
      "2875/2875 [==============================] - 10s 4ms/step - loss: 0.6063 - acc: 0.6991 - val_loss: 0.6188 - val_acc: 0.6997\n",
      "Epoch 3/100\n",
      "2875/2875 [==============================] - 11s 4ms/step - loss: 0.6018 - acc: 0.6995 - val_loss: 0.6002 - val_acc: 0.6997\n",
      "Epoch 4/100\n",
      "2875/2875 [==============================] - 10s 4ms/step - loss: 0.5932 - acc: 0.6991 - val_loss: 0.6077 - val_acc: 0.6997\n",
      "Epoch 5/100\n",
      "2875/2875 [==============================] - 11s 4ms/step - loss: 0.5851 - acc: 0.6981 - val_loss: 0.5851 - val_acc: 0.6997\n",
      "Epoch 6/100\n",
      "2875/2875 [==============================] - 11s 4ms/step - loss: 0.5899 - acc: 0.6950 - val_loss: 0.5959 - val_acc: 0.6997\n",
      "Epoch 7/100\n",
      "2875/2875 [==============================] - 10s 4ms/step - loss: 0.5818 - acc: 0.7019 - val_loss: 0.6012 - val_acc: 0.7007\n",
      "Epoch 8/100\n",
      "2875/2875 [==============================] - 10s 4ms/step - loss: 0.5793 - acc: 0.7043 - val_loss: 0.5655 - val_acc: 0.7122\n",
      "Epoch 9/100\n",
      "2875/2875 [==============================] - 11s 4ms/step - loss: 0.5825 - acc: 0.7043 - val_loss: 0.5795 - val_acc: 0.7101\n",
      "Epoch 10/100\n",
      "2875/2875 [==============================] - 10s 4ms/step - loss: 0.5648 - acc: 0.7117 - val_loss: 0.5610 - val_acc: 0.7341\n",
      "Epoch 11/100\n",
      "2875/2875 [==============================] - 10s 4ms/step - loss: 0.5582 - acc: 0.7224 - val_loss: 0.5516 - val_acc: 0.7362\n",
      "Epoch 12/100\n",
      "2875/2875 [==============================] - 11s 4ms/step - loss: 0.5638 - acc: 0.7096 - val_loss: 0.5437 - val_acc: 0.7341\n",
      "Epoch 13/100\n",
      "2875/2875 [==============================] - 10s 4ms/step - loss: 0.5536 - acc: 0.7235 - val_loss: 0.5361 - val_acc: 0.7445\n",
      "Epoch 14/100\n",
      "2875/2875 [==============================] - 11s 4ms/step - loss: 0.5447 - acc: 0.7287 - val_loss: 0.5410 - val_acc: 0.7633\n",
      "Epoch 15/100\n",
      "2875/2875 [==============================] - 10s 4ms/step - loss: 0.5340 - acc: 0.7457 - val_loss: 0.5053 - val_acc: 0.7748\n",
      "Epoch 16/100\n",
      "2875/2875 [==============================] - 10s 4ms/step - loss: 0.5134 - acc: 0.7593 - val_loss: 0.4894 - val_acc: 0.7935\n",
      "Epoch 17/100\n",
      "2875/2875 [==============================] - 10s 4ms/step - loss: 0.5128 - acc: 0.7687 - val_loss: 0.4731 - val_acc: 0.7987\n",
      "Epoch 18/100\n",
      "2875/2875 [==============================] - 10s 4ms/step - loss: 0.4922 - acc: 0.7819 - val_loss: 0.4465 - val_acc: 0.8279\n",
      "Epoch 19/100\n",
      "2875/2875 [==============================] - 10s 4ms/step - loss: 0.4934 - acc: 0.7795 - val_loss: 0.4378 - val_acc: 0.8102\n",
      "Epoch 20/100\n",
      "2875/2875 [==============================] - 10s 4ms/step - loss: 0.4800 - acc: 0.7896 - val_loss: 0.4292 - val_acc: 0.8425\n",
      "Epoch 21/100\n",
      "2875/2875 [==============================] - 10s 4ms/step - loss: 0.4779 - acc: 0.7951 - val_loss: 0.4190 - val_acc: 0.8446\n",
      "Epoch 22/100\n",
      "2875/2875 [==============================] - 10s 4ms/step - loss: 0.4638 - acc: 0.7955 - val_loss: 0.4204 - val_acc: 0.8363\n",
      "Epoch 23/100\n",
      "2875/2875 [==============================] - 11s 4ms/step - loss: 0.4646 - acc: 0.8042 - val_loss: 0.4134 - val_acc: 0.8425\n",
      "Epoch 24/100\n",
      "2875/2875 [==============================] - 11s 4ms/step - loss: 0.4354 - acc: 0.8205 - val_loss: 0.3882 - val_acc: 0.8509\n",
      "Epoch 25/100\n",
      "2875/2875 [==============================] - 10s 4ms/step - loss: 0.4329 - acc: 0.8198 - val_loss: 0.3998 - val_acc: 0.8509\n",
      "Epoch 26/100\n",
      "2875/2875 [==============================] - 11s 4ms/step - loss: 0.4353 - acc: 0.8205 - val_loss: 0.3833 - val_acc: 0.8530\n",
      "Epoch 27/100\n",
      "2875/2875 [==============================] - 10s 4ms/step - loss: 0.4225 - acc: 0.8289 - val_loss: 0.4107 - val_acc: 0.8279\n",
      "Epoch 28/100\n",
      "2875/2875 [==============================] - 10s 4ms/step - loss: 0.4222 - acc: 0.8223 - val_loss: 0.3828 - val_acc: 0.8498\n",
      "Epoch 29/100\n",
      "2875/2875 [==============================] - 11s 4ms/step - loss: 0.4105 - acc: 0.8362 - val_loss: 0.3796 - val_acc: 0.8561\n",
      "Epoch 30/100\n",
      "2875/2875 [==============================] - 10s 4ms/step - loss: 0.4181 - acc: 0.8223 - val_loss: 0.3759 - val_acc: 0.8603\n",
      "Epoch 31/100\n",
      "2875/2875 [==============================] - 10s 4ms/step - loss: 0.4074 - acc: 0.8355 - val_loss: 0.3846 - val_acc: 0.8519\n",
      "Epoch 32/100\n",
      "2875/2875 [==============================] - 10s 4ms/step - loss: 0.4112 - acc: 0.8275 - val_loss: 0.3817 - val_acc: 0.8540\n",
      "Epoch 33/100\n",
      "2875/2875 [==============================] - 11s 4ms/step - loss: 0.4129 - acc: 0.8327 - val_loss: 0.3790 - val_acc: 0.8582\n",
      "Epoch 34/100\n",
      "2875/2875 [==============================] - 11s 4ms/step - loss: 0.4136 - acc: 0.8317 - val_loss: 0.3998 - val_acc: 0.8634\n",
      "Epoch 35/100\n",
      "2875/2875 [==============================] - 11s 4ms/step - loss: 0.3923 - acc: 0.8372 - val_loss: 0.3892 - val_acc: 0.8624\n",
      "Epoch 36/100\n",
      "2875/2875 [==============================] - 11s 4ms/step - loss: 0.3896 - acc: 0.8397 - val_loss: 0.3803 - val_acc: 0.8655\n",
      "Epoch 37/100\n",
      "2875/2875 [==============================] - 10s 4ms/step - loss: 0.3783 - acc: 0.8490 - val_loss: 0.3643 - val_acc: 0.8717\n",
      "Epoch 38/100\n",
      "2875/2875 [==============================] - 11s 4ms/step - loss: 0.3798 - acc: 0.8463 - val_loss: 0.4051 - val_acc: 0.8405\n",
      "Epoch 39/100\n",
      "2875/2875 [==============================] - 11s 4ms/step - loss: 0.4053 - acc: 0.8344 - val_loss: 0.3840 - val_acc: 0.8603\n",
      "Epoch 40/100\n",
      "2875/2875 [==============================] - 11s 4ms/step - loss: 0.3748 - acc: 0.8452 - val_loss: 0.3703 - val_acc: 0.8655\n",
      "Epoch 41/100\n",
      "2875/2875 [==============================] - 11s 4ms/step - loss: 0.3907 - acc: 0.8376 - val_loss: 0.3770 - val_acc: 0.8603\n",
      "Epoch 42/100\n",
      "2875/2875 [==============================] - 11s 4ms/step - loss: 0.3725 - acc: 0.8456 - val_loss: 0.3731 - val_acc: 0.8655\n",
      "Epoch 43/100\n",
      "2875/2875 [==============================] - 11s 4ms/step - loss: 0.3873 - acc: 0.8424 - val_loss: 0.3710 - val_acc: 0.8665\n",
      "Epoch 44/100\n",
      "2875/2875 [==============================] - 11s 4ms/step - loss: 0.3822 - acc: 0.8386 - val_loss: 0.3683 - val_acc: 0.8717\n",
      "Epoch 45/100\n",
      "2875/2875 [==============================] - 11s 4ms/step - loss: 0.3755 - acc: 0.8463 - val_loss: 0.3670 - val_acc: 0.8665\n",
      "Epoch 46/100\n",
      "2875/2875 [==============================] - 11s 4ms/step - loss: 0.3857 - acc: 0.8421 - val_loss: 0.3762 - val_acc: 0.8613\n",
      "Epoch 47/100\n",
      "2875/2875 [==============================] - 11s 4ms/step - loss: 0.3762 - acc: 0.8456 - val_loss: 0.3773 - val_acc: 0.8540\n",
      "Epoch 48/100\n",
      "2875/2875 [==============================] - 10s 4ms/step - loss: 0.3672 - acc: 0.8518 - val_loss: 0.3674 - val_acc: 0.8676\n",
      "Epoch 49/100\n",
      "2875/2875 [==============================] - 10s 4ms/step - loss: 0.3570 - acc: 0.8508 - val_loss: 0.3623 - val_acc: 0.8634\n",
      "Epoch 50/100\n",
      "2875/2875 [==============================] - 11s 4ms/step - loss: 0.3580 - acc: 0.8609 - val_loss: 0.3649 - val_acc: 0.8519\n",
      "Epoch 51/100\n",
      "2875/2875 [==============================] - 11s 4ms/step - loss: 0.3763 - acc: 0.8400 - val_loss: 0.3603 - val_acc: 0.8717\n",
      "Epoch 52/100\n",
      "2875/2875 [==============================] - 11s 4ms/step - loss: 0.3605 - acc: 0.8539 - val_loss: 0.3684 - val_acc: 0.8655\n",
      "Epoch 53/100\n",
      "2875/2875 [==============================] - 11s 4ms/step - loss: 0.3595 - acc: 0.8560 - val_loss: 0.3673 - val_acc: 0.8686\n",
      "Epoch 54/100\n",
      "2875/2875 [==============================] - 11s 4ms/step - loss: 0.3496 - acc: 0.8633 - val_loss: 0.3614 - val_acc: 0.8697\n",
      "Epoch 55/100\n",
      "2875/2875 [==============================] - 11s 4ms/step - loss: 0.3587 - acc: 0.8605 - val_loss: 0.3657 - val_acc: 0.8759\n",
      "Epoch 56/100\n",
      "2875/2875 [==============================] - 11s 4ms/step - loss: 0.3411 - acc: 0.8616 - val_loss: 0.3634 - val_acc: 0.8717\n",
      "Epoch 57/100\n",
      "2875/2875 [==============================] - 11s 4ms/step - loss: 0.3462 - acc: 0.8588 - val_loss: 0.3626 - val_acc: 0.8686\n",
      "Epoch 58/100\n",
      "2875/2875 [==============================] - 11s 4ms/step - loss: 0.3466 - acc: 0.8595 - val_loss: 0.3722 - val_acc: 0.8655\n",
      "Epoch 59/100\n",
      "2875/2875 [==============================] - 11s 4ms/step - loss: 0.3595 - acc: 0.8595 - val_loss: 0.3683 - val_acc: 0.8603\n",
      "Epoch 60/100\n"
     ]
    },
    {
     "name": "stdout",
     "output_type": "stream",
     "text": [
      "2875/2875 [==============================] - 11s 4ms/step - loss: 0.3622 - acc: 0.8494 - val_loss: 0.3697 - val_acc: 0.8707\n",
      "Epoch 61/100\n",
      "2875/2875 [==============================] - 10s 4ms/step - loss: 0.3467 - acc: 0.8529 - val_loss: 0.3551 - val_acc: 0.8738\n",
      "Epoch 62/100\n",
      "2875/2875 [==============================] - 10s 4ms/step - loss: 0.3527 - acc: 0.8557 - val_loss: 0.3667 - val_acc: 0.8655\n",
      "Epoch 63/100\n",
      "2875/2875 [==============================] - 11s 4ms/step - loss: 0.3535 - acc: 0.8539 - val_loss: 0.3543 - val_acc: 0.8707\n",
      "Epoch 64/100\n",
      "2875/2875 [==============================] - 10s 4ms/step - loss: 0.3335 - acc: 0.8664 - val_loss: 0.3647 - val_acc: 0.8644\n",
      "Epoch 65/100\n",
      "2875/2875 [==============================] - 10s 4ms/step - loss: 0.3368 - acc: 0.8668 - val_loss: 0.3566 - val_acc: 0.8665\n",
      "Epoch 66/100\n",
      "2875/2875 [==============================] - 10s 4ms/step - loss: 0.3331 - acc: 0.8647 - val_loss: 0.3490 - val_acc: 0.8790\n",
      "Epoch 67/100\n",
      "2875/2875 [==============================] - 11s 4ms/step - loss: 0.3259 - acc: 0.8682 - val_loss: 0.3592 - val_acc: 0.8676\n",
      "Epoch 68/100\n",
      "2875/2875 [==============================] - 11s 4ms/step - loss: 0.3326 - acc: 0.8650 - val_loss: 0.3502 - val_acc: 0.8717\n",
      "Epoch 69/100\n",
      "2875/2875 [==============================] - 10s 4ms/step - loss: 0.3514 - acc: 0.8581 - val_loss: 0.3620 - val_acc: 0.8686\n",
      "Epoch 70/100\n",
      "2875/2875 [==============================] - 11s 4ms/step - loss: 0.3361 - acc: 0.8640 - val_loss: 0.3861 - val_acc: 0.8592\n",
      "Epoch 71/100\n",
      "2875/2875 [==============================] - 10s 4ms/step - loss: 0.3414 - acc: 0.8623 - val_loss: 0.3678 - val_acc: 0.8624\n",
      "Epoch 72/100\n",
      "2875/2875 [==============================] - 10s 4ms/step - loss: 0.3275 - acc: 0.8696 - val_loss: 0.3689 - val_acc: 0.8697\n",
      "Epoch 73/100\n",
      "2875/2875 [==============================] - 10s 4ms/step - loss: 0.3347 - acc: 0.8703 - val_loss: 0.3543 - val_acc: 0.8665\n",
      "Epoch 74/100\n",
      "2875/2875 [==============================] - 11s 4ms/step - loss: 0.3268 - acc: 0.8616 - val_loss: 0.3670 - val_acc: 0.8644\n",
      "Epoch 75/100\n",
      "2875/2875 [==============================] - 10s 4ms/step - loss: 0.3279 - acc: 0.8626 - val_loss: 0.3656 - val_acc: 0.8676\n",
      "Epoch 76/100\n",
      "2875/2875 [==============================] - 10s 4ms/step - loss: 0.3392 - acc: 0.8546 - val_loss: 0.3584 - val_acc: 0.8749\n",
      "Epoch 77/100\n",
      "2875/2875 [==============================] - 11s 4ms/step - loss: 0.3238 - acc: 0.8737 - val_loss: 0.3662 - val_acc: 0.8686\n",
      "Epoch 78/100\n",
      "2875/2875 [==============================] - 10s 4ms/step - loss: 0.3250 - acc: 0.8657 - val_loss: 0.3877 - val_acc: 0.8613\n",
      "Epoch 79/100\n",
      "2875/2875 [==============================] - 10s 4ms/step - loss: 0.3309 - acc: 0.8706 - val_loss: 0.3765 - val_acc: 0.8728\n",
      "Epoch 80/100\n",
      "2875/2875 [==============================] - 10s 4ms/step - loss: 0.3261 - acc: 0.8650 - val_loss: 0.3672 - val_acc: 0.8759\n",
      "Epoch 81/100\n",
      "2875/2875 [==============================] - 11s 4ms/step - loss: 0.3233 - acc: 0.8689 - val_loss: 0.3635 - val_acc: 0.8728\n",
      "Epoch 82/100\n",
      "2875/2875 [==============================] - 10s 4ms/step - loss: 0.3191 - acc: 0.8706 - val_loss: 0.3568 - val_acc: 0.8707\n",
      "Epoch 83/100\n",
      "2875/2875 [==============================] - 11s 4ms/step - loss: 0.3299 - acc: 0.8654 - val_loss: 0.3640 - val_acc: 0.8749\n",
      "Epoch 84/100\n",
      "2875/2875 [==============================] - 10s 4ms/step - loss: 0.3174 - acc: 0.8720 - val_loss: 0.3656 - val_acc: 0.8717\n",
      "Epoch 85/100\n",
      "2875/2875 [==============================] - 10s 4ms/step - loss: 0.3153 - acc: 0.8748 - val_loss: 0.3717 - val_acc: 0.8697\n",
      "Epoch 86/100\n",
      "2875/2875 [==============================] - 11s 4ms/step - loss: 0.3276 - acc: 0.8657 - val_loss: 0.3731 - val_acc: 0.8676\n",
      "Epoch 87/100\n",
      "2875/2875 [==============================] - 10s 4ms/step - loss: 0.3264 - acc: 0.8720 - val_loss: 0.3637 - val_acc: 0.8707\n",
      "Epoch 88/100\n",
      "2875/2875 [==============================] - 11s 4ms/step - loss: 0.3091 - acc: 0.8744 - val_loss: 0.3733 - val_acc: 0.8655\n",
      "Epoch 89/100\n",
      "2875/2875 [==============================] - 10s 4ms/step - loss: 0.3289 - acc: 0.8730 - val_loss: 0.3588 - val_acc: 0.8749\n",
      "Epoch 90/100\n",
      "2875/2875 [==============================] - 10s 4ms/step - loss: 0.3098 - acc: 0.8737 - val_loss: 0.3699 - val_acc: 0.8634\n",
      "Epoch 91/100\n",
      "2875/2875 [==============================] - 11s 4ms/step - loss: 0.3238 - acc: 0.8717 - val_loss: 0.3518 - val_acc: 0.8780\n",
      "Epoch 92/100\n",
      "2875/2875 [==============================] - 10s 4ms/step - loss: 0.3251 - acc: 0.8664 - val_loss: 0.3692 - val_acc: 0.8717\n",
      "Epoch 93/100\n",
      "2875/2875 [==============================] - 11s 4ms/step - loss: 0.3177 - acc: 0.8727 - val_loss: 0.3555 - val_acc: 0.8832\n",
      "Epoch 94/100\n",
      "2875/2875 [==============================] - 11s 4ms/step - loss: 0.3209 - acc: 0.8682 - val_loss: 0.3550 - val_acc: 0.8832\n",
      "Epoch 95/100\n",
      "2875/2875 [==============================] - 10s 4ms/step - loss: 0.3233 - acc: 0.8713 - val_loss: 0.3607 - val_acc: 0.8676\n",
      "Epoch 96/100\n",
      "2875/2875 [==============================] - 10s 4ms/step - loss: 0.3025 - acc: 0.8776 - val_loss: 0.3780 - val_acc: 0.8686\n",
      "Epoch 97/100\n",
      "2875/2875 [==============================] - 11s 4ms/step - loss: 0.3068 - acc: 0.8751 - val_loss: 0.3599 - val_acc: 0.8738\n",
      "Epoch 98/100\n",
      "2875/2875 [==============================] - 10s 4ms/step - loss: 0.3032 - acc: 0.8824 - val_loss: 0.3755 - val_acc: 0.8686\n",
      "Epoch 99/100\n",
      "2875/2875 [==============================] - 11s 4ms/step - loss: 0.3028 - acc: 0.8762 - val_loss: 0.3537 - val_acc: 0.8759\n",
      "Epoch 100/100\n",
      "2875/2875 [==============================] - 11s 4ms/step - loss: 0.2942 - acc: 0.8828 - val_loss: 0.3588 - val_acc: 0.8728\n"
     ]
    }
   ],
   "source": [
    "result = model.fit(X_array,\n",
    "                    y_train,\n",
    "                    batch_size = 64,\n",
    "                    epochs = 100,\n",
    "                    verbose = 1,\n",
    "                   validation_data = (X_test_array, y_test))"
   ]
  },
  {
   "cell_type": "code",
   "execution_count": 308,
   "metadata": {
    "scrolled": false
   },
   "outputs": [
    {
     "data": {
      "image/png": "[encoded data removed]",
      "text/plain": [
       "<Figure size 432x288 with 1 Axes>"
      ]
     },
     "metadata": {
      "needs_background": "light"
     },
     "output_type": "display_data"
    }
   ],
   "source": [
    "# Plot accuracy over time.\n",
    "plt.figure()\n",
    "\n",
    "plt.plot(result.history['acc'])\n",
    "plt.plot(result.history['val_acc'])\n",
    "\n",
    "plt.title('Model Accuracy')\n",
    "\n",
    "plt.ylabel('Accuracy')\n",
    "plt.xlabel('Epoch (# of iterations)')\n",
    "\n",
    "plt.legend(['Train', 'Test'], loc='best')\n",
    "\n",
    "plt.grid()\n",
    "\n",
    "plt.show();"
   ]
  },
  {
   "cell_type": "code",
   "execution_count": 309,
   "metadata": {},
   "outputs": [
    {
     "data": {
      "image/png": "[encoded data removed]",
      "text/plain": [
       "<Figure size 432x288 with 1 Axes>"
      ]
     },
     "metadata": {
      "needs_background": "light"
     },
     "output_type": "display_data"
    }
   ],
   "source": [
    "# Plot loss over time.\n",
    "plt.figure()\n",
    "\n",
    "\n",
    "plt.plot(result.history['loss'], color = 'green')\n",
    "plt.plot(result.history['val_loss'], color = 'orange')\n",
    "\n",
    "\n",
    "plt.title('Model Loss Score')\n",
    "\n",
    "\n",
    "plt.ylabel('Loss Score')\n",
    "plt.xlabel('Epoch (# of iterations)')\n",
    "\n",
    "\n",
    "plt.legend(['Train Loss', 'Test Loss'], loc='best')\n",
    "\n",
    "\n",
    "plt.grid()\n",
    "\n",
    "\n",
    "plt.show();"
   ]
  },
  {
   "cell_type": "markdown",
   "metadata": {},
   "source": [
    "### Testing on Unseen Data:\n",
    "Now that the model has been fit, lets see if we can use it to detect some planets in data not seen before."
   ]
  },
  {
   "cell_type": "code",
   "execution_count": 310,
   "metadata": {},
   "outputs": [],
   "source": [
    "# Make Predictions\n",
    "y_unseen = model.predict_classes(array_unseen)"
   ]
  },
  {
   "cell_type": "code",
   "execution_count": 311,
   "metadata": {
    "scrolled": true
   },
   "outputs": [
    {
     "name": "stdout",
     "output_type": "stream",
     "text": [
      "0.034 % Predicted to have planets\n",
      "0    4831\n",
      "1     169\n",
      "Name: prediction, dtype: int64\n",
      "0.008 % actually have planets\n",
      "0    4959\n",
      "1      41\n",
      "Name: 1, dtype: int64\n",
      "13  True positive planet stars predicted  7.69 % of all predictions 9.38  times better than chance\n",
      "156  False postives 92.31 % of all predicted\n"
     ]
    }
   ],
   "source": [
    "# make predictions df\n",
    "yhat_unseen = pd.DataFrame(y_unseen, columns=['prediction'])\n",
    "\n",
    "# make df of true labels and index\n",
    "true_y_unseen = c4_holdout['1']\n",
    "true_y_unseen_df = pd.DataFrame(true_y_unseen)#, columns=['true'])\n",
    "true_y_unseen_df.reset_index(inplace=True)\n",
    "\n",
    "compare_df = pd.concat((true_y_unseen_df, yhat_unseen), axis=1)#, join = 'outer')\n",
    "\n",
    "# print out prediction rate and value_counts\n",
    "val_counts = yhat_unseen['prediction'].value_counts()\n",
    "print(round(val_counts[1]/val_counts.sum(), 3), '% Predicted to have planets')\n",
    "print(val_counts)\n",
    "\n",
    "# print out true rate and value_counts\n",
    "val_counts2 = true_y_unseen.value_counts()\n",
    "print(round(val_counts2[1]/val_counts2.sum(), 3), '% actually have planets')\n",
    "print(val_counts2)\n",
    "\n",
    "true_masked = compare_df[compare_df['1'] == 1]\n",
    "fp = val_counts[1] - true_masked['prediction'].sum()\n",
    "tp = true_masked['prediction'].sum()\n",
    "\n",
    "# compare predictions to true\n",
    "\n",
    "print(tp, ' True positive planet stars predicted ',\n",
    "      round((tp/val_counts[1])*100, 2), '% of all predictions',\n",
    "     round((tp/val_counts[1])/(val_counts2[1]/val_counts2.sum()), 2), ' times better than chance')\n",
    "print(fp, ' False postives', round((fp / val_counts[1])*100, 2), '% of all predicted')\n"
   ]
  },
  {
   "cell_type": "code",
   "execution_count": null,
   "metadata": {},
   "outputs": [],
   "source": []
  },
  {
   "cell_type": "code",
   "execution_count": null,
   "metadata": {},
   "outputs": [],
   "source": []
  },
  {
   "cell_type": "code",
   "execution_count": null,
   "metadata": {},
   "outputs": [],
   "source": []
  },
  {
   "cell_type": "code",
   "execution_count": null,
   "metadata": {},
   "outputs": [],
   "source": []
  }
 ],
 "metadata": {
  "kernelspec": {
   "display_name": "Python 3",
   "language": "python",
   "name": "python3"
  },
  "language_info": {
   "codemirror_mode": {
    "name": "ipython",
    "version": 3
   },
   "file_extension": ".py",
   "mimetype": "text/x-python",
   "name": "python",
   "nbconvert_exporter": "python",
   "pygments_lexer": "ipython3",
   "version": "3.6.6"
  }
 },
 "nbformat": 4,
 "nbformat_minor": 2
}
