{
 "cells": [
  {
   "cell_type": "markdown",
   "metadata": {},
   "source": [
    "### Imports:"
   ]
  },
  {
   "cell_type": "code",
   "execution_count": 1,
   "metadata": {},
   "outputs": [],
   "source": [
    "import pandas as pd\n",
    "import os\n",
    "import time\n",
    "from astropy.io import fits"
   ]
  },
  {
   "cell_type": "markdown",
   "metadata": {},
   "source": [
    "### Extractioning the Light Curve:\n",
    "The light curve data in the .fit files is contained in a list of tuples along with other measurements. <br>\n",
    "Each tuple is an observation point for a specific time, the observations are taken 30min apart. <br>\n",
    "We want the 3rd value in each tuple, which corresponds to the corrected flux levels recorded by the instruments in the spacecraft in electrons per second. <br>\n",
    "#### This loop extracts this data from each .fit file, compiles it into a dataframe, and saves the dataframe as .csv file."
   ]
  },
  {
   "cell_type": "code",
   "execution_count": 2,
   "metadata": {},
   "outputs": [],
   "source": [
    "### If extracting from confirmed_planets you must set to item[7] when iterating through items in the .fit data\n",
    "#     item[2] for k2c1\n",
    "directory = '../raw_space_data/Kepler_Q4/'\n",
    "save_name = 'extracted_kep_c4'"
   ]
  },
  {
   "cell_type": "code",
   "execution_count": null,
   "metadata": {},
   "outputs": [
    {
     "name": "stdout",
     "output_type": "stream",
     "text": [
      "Rows saved:  0   0.23  min runtime.\n",
      "Rows saved:  100   9.39  min runtime.\n",
      "Rows saved:  200   18.35  min runtime.\n",
      "Rows saved:  300   27.11  min runtime.\n",
      "Rows saved:  400   36.67  min runtime.\n",
      "Rows saved:  500   46.87  min runtime.\n",
      "Rows saved:  600   57.05  min runtime.\n"
     ]
    }
   ],
   "source": [
    "start_time = time.time()\n",
    "\n",
    "# The following lines will prepare things to be run through the loop\n",
    "col_names = ['star_name', 'exposure']\n",
    "df = pd.DataFrame(columns = [col_names])\n",
    "i = 0\n",
    "\n",
    "for filename in os.listdir(directory): # Loop through every .fit file in the directory\n",
    "#     if i > 5:\n",
    "#         break\n",
    "    if filename.endswith(\".fits\"):\n",
    "   \n",
    "        fit_data = fits.open(directory + filename)\n",
    "        if fit_data[1].header['EXPOSURE'] < 65: # if the exposure is less than 65 days, skip this file\n",
    "            continue\n",
    "        df.loc[i, 'star_name'] = fit_data[1].header['OBJECT']    # Extract the star's name\n",
    "        df.loc[i, 'exposure'] = fit_data[1].header['EXPOSURE']   # Extract the amount of time Kepler was recording the target\n",
    "        \n",
    "        j = 0 \n",
    "        for item in fit_data[1].data:     # iterate through the items in the .fit data \n",
    "            col_name = 'c_flux_' + str(j) # create the column label\n",
    "            df.loc[i, col_name] = item[7] # item[7] for confirmed planets, item[2] for k2c1, extract the corrected flux levels for each item and put it all in a row\n",
    "            \n",
    "            j += 1\n",
    "#             if j > 4000: # We won't be needing more columns than this for this project\n",
    "#                 break\n",
    "        \n",
    "        if i % 100 == 0: # save the progress and print out some feedback every 100 files\n",
    "            df.to_csv(('../' + save_name + '.csv'), index=False)\n",
    "            print('Rows saved: ', i, ' ', round((time.time() - start_time)/60, 2), ' min runtime.')\n",
    "        \n",
    "        i += 1\n",
    "\n",
    "# Done!\n",
    "df.to_csv(('../' + save_name + '.csv'), index=False)\n",
    "print('DONE!!!!!', 'Runtime: ', round((time.time() - start_time)/60, 3), ' minutes')"
   ]
  },
  {
   "cell_type": "markdown",
   "metadata": {},
   "source": [
    "### Check the Dataframe to be Sure Everything Worked:\n",
    "There should be some null values at the end of most of the rows because not all the light curves are the same length."
   ]
  },
  {
   "cell_type": "code",
   "execution_count": null,
   "metadata": {
    "scrolled": true
   },
   "outputs": [],
   "source": [
    "df.tail()"
   ]
  },
  {
   "cell_type": "markdown",
   "metadata": {},
   "source": [
    "### Save a Backup File.\n",
    "Just in case..."
   ]
  },
  {
   "cell_type": "code",
   "execution_count": null,
   "metadata": {},
   "outputs": [],
   "source": [
    "df.to_csv(('../' + save_name + '_backup.csv'), index=False)"
   ]
  },
  {
   "cell_type": "markdown",
   "metadata": {},
   "source": [
    "Check to see that the file can be read:"
   ]
  },
  {
   "cell_type": "code",
   "execution_count": null,
   "metadata": {
    "scrolled": true
   },
   "outputs": [],
   "source": [
    "# clean = pd.read_csv('../clean_confirmed_planets_part2.csv')\n",
    "# clean.head()"
   ]
  },
  {
   "cell_type": "markdown",
   "metadata": {},
   "source": [
    "### Great! Everything looks good!"
   ]
  },
  {
   "cell_type": "code",
   "execution_count": null,
   "metadata": {},
   "outputs": [],
   "source": [
    "fit_check = fits.open(directory + 'kplr010000056-2010078095331_llc.fits')\n"
   ]
  },
  {
   "cell_type": "code",
   "execution_count": null,
   "metadata": {},
   "outputs": [],
   "source": [
    "data_check = fit_check[1].data\n",
    "fit_check[1].header"
   ]
  },
  {
   "cell_type": "code",
   "execution_count": null,
   "metadata": {},
   "outputs": [],
   "source": [
    "data_check"
   ]
  },
  {
   "cell_type": "code",
   "execution_count": null,
   "metadata": {},
   "outputs": [],
   "source": [
    "checking = []\n",
    "for i in range(len(data_check)):\n",
    "    checking.append(data_check[i][7])"
   ]
  },
  {
   "cell_type": "code",
   "execution_count": null,
   "metadata": {},
   "outputs": [],
   "source": [
    "plt.scatter(range(len(data_check)),checking)\n",
    "# plt.ylim(335900, 336250)"
   ]
  },
  {
   "cell_type": "code",
   "execution_count": null,
   "metadata": {},
   "outputs": [],
   "source": [
    "import matplotlib.pyplot as plt\n",
    "\n",
    "%matplotlib inline"
   ]
  },
  {
   "cell_type": "code",
   "execution_count": null,
   "metadata": {},
   "outputs": [],
   "source": [
    "# checking"
   ]
  },
  {
   "cell_type": "code",
   "execution_count": null,
   "metadata": {},
   "outputs": [],
   "source": []
  }
 ],
 "metadata": {
  "kernelspec": {
   "display_name": "Python 3",
   "language": "python",
   "name": "python3"
  },
  "language_info": {
   "codemirror_mode": {
    "name": "ipython",
    "version": 3
   },
   "file_extension": ".py",
   "mimetype": "text/x-python",
   "name": "python",
   "nbconvert_exporter": "python",
   "pygments_lexer": "ipython3",
   "version": "3.6.6"
  }
 },
 "nbformat": 4,
 "nbformat_minor": 2
}
